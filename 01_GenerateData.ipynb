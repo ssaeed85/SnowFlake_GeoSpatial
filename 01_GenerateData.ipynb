{
 "cells": [
  {
   "cell_type": "markdown",
   "metadata": {},
   "source": [
    "# Generate Data"
   ]
  },
  {
   "cell_type": "markdown",
   "metadata": {},
   "source": [
    "#### Base Classes and Imports"
   ]
  },
  {
   "cell_type": "code",
   "execution_count": null,
   "metadata": {},
   "outputs": [],
   "source": [
    "import numpy as np\n",
    "import pandas as pd"
   ]
  },
  {
   "cell_type": "code",
   "execution_count": 22,
   "metadata": {},
   "outputs": [],
   "source": [
    "class BaseEntity:\n",
    "    def __init__(self, **kwargs):\n",
    "        for key, value in kwargs.items():\n",
    "            setattr(self, key, value)\n",
    "\n",
    "    def __repr__(self):\n",
    "        attrs = ', '.join(f\"{key}={value}\" for key, value in self.__dict__.items())\n",
    "        return f\"{self.__class__.__name__}({attrs})\"\n",
    "    \n",
    "    def showDataFrame(self):\n",
    "        return pd.DataFrame([self.__dict__])\n",
    "\n",
    "\n",
    "class Store(BaseEntity):\n",
    "    all_stores = []  # Class-level list to store all instances of Store\n",
    "\n",
    "    def __init__(self, store_id, latitude, longitude, store_name, opendt):\n",
    "        super().__init__(STORE_ID=store_id, \n",
    "                         LATITUDE=latitude, \n",
    "                         LONGITUDE=longitude, \n",
    "                         STORE_NAME=store_name, \n",
    "                         OPENDT=opendt)\n",
    "        Store.all_stores.append(self)  # Add each instance to the class-level list\n",
    "\n",
    "    def __repr__(self):\n",
    "        return f\"Store(store_id={self.STORE_ID}, lat={self.LATITUDE}, lon={self.LONGITUDE}, name={self.STORE_NAME}, opendt={self.OPENDT})\"\n",
    "\n",
    "    @classmethod\n",
    "    def display_all_stores(cls):\n",
    "        \"\"\"\n",
    "        Display a DataFrame of all store instances.\n",
    "        \"\"\"\n",
    "        return pd.DataFrame([store.__dict__ for store in cls.all_stores])\n",
    "    \n",
    "\n",
    "class Customer(BaseEntity):\n",
    "    all_customers = []  # Class-level list to store all instances of Customers\n",
    "    def __init__(self, customer_id, latitude, longitude, firstname, lastname, homestore_ID):\n",
    "        super().__init__(CUSTOMER_ID=customer_id, \n",
    "                         LATITUDE=latitude, \n",
    "                         LONGITUDE=longitude, \n",
    "                         FIRSTNAME=firstname, \n",
    "                         LASTNAME=lastname, \n",
    "                         HOMESTORE_ID=homestore_ID)\n",
    "        Customer.all_customers.append(self)  # Add each instance to the class-level list\n",
    "\n",
    "    def __repr__(self):\n",
    "        return f\"Customer(customer_id={self.CUSTOMER_ID}, lat={self.LATITUDE}, lon={self.LONGITUDE}, name={self.FIRSTNAME} {self.LASTNAME}, homestoreID={self.HOMESTORE_ID})\"\n",
    "    \n",
    "    @classmethod\n",
    "    def display_all_customers(cls):\n",
    "        \"\"\"\n",
    "        Display a DataFrame of all customer instances.\n",
    "        \"\"\"\n",
    "        return pd.DataFrame([cust.__dict__ for cust in cls.all_customers])\n",
    "    \n",
    "class Order(BaseEntity):\n",
    "    all_orders = []  # Class-level list to store all instances of Orders\n",
    "    def __init__(self, order_id, customer_id, store_id, order_date, subtotal,tax, total):        \n",
    "        super().__init__(ORDER_ID=order_id, \n",
    "                         CUSTOMER_ID=customer_id, \n",
    "                         STORE_ID=store_id, \n",
    "                         ORDER_DATE=order_date, \n",
    "                         SUBTOTAL=subtotal,\n",
    "                         TAX=tax,\n",
    "                         TOTAL=total)\n",
    "\n",
    "    @classmethod\n",
    "    def display_all_orders(cls):\n",
    "        \"\"\"\n",
    "        Display a DataFrame of all order instances.\n",
    "        \"\"\"\n",
    "        return pd.DataFrame([order.__dict__ for order in cls.all_orders])"
   ]
  },
  {
   "cell_type": "markdown",
   "metadata": {},
   "source": [
    "#### Generate random store locations"
   ]
  },
  {
   "cell_type": "code",
   "execution_count": 23,
   "metadata": {},
   "outputs": [],
   "source": [
    "# Bounding box coordinates for the area of interest\n",
    "min_lat, max_lat = 33.0633, 33.2182\n",
    "min_lon, max_lon = -96.9162, -96.6718\n",
    "\n",
    "num_stores = 10\n",
    "\n",
    "import random\n",
    "random.seed(1033)  # For reproducibility"
   ]
  },
  {
   "cell_type": "code",
   "execution_count": 24,
   "metadata": {},
   "outputs": [
    {
     "data": {
      "application/vnd.microsoft.datawrangler.viewer.v0+json": {
       "columns": [
        {
         "name": "index",
         "rawType": "int64",
         "type": "integer"
        },
        {
         "name": "STORE_ID",
         "rawType": "int64",
         "type": "integer"
        },
        {
         "name": "LATITUDE",
         "rawType": "float64",
         "type": "float"
        },
        {
         "name": "LONGITUDE",
         "rawType": "float64",
         "type": "float"
        },
        {
         "name": "STORE_NAME",
         "rawType": "object",
         "type": "string"
        },
        {
         "name": "OPENDT",
         "rawType": "object",
         "type": "string"
        }
       ],
       "conversionMethod": "pd.DataFrame",
       "ref": "d508e4fa-df25-4367-8780-5e974749bc9b",
       "rows": [
        [
         "0",
         "3431",
         "33.18667",
         "-96.8761",
         "Panucci's Pizza - 3431",
         "2012-11-13"
        ],
        [
         "1",
         "4464",
         "33.07242",
         "-96.79917",
         "Panucci's Pizza - 4464",
         "2011-11-16"
        ],
        [
         "2",
         "7496",
         "33.15334",
         "-96.73341",
         "Panucci's Pizza - 7496",
         "2016-11-12"
        ],
        [
         "3",
         "1119",
         "33.11117",
         "-96.83614",
         "Panucci's Pizza - 1119",
         "2014-09-06"
        ],
        [
         "4",
         "1249",
         "33.13475",
         "-96.84477",
         "Panucci's Pizza - 1249",
         "2010-02-02"
        ],
        [
         "5",
         "3789",
         "33.106",
         "-96.74276",
         "Panucci's Pizza - 3789",
         "2018-06-23"
        ],
        [
         "6",
         "151",
         "33.11653",
         "-96.82622",
         "Panucci's Pizza - 151",
         "2013-01-28"
        ],
        [
         "7",
         "6202",
         "33.16028",
         "-96.90773",
         "Panucci's Pizza - 6202",
         "2020-02-12"
        ],
        [
         "8",
         "6144",
         "33.20155",
         "-96.75194",
         "Panucci's Pizza - 6144",
         "2014-12-10"
        ],
        [
         "9",
         "2510",
         "33.14326",
         "-96.69223",
         "Panucci's Pizza - 2510",
         "2012-06-19"
        ]
       ],
       "shape": {
        "columns": 5,
        "rows": 10
       }
      },
      "text/html": [
       "<div>\n",
       "<style scoped>\n",
       "    .dataframe tbody tr th:only-of-type {\n",
       "        vertical-align: middle;\n",
       "    }\n",
       "\n",
       "    .dataframe tbody tr th {\n",
       "        vertical-align: top;\n",
       "    }\n",
       "\n",
       "    .dataframe thead th {\n",
       "        text-align: right;\n",
       "    }\n",
       "</style>\n",
       "<table border=\"1\" class=\"dataframe\">\n",
       "  <thead>\n",
       "    <tr style=\"text-align: right;\">\n",
       "      <th></th>\n",
       "      <th>STORE_ID</th>\n",
       "      <th>LATITUDE</th>\n",
       "      <th>LONGITUDE</th>\n",
       "      <th>STORE_NAME</th>\n",
       "      <th>OPENDT</th>\n",
       "    </tr>\n",
       "  </thead>\n",
       "  <tbody>\n",
       "    <tr>\n",
       "      <th>0</th>\n",
       "      <td>3431</td>\n",
       "      <td>33.18667</td>\n",
       "      <td>-96.87610</td>\n",
       "      <td>Panucci's Pizza - 3431</td>\n",
       "      <td>2012-11-13</td>\n",
       "    </tr>\n",
       "    <tr>\n",
       "      <th>1</th>\n",
       "      <td>4464</td>\n",
       "      <td>33.07242</td>\n",
       "      <td>-96.79917</td>\n",
       "      <td>Panucci's Pizza - 4464</td>\n",
       "      <td>2011-11-16</td>\n",
       "    </tr>\n",
       "    <tr>\n",
       "      <th>2</th>\n",
       "      <td>7496</td>\n",
       "      <td>33.15334</td>\n",
       "      <td>-96.73341</td>\n",
       "      <td>Panucci's Pizza - 7496</td>\n",
       "      <td>2016-11-12</td>\n",
       "    </tr>\n",
       "    <tr>\n",
       "      <th>3</th>\n",
       "      <td>1119</td>\n",
       "      <td>33.11117</td>\n",
       "      <td>-96.83614</td>\n",
       "      <td>Panucci's Pizza - 1119</td>\n",
       "      <td>2014-09-06</td>\n",
       "    </tr>\n",
       "    <tr>\n",
       "      <th>4</th>\n",
       "      <td>1249</td>\n",
       "      <td>33.13475</td>\n",
       "      <td>-96.84477</td>\n",
       "      <td>Panucci's Pizza - 1249</td>\n",
       "      <td>2010-02-02</td>\n",
       "    </tr>\n",
       "    <tr>\n",
       "      <th>5</th>\n",
       "      <td>3789</td>\n",
       "      <td>33.10600</td>\n",
       "      <td>-96.74276</td>\n",
       "      <td>Panucci's Pizza - 3789</td>\n",
       "      <td>2018-06-23</td>\n",
       "    </tr>\n",
       "    <tr>\n",
       "      <th>6</th>\n",
       "      <td>151</td>\n",
       "      <td>33.11653</td>\n",
       "      <td>-96.82622</td>\n",
       "      <td>Panucci's Pizza - 151</td>\n",
       "      <td>2013-01-28</td>\n",
       "    </tr>\n",
       "    <tr>\n",
       "      <th>7</th>\n",
       "      <td>6202</td>\n",
       "      <td>33.16028</td>\n",
       "      <td>-96.90773</td>\n",
       "      <td>Panucci's Pizza - 6202</td>\n",
       "      <td>2020-02-12</td>\n",
       "    </tr>\n",
       "    <tr>\n",
       "      <th>8</th>\n",
       "      <td>6144</td>\n",
       "      <td>33.20155</td>\n",
       "      <td>-96.75194</td>\n",
       "      <td>Panucci's Pizza - 6144</td>\n",
       "      <td>2014-12-10</td>\n",
       "    </tr>\n",
       "    <tr>\n",
       "      <th>9</th>\n",
       "      <td>2510</td>\n",
       "      <td>33.14326</td>\n",
       "      <td>-96.69223</td>\n",
       "      <td>Panucci's Pizza - 2510</td>\n",
       "      <td>2012-06-19</td>\n",
       "    </tr>\n",
       "  </tbody>\n",
       "</table>\n",
       "</div>"
      ],
      "text/plain": [
       "   STORE_ID  LATITUDE  LONGITUDE              STORE_NAME      OPENDT\n",
       "0      3431  33.18667  -96.87610  Panucci's Pizza - 3431  2012-11-13\n",
       "1      4464  33.07242  -96.79917  Panucci's Pizza - 4464  2011-11-16\n",
       "2      7496  33.15334  -96.73341  Panucci's Pizza - 7496  2016-11-12\n",
       "3      1119  33.11117  -96.83614  Panucci's Pizza - 1119  2014-09-06\n",
       "4      1249  33.13475  -96.84477  Panucci's Pizza - 1249  2010-02-02\n",
       "5      3789  33.10600  -96.74276  Panucci's Pizza - 3789  2018-06-23\n",
       "6       151  33.11653  -96.82622   Panucci's Pizza - 151  2013-01-28\n",
       "7      6202  33.16028  -96.90773  Panucci's Pizza - 6202  2020-02-12\n",
       "8      6144  33.20155  -96.75194  Panucci's Pizza - 6144  2014-12-10\n",
       "9      2510  33.14326  -96.69223  Panucci's Pizza - 2510  2012-06-19"
      ]
     },
     "execution_count": 24,
     "metadata": {},
     "output_type": "execute_result"
    }
   ],
   "source": [
    "# Generate random store locations within the bounding box\n",
    "\n",
    "Store.all_stores = []  # Reset the class-level list to avoid duplicates\n",
    "name_prefix = \"Panucci's Pizza - \"\n",
    "store_ids = [random.randint(0, 9999) for _ in range(num_stores)]\n",
    "store_locations = [\n",
    "    Store(\n",
    "        store_id=store_id,\n",
    "        latitude=np.round(random.uniform(min_lat, max_lat),5),\n",
    "        longitude=np.round(random.uniform(min_lon, max_lon),5),\n",
    "        store_name=f\"{name_prefix}{store_id}\",\n",
    "        opendt=f\"{random.randint(2010, 2020)}-{random.randint(1, 12):02d}-{random.randint(1, 28):02d}\"\n",
    "    ).__dict__ for store_id in store_ids\n",
    "]\n",
    "\n",
    "Store.display_all_stores()"
   ]
  },
  {
   "cell_type": "markdown",
   "metadata": {},
   "source": [
    "#### Generate customer locations for each store"
   ]
  },
  {
   "cell_type": "code",
   "execution_count": 25,
   "metadata": {},
   "outputs": [],
   "source": [
    "num_customers_per_store = (20,50)\n",
    "\n",
    "radius_range = (0.5, 2.0)  # in km"
   ]
  },
  {
   "cell_type": "code",
   "execution_count": 26,
   "metadata": {},
   "outputs": [],
   "source": [
    "from scipy.stats import gamma\n",
    "import numpy as np\n",
    "\n",
    "# Predefined list of first names\n",
    "first_names = [\"Alice\", \"Bob\", \"Charlie\", \"David\", \"Eve\", \"Frank\", \"Grace\", \"Hannah\", \"Ivy\", \"Jack\", \"Kathy\", \"Liam\", \"Mona\", \"Nathan\", \"Olivia\", \"Paul\", \"Quincy\", \"Rachel\", \"Steve\", \"Tina\"]\n",
    "# Predefined list of Pokémon names\n",
    "pokemon_last_names = [\"Pikachu\", \"Charmander\", \"Bulbasaur\", \"Squirtle\", \"Jigglypuff\", \"Meowth\", \"Psyduck\", \"Snorlax\", \"Eevee\", \"Mewtwo\"]\n",
    "\n",
    "\n",
    "def generate_customers(store_location, search_radius, num_customers, store_id=None):\n",
    "    \"\"\"\n",
    "    Generate customers around a store location using a exponential distribution.\n",
    "\n",
    "    :param store_location: Tuple of (latitude, longitude) for the store location.\n",
    "    :param search_radius: Maximum search radius in kilometers.\n",
    "    :param num_customers: Number of customers to generate.\n",
    "    :param store_id: ID of the store to associate customers with.\n",
    "    :return: List of Customer objects.\n",
    "    \"\"\"\n",
    "    customers = []\n",
    "    for i in range(num_customers):\n",
    "        # Generate a random distance using the exponential distribution\n",
    "        distance = np.random.exponential(scale=search_radius / 2)\n",
    "        # Generate a random bearing (angle in radians)\n",
    "        bearing = np.random.uniform(0, 2 * np.pi)\n",
    "        # Calculate the new latitude and longitude\n",
    "        delta_lat = distance * np.cos(bearing) / 111  # Approx. conversion of km to degrees latitude\n",
    "        delta_lon = distance * np.sin(bearing) / (111 * np.cos(np.radians(store_location[0])))  # Adjust for longitude\n",
    "        customer_lat = store_location[0] + delta_lat\n",
    "        customer_lon = store_location[1] + delta_lon\n",
    "        # Create a Customer object\n",
    "        customer_id = f\"{random.randint(0, 9999)}\"\n",
    "        first_name = random.choice(first_names)\n",
    "        last_name = random.choice(pokemon_last_names)\n",
    "        customers.append(Customer(customer_id, np.round(customer_lat,5), np.round(customer_lon,5), first_name, last_name, store_id))\n",
    "    return customers"
   ]
  },
  {
   "cell_type": "code",
   "execution_count": 27,
   "metadata": {},
   "outputs": [],
   "source": [
    "# Generate customers for each store\n",
    "Customer.all_customers = []  # Reset the class-level list to avoid duplicates\n",
    "\n",
    "for store in Store.all_stores:\n",
    "    store_location = (store.LATITUDE, store.LONGITUDE)\n",
    "    num_customers = random.randint(*num_customers_per_store)  # Randomly choose the number of customers within the range\n",
    "    search_radius_km = random.uniform(*radius_range)  # Randomly choose the search radius within the range\n",
    "\n",
    "    generate_customers(store_location, search_radius_km, num_customers, store_id=store.STORE_ID)\n"
   ]
  },
  {
   "cell_type": "code",
   "execution_count": 28,
   "metadata": {},
   "outputs": [
    {
     "data": {
      "application/vnd.microsoft.datawrangler.viewer.v0+json": {
       "columns": [
        {
         "name": "index",
         "rawType": "int64",
         "type": "integer"
        },
        {
         "name": "CUSTOMER_ID",
         "rawType": "object",
         "type": "string"
        },
        {
         "name": "LATITUDE",
         "rawType": "float64",
         "type": "float"
        },
        {
         "name": "LONGITUDE",
         "rawType": "float64",
         "type": "float"
        },
        {
         "name": "FIRSTNAME",
         "rawType": "object",
         "type": "string"
        },
        {
         "name": "LASTNAME",
         "rawType": "object",
         "type": "string"
        },
        {
         "name": "HOMESTORE_ID",
         "rawType": "int64",
         "type": "integer"
        }
       ],
       "conversionMethod": "pd.DataFrame",
       "ref": "f1bc9520-4a50-45c5-8209-5c908156c788",
       "rows": [
        [
         "0",
         "915",
         "33.18528",
         "-96.87362",
         "Tina",
         "Pikachu",
         "3431"
        ],
        [
         "1",
         "4218",
         "33.19252",
         "-96.88017",
         "Ivy",
         "Bulbasaur",
         "3431"
        ],
        [
         "2",
         "8825",
         "33.18558",
         "-96.8683",
         "Liam",
         "Jigglypuff",
         "3431"
        ],
        [
         "3",
         "3041",
         "33.19084",
         "-96.87167",
         "Liam",
         "Mewtwo",
         "3431"
        ],
        [
         "4",
         "6745",
         "33.18707",
         "-96.88401",
         "Quincy",
         "Squirtle",
         "3431"
        ],
        [
         "5",
         "1910",
         "33.19891",
         "-96.88269",
         "Ivy",
         "Bulbasaur",
         "3431"
        ],
        [
         "6",
         "194",
         "33.1856",
         "-96.88487",
         "Eve",
         "Jigglypuff",
         "3431"
        ],
        [
         "7",
         "4499",
         "33.17422",
         "-96.88819",
         "Eve",
         "Meowth",
         "3431"
        ],
        [
         "8",
         "673",
         "33.19054",
         "-96.87774",
         "Rachel",
         "Bulbasaur",
         "3431"
        ],
        [
         "9",
         "6543",
         "33.18485",
         "-96.8737",
         "Eve",
         "Charmander",
         "3431"
        ],
        [
         "10",
         "6736",
         "33.18804",
         "-96.87475",
         "Grace",
         "Pikachu",
         "3431"
        ],
        [
         "11",
         "3252",
         "33.18276",
         "-96.87516",
         "Hannah",
         "Psyduck",
         "3431"
        ],
        [
         "12",
         "9424",
         "33.18676",
         "-96.87785",
         "Paul",
         "Squirtle",
         "3431"
        ],
        [
         "13",
         "2726",
         "33.18489",
         "-96.87634",
         "Frank",
         "Psyduck",
         "3431"
        ],
        [
         "14",
         "3602",
         "33.19289",
         "-96.88547",
         "Paul",
         "Squirtle",
         "3431"
        ],
        [
         "15",
         "3902",
         "33.19132",
         "-96.86771",
         "Eve",
         "Charmander",
         "3431"
        ],
        [
         "16",
         "1555",
         "33.18262",
         "-96.87957",
         "Jack",
         "Mewtwo",
         "3431"
        ],
        [
         "17",
         "662",
         "33.18211",
         "-96.8695",
         "Bob",
         "Mewtwo",
         "3431"
        ],
        [
         "18",
         "3547",
         "33.18585",
         "-96.87425",
         "David",
         "Charmander",
         "3431"
        ],
        [
         "19",
         "2342",
         "33.18585",
         "-96.8764",
         "Paul",
         "Pikachu",
         "3431"
        ],
        [
         "20",
         "2676",
         "33.17156",
         "-96.89564",
         "Tina",
         "Pikachu",
         "3431"
        ],
        [
         "21",
         "2554",
         "33.18752",
         "-96.87806",
         "Rachel",
         "Charmander",
         "3431"
        ],
        [
         "22",
         "8010",
         "33.18882",
         "-96.87108",
         "Ivy",
         "Snorlax",
         "3431"
        ],
        [
         "23",
         "9578",
         "33.18327",
         "-96.87667",
         "Quincy",
         "Charmander",
         "3431"
        ],
        [
         "24",
         "6450",
         "33.18713",
         "-96.87356",
         "Frank",
         "Psyduck",
         "3431"
        ],
        [
         "25",
         "3657",
         "33.1896",
         "-96.87183",
         "Rachel",
         "Mewtwo",
         "3431"
        ],
        [
         "26",
         "840",
         "33.18521",
         "-96.87599",
         "Tina",
         "Jigglypuff",
         "3431"
        ],
        [
         "27",
         "6451",
         "33.18721",
         "-96.87829",
         "Liam",
         "Squirtle",
         "3431"
        ],
        [
         "28",
         "5723",
         "33.1869",
         "-96.87576",
         "Steve",
         "Psyduck",
         "3431"
        ],
        [
         "29",
         "4305",
         "33.18744",
         "-96.87533",
         "Tina",
         "Squirtle",
         "3431"
        ],
        [
         "30",
         "9735",
         "33.18666",
         "-96.87543",
         "Quincy",
         "Eevee",
         "3431"
        ],
        [
         "31",
         "6799",
         "33.18426",
         "-96.87158",
         "Grace",
         "Eevee",
         "3431"
        ],
        [
         "32",
         "4546",
         "33.18709",
         "-96.87558",
         "Tina",
         "Bulbasaur",
         "3431"
        ],
        [
         "33",
         "9939",
         "33.07379",
         "-96.80002",
         "Rachel",
         "Meowth",
         "4464"
        ],
        [
         "34",
         "6638",
         "33.0686",
         "-96.79393",
         "Frank",
         "Psyduck",
         "4464"
        ],
        [
         "35",
         "7901",
         "33.0724",
         "-96.79931",
         "Alice",
         "Psyduck",
         "4464"
        ],
        [
         "36",
         "9766",
         "33.07358",
         "-96.80015",
         "Quincy",
         "Jigglypuff",
         "4464"
        ],
        [
         "37",
         "676",
         "33.0689",
         "-96.8083",
         "Quincy",
         "Bulbasaur",
         "4464"
        ],
        [
         "38",
         "1277",
         "33.07078",
         "-96.80145",
         "Mona",
         "Mewtwo",
         "4464"
        ],
        [
         "39",
         "6326",
         "33.07269",
         "-96.79864",
         "Bob",
         "Eevee",
         "4464"
        ],
        [
         "40",
         "4648",
         "33.06652",
         "-96.80409",
         "Ivy",
         "Jigglypuff",
         "4464"
        ],
        [
         "41",
         "4246",
         "33.07267",
         "-96.80797",
         "Nathan",
         "Psyduck",
         "4464"
        ],
        [
         "42",
         "219",
         "33.0743",
         "-96.79853",
         "Nathan",
         "Bulbasaur",
         "4464"
        ],
        [
         "43",
         "2926",
         "33.07033",
         "-96.79106",
         "Tina",
         "Bulbasaur",
         "4464"
        ],
        [
         "44",
         "421",
         "33.07398",
         "-96.80294",
         "Alice",
         "Pikachu",
         "4464"
        ],
        [
         "45",
         "8556",
         "33.07215",
         "-96.81184",
         "Steve",
         "Squirtle",
         "4464"
        ],
        [
         "46",
         "4458",
         "33.06929",
         "-96.79914",
         "Quincy",
         "Mewtwo",
         "4464"
        ],
        [
         "47",
         "812",
         "33.07083",
         "-96.79842",
         "David",
         "Eevee",
         "4464"
        ],
        [
         "48",
         "5693",
         "33.06913",
         "-96.79861",
         "Charlie",
         "Charmander",
         "4464"
        ],
        [
         "49",
         "1760",
         "33.07246",
         "-96.79827",
         "Rachel",
         "Mewtwo",
         "4464"
        ]
       ],
       "shape": {
        "columns": 6,
        "rows": 356
       }
      },
      "text/html": [
       "<div>\n",
       "<style scoped>\n",
       "    .dataframe tbody tr th:only-of-type {\n",
       "        vertical-align: middle;\n",
       "    }\n",
       "\n",
       "    .dataframe tbody tr th {\n",
       "        vertical-align: top;\n",
       "    }\n",
       "\n",
       "    .dataframe thead th {\n",
       "        text-align: right;\n",
       "    }\n",
       "</style>\n",
       "<table border=\"1\" class=\"dataframe\">\n",
       "  <thead>\n",
       "    <tr style=\"text-align: right;\">\n",
       "      <th></th>\n",
       "      <th>CUSTOMER_ID</th>\n",
       "      <th>LATITUDE</th>\n",
       "      <th>LONGITUDE</th>\n",
       "      <th>FIRSTNAME</th>\n",
       "      <th>LASTNAME</th>\n",
       "      <th>HOMESTORE_ID</th>\n",
       "    </tr>\n",
       "  </thead>\n",
       "  <tbody>\n",
       "    <tr>\n",
       "      <th>0</th>\n",
       "      <td>915</td>\n",
       "      <td>33.18528</td>\n",
       "      <td>-96.87362</td>\n",
       "      <td>Tina</td>\n",
       "      <td>Pikachu</td>\n",
       "      <td>3431</td>\n",
       "    </tr>\n",
       "    <tr>\n",
       "      <th>1</th>\n",
       "      <td>4218</td>\n",
       "      <td>33.19252</td>\n",
       "      <td>-96.88017</td>\n",
       "      <td>Ivy</td>\n",
       "      <td>Bulbasaur</td>\n",
       "      <td>3431</td>\n",
       "    </tr>\n",
       "    <tr>\n",
       "      <th>2</th>\n",
       "      <td>8825</td>\n",
       "      <td>33.18558</td>\n",
       "      <td>-96.86830</td>\n",
       "      <td>Liam</td>\n",
       "      <td>Jigglypuff</td>\n",
       "      <td>3431</td>\n",
       "    </tr>\n",
       "    <tr>\n",
       "      <th>3</th>\n",
       "      <td>3041</td>\n",
       "      <td>33.19084</td>\n",
       "      <td>-96.87167</td>\n",
       "      <td>Liam</td>\n",
       "      <td>Mewtwo</td>\n",
       "      <td>3431</td>\n",
       "    </tr>\n",
       "    <tr>\n",
       "      <th>4</th>\n",
       "      <td>6745</td>\n",
       "      <td>33.18707</td>\n",
       "      <td>-96.88401</td>\n",
       "      <td>Quincy</td>\n",
       "      <td>Squirtle</td>\n",
       "      <td>3431</td>\n",
       "    </tr>\n",
       "    <tr>\n",
       "      <th>...</th>\n",
       "      <td>...</td>\n",
       "      <td>...</td>\n",
       "      <td>...</td>\n",
       "      <td>...</td>\n",
       "      <td>...</td>\n",
       "      <td>...</td>\n",
       "    </tr>\n",
       "    <tr>\n",
       "      <th>351</th>\n",
       "      <td>1294</td>\n",
       "      <td>33.14909</td>\n",
       "      <td>-96.69212</td>\n",
       "      <td>Ivy</td>\n",
       "      <td>Eevee</td>\n",
       "      <td>2510</td>\n",
       "    </tr>\n",
       "    <tr>\n",
       "      <th>352</th>\n",
       "      <td>8297</td>\n",
       "      <td>33.14140</td>\n",
       "      <td>-96.69542</td>\n",
       "      <td>Kathy</td>\n",
       "      <td>Psyduck</td>\n",
       "      <td>2510</td>\n",
       "    </tr>\n",
       "    <tr>\n",
       "      <th>353</th>\n",
       "      <td>8165</td>\n",
       "      <td>33.14317</td>\n",
       "      <td>-96.71681</td>\n",
       "      <td>Kathy</td>\n",
       "      <td>Eevee</td>\n",
       "      <td>2510</td>\n",
       "    </tr>\n",
       "    <tr>\n",
       "      <th>354</th>\n",
       "      <td>3830</td>\n",
       "      <td>33.14584</td>\n",
       "      <td>-96.68779</td>\n",
       "      <td>Olivia</td>\n",
       "      <td>Snorlax</td>\n",
       "      <td>2510</td>\n",
       "    </tr>\n",
       "    <tr>\n",
       "      <th>355</th>\n",
       "      <td>9931</td>\n",
       "      <td>33.13278</td>\n",
       "      <td>-96.68521</td>\n",
       "      <td>Liam</td>\n",
       "      <td>Jigglypuff</td>\n",
       "      <td>2510</td>\n",
       "    </tr>\n",
       "  </tbody>\n",
       "</table>\n",
       "<p>356 rows × 6 columns</p>\n",
       "</div>"
      ],
      "text/plain": [
       "    CUSTOMER_ID  LATITUDE  LONGITUDE FIRSTNAME    LASTNAME  HOMESTORE_ID\n",
       "0           915  33.18528  -96.87362      Tina     Pikachu          3431\n",
       "1          4218  33.19252  -96.88017       Ivy   Bulbasaur          3431\n",
       "2          8825  33.18558  -96.86830      Liam  Jigglypuff          3431\n",
       "3          3041  33.19084  -96.87167      Liam      Mewtwo          3431\n",
       "4          6745  33.18707  -96.88401    Quincy    Squirtle          3431\n",
       "..          ...       ...        ...       ...         ...           ...\n",
       "351        1294  33.14909  -96.69212       Ivy       Eevee          2510\n",
       "352        8297  33.14140  -96.69542     Kathy     Psyduck          2510\n",
       "353        8165  33.14317  -96.71681     Kathy       Eevee          2510\n",
       "354        3830  33.14584  -96.68779    Olivia     Snorlax          2510\n",
       "355        9931  33.13278  -96.68521      Liam  Jigglypuff          2510\n",
       "\n",
       "[356 rows x 6 columns]"
      ]
     },
     "execution_count": 28,
     "metadata": {},
     "output_type": "execute_result"
    }
   ],
   "source": [
    "Customer.display_all_customers()"
   ]
  },
  {
   "cell_type": "markdown",
   "metadata": {},
   "source": [
    "#### Transactional data\n",
    "Generate random transactional data for each store"
   ]
  },
  {
   "cell_type": "code",
   "execution_count": 29,
   "metadata": {},
   "outputs": [],
   "source": [
    "def generate_gaussian_value(mean, std, floor):\n",
    "    \"\"\"\n",
    "    Generate a random value based on a Gaussian distribution.\n",
    "\n",
    "    :param mean: Mean of the Gaussian distribution.\n",
    "    :param std: Standard deviation of the Gaussian distribution.\n",
    "    :param floor: Minimum value (floor) for the generated value.\n",
    "    :return: A random value from the Gaussian distribution, floored at the specified minimum value.\n",
    "    \"\"\"\n",
    "    value = np.random.normal(loc=mean, scale=std)\n",
    "    return round(max(value, floor), 2)  # Round to 2 decimal places and ensure it's not below the floor value"
   ]
  },
  {
   "cell_type": "code",
   "execution_count": 30,
   "metadata": {},
   "outputs": [],
   "source": [
    "num_orders_per_customer = (3, 25)\n",
    "\n",
    "Order.all_orders = []  # Reset the class-level list to avoid duplicates\n",
    "\n",
    "for customer in Customer.all_customers:\n",
    "    num_orders = random.randint(*num_orders_per_customer)  # Randomly choose the number of orders for each customer\n",
    "    for _ in range(num_orders):\n",
    "        order_id = f\"{random.randint(0, 99999)}\"\n",
    "        order_date = f\"{random.randint(2021, 2024)}-{random.randint(1, 12):02d}-{random.randint(1, 28):02d}\"\n",
    "        order_subtotal = generate_gaussian_value(mean=30, std=10, floor=5)  # Generate a random order total\n",
    "        order_tax = np.round(order_subtotal * 0.0825,2)  # Assuming a tax rate of 8.25%\n",
    "        order_total = np.round(order_subtotal + order_tax,2)\n",
    "        Order.all_orders.append(Order(order_id, customer.CUSTOMER_ID, customer.HOMESTORE_ID, order_date, order_subtotal, order_tax, order_total))"
   ]
  },
  {
   "cell_type": "code",
   "execution_count": 31,
   "metadata": {},
   "outputs": [
    {
     "data": {
      "application/vnd.microsoft.datawrangler.viewer.v0+json": {
       "columns": [
        {
         "name": "index",
         "rawType": "int64",
         "type": "integer"
        },
        {
         "name": "ORDER_ID",
         "rawType": "object",
         "type": "string"
        },
        {
         "name": "CUSTOMER_ID",
         "rawType": "object",
         "type": "string"
        },
        {
         "name": "STORE_ID",
         "rawType": "int64",
         "type": "integer"
        },
        {
         "name": "ORDER_DATE",
         "rawType": "object",
         "type": "string"
        },
        {
         "name": "SUBTOTAL",
         "rawType": "float64",
         "type": "float"
        },
        {
         "name": "TAX",
         "rawType": "float64",
         "type": "float"
        },
        {
         "name": "TOTAL",
         "rawType": "float64",
         "type": "float"
        }
       ],
       "conversionMethod": "pd.DataFrame",
       "ref": "12b57602-38eb-4a18-aa45-f6436a20de63",
       "rows": [
        [
         "0",
         "29570",
         "915",
         "3431",
         "2021-08-19",
         "35.31",
         "2.91",
         "38.22"
        ],
        [
         "1",
         "58260",
         "915",
         "3431",
         "2023-02-15",
         "34.77",
         "2.87",
         "37.64"
        ],
        [
         "2",
         "41196",
         "915",
         "3431",
         "2024-06-26",
         "39.87",
         "3.29",
         "43.16"
        ],
        [
         "3",
         "59530",
         "915",
         "3431",
         "2024-02-16",
         "33.76",
         "2.79",
         "36.55"
        ],
        [
         "4",
         "35746",
         "915",
         "3431",
         "2022-06-21",
         "34.23",
         "2.82",
         "37.05"
        ],
        [
         "5",
         "91222",
         "915",
         "3431",
         "2022-12-09",
         "28.96",
         "2.39",
         "31.35"
        ],
        [
         "6",
         "11388",
         "915",
         "3431",
         "2022-12-13",
         "15.73",
         "1.3",
         "17.03"
        ],
        [
         "7",
         "35441",
         "915",
         "3431",
         "2022-04-25",
         "31.72",
         "2.62",
         "34.34"
        ],
        [
         "8",
         "24423",
         "915",
         "3431",
         "2021-12-25",
         "34.41",
         "2.84",
         "37.25"
        ],
        [
         "9",
         "17466",
         "915",
         "3431",
         "2023-08-03",
         "22.45",
         "1.85",
         "24.3"
        ],
        [
         "10",
         "91553",
         "915",
         "3431",
         "2023-01-16",
         "29.51",
         "2.43",
         "31.94"
        ],
        [
         "11",
         "64754",
         "915",
         "3431",
         "2022-05-04",
         "26.62",
         "2.2",
         "28.82"
        ],
        [
         "12",
         "54932",
         "915",
         "3431",
         "2023-02-28",
         "23.93",
         "1.97",
         "25.9"
        ],
        [
         "13",
         "66589",
         "915",
         "3431",
         "2024-10-19",
         "16.42",
         "1.35",
         "17.77"
        ],
        [
         "14",
         "74899",
         "915",
         "3431",
         "2023-01-14",
         "15.78",
         "1.3",
         "17.08"
        ],
        [
         "15",
         "77174",
         "915",
         "3431",
         "2021-02-24",
         "25.73",
         "2.12",
         "27.85"
        ],
        [
         "16",
         "34775",
         "915",
         "3431",
         "2022-05-02",
         "27.82",
         "2.3",
         "30.12"
        ],
        [
         "17",
         "67981",
         "915",
         "3431",
         "2021-01-17",
         "13.49",
         "1.11",
         "14.6"
        ],
        [
         "18",
         "64069",
         "4218",
         "3431",
         "2024-12-24",
         "21.62",
         "1.78",
         "23.4"
        ],
        [
         "19",
         "86725",
         "4218",
         "3431",
         "2021-01-27",
         "23.11",
         "1.91",
         "25.02"
        ],
        [
         "20",
         "23228",
         "4218",
         "3431",
         "2022-10-17",
         "36.76",
         "3.03",
         "39.79"
        ],
        [
         "21",
         "4771",
         "4218",
         "3431",
         "2023-05-02",
         "27.21",
         "2.24",
         "29.45"
        ],
        [
         "22",
         "56758",
         "4218",
         "3431",
         "2024-08-24",
         "34.89",
         "2.88",
         "37.77"
        ],
        [
         "23",
         "30039",
         "4218",
         "3431",
         "2024-03-27",
         "20.85",
         "1.72",
         "22.57"
        ],
        [
         "24",
         "84158",
         "4218",
         "3431",
         "2022-08-26",
         "32.04",
         "2.64",
         "34.68"
        ],
        [
         "25",
         "9337",
         "4218",
         "3431",
         "2022-01-25",
         "27.13",
         "2.24",
         "29.37"
        ],
        [
         "26",
         "94432",
         "4218",
         "3431",
         "2021-03-21",
         "24.29",
         "2.0",
         "26.29"
        ],
        [
         "27",
         "75110",
         "4218",
         "3431",
         "2022-04-10",
         "12.63",
         "1.04",
         "13.67"
        ],
        [
         "28",
         "25794",
         "4218",
         "3431",
         "2022-06-05",
         "43.07",
         "3.55",
         "46.62"
        ],
        [
         "29",
         "59882",
         "4218",
         "3431",
         "2022-12-01",
         "42.48",
         "3.5",
         "45.98"
        ],
        [
         "30",
         "75792",
         "4218",
         "3431",
         "2024-01-21",
         "27.26",
         "2.25",
         "29.51"
        ],
        [
         "31",
         "6657",
         "4218",
         "3431",
         "2023-09-14",
         "42.91",
         "3.54",
         "46.45"
        ],
        [
         "32",
         "15841",
         "4218",
         "3431",
         "2021-10-23",
         "16.18",
         "1.33",
         "17.51"
        ],
        [
         "33",
         "16259",
         "4218",
         "3431",
         "2022-02-13",
         "15.7",
         "1.3",
         "17.0"
        ],
        [
         "34",
         "31300",
         "8825",
         "3431",
         "2022-10-16",
         "27.45",
         "2.26",
         "29.71"
        ],
        [
         "35",
         "69128",
         "8825",
         "3431",
         "2022-05-03",
         "20.71",
         "1.71",
         "22.42"
        ],
        [
         "36",
         "4805",
         "8825",
         "3431",
         "2022-06-11",
         "24.72",
         "2.04",
         "26.76"
        ],
        [
         "37",
         "51356",
         "8825",
         "3431",
         "2023-07-11",
         "23.3",
         "1.92",
         "25.22"
        ],
        [
         "38",
         "13455",
         "8825",
         "3431",
         "2023-02-19",
         "38.88",
         "3.21",
         "42.09"
        ],
        [
         "39",
         "9065",
         "8825",
         "3431",
         "2024-07-28",
         "16.98",
         "1.4",
         "18.38"
        ],
        [
         "40",
         "78057",
         "8825",
         "3431",
         "2023-08-14",
         "21.01",
         "1.73",
         "22.74"
        ],
        [
         "41",
         "44253",
         "8825",
         "3431",
         "2023-03-10",
         "51.95",
         "4.29",
         "56.24"
        ],
        [
         "42",
         "1434",
         "3041",
         "3431",
         "2024-08-03",
         "38.42",
         "3.17",
         "41.59"
        ],
        [
         "43",
         "29848",
         "3041",
         "3431",
         "2021-10-20",
         "29.35",
         "2.42",
         "31.77"
        ],
        [
         "44",
         "87465",
         "3041",
         "3431",
         "2023-03-13",
         "10.92",
         "0.9",
         "11.82"
        ],
        [
         "45",
         "94807",
         "3041",
         "3431",
         "2022-01-09",
         "22.25",
         "1.84",
         "24.09"
        ],
        [
         "46",
         "32105",
         "3041",
         "3431",
         "2021-01-08",
         "27.55",
         "2.27",
         "29.82"
        ],
        [
         "47",
         "75241",
         "3041",
         "3431",
         "2022-03-09",
         "26.32",
         "2.17",
         "28.49"
        ],
        [
         "48",
         "28231",
         "3041",
         "3431",
         "2023-12-07",
         "37.2",
         "3.07",
         "40.27"
        ],
        [
         "49",
         "77690",
         "6745",
         "3431",
         "2021-10-16",
         "28.64",
         "2.36",
         "31.0"
        ]
       ],
       "shape": {
        "columns": 7,
        "rows": 5048
       }
      },
      "text/html": [
       "<div>\n",
       "<style scoped>\n",
       "    .dataframe tbody tr th:only-of-type {\n",
       "        vertical-align: middle;\n",
       "    }\n",
       "\n",
       "    .dataframe tbody tr th {\n",
       "        vertical-align: top;\n",
       "    }\n",
       "\n",
       "    .dataframe thead th {\n",
       "        text-align: right;\n",
       "    }\n",
       "</style>\n",
       "<table border=\"1\" class=\"dataframe\">\n",
       "  <thead>\n",
       "    <tr style=\"text-align: right;\">\n",
       "      <th></th>\n",
       "      <th>ORDER_ID</th>\n",
       "      <th>CUSTOMER_ID</th>\n",
       "      <th>STORE_ID</th>\n",
       "      <th>ORDER_DATE</th>\n",
       "      <th>SUBTOTAL</th>\n",
       "      <th>TAX</th>\n",
       "      <th>TOTAL</th>\n",
       "    </tr>\n",
       "  </thead>\n",
       "  <tbody>\n",
       "    <tr>\n",
       "      <th>0</th>\n",
       "      <td>29570</td>\n",
       "      <td>915</td>\n",
       "      <td>3431</td>\n",
       "      <td>2021-08-19</td>\n",
       "      <td>35.31</td>\n",
       "      <td>2.91</td>\n",
       "      <td>38.22</td>\n",
       "    </tr>\n",
       "    <tr>\n",
       "      <th>1</th>\n",
       "      <td>58260</td>\n",
       "      <td>915</td>\n",
       "      <td>3431</td>\n",
       "      <td>2023-02-15</td>\n",
       "      <td>34.77</td>\n",
       "      <td>2.87</td>\n",
       "      <td>37.64</td>\n",
       "    </tr>\n",
       "    <tr>\n",
       "      <th>2</th>\n",
       "      <td>41196</td>\n",
       "      <td>915</td>\n",
       "      <td>3431</td>\n",
       "      <td>2024-06-26</td>\n",
       "      <td>39.87</td>\n",
       "      <td>3.29</td>\n",
       "      <td>43.16</td>\n",
       "    </tr>\n",
       "    <tr>\n",
       "      <th>3</th>\n",
       "      <td>59530</td>\n",
       "      <td>915</td>\n",
       "      <td>3431</td>\n",
       "      <td>2024-02-16</td>\n",
       "      <td>33.76</td>\n",
       "      <td>2.79</td>\n",
       "      <td>36.55</td>\n",
       "    </tr>\n",
       "    <tr>\n",
       "      <th>4</th>\n",
       "      <td>35746</td>\n",
       "      <td>915</td>\n",
       "      <td>3431</td>\n",
       "      <td>2022-06-21</td>\n",
       "      <td>34.23</td>\n",
       "      <td>2.82</td>\n",
       "      <td>37.05</td>\n",
       "    </tr>\n",
       "    <tr>\n",
       "      <th>...</th>\n",
       "      <td>...</td>\n",
       "      <td>...</td>\n",
       "      <td>...</td>\n",
       "      <td>...</td>\n",
       "      <td>...</td>\n",
       "      <td>...</td>\n",
       "      <td>...</td>\n",
       "    </tr>\n",
       "    <tr>\n",
       "      <th>5043</th>\n",
       "      <td>85661</td>\n",
       "      <td>9931</td>\n",
       "      <td>2510</td>\n",
       "      <td>2022-12-04</td>\n",
       "      <td>48.50</td>\n",
       "      <td>4.00</td>\n",
       "      <td>52.50</td>\n",
       "    </tr>\n",
       "    <tr>\n",
       "      <th>5044</th>\n",
       "      <td>7550</td>\n",
       "      <td>9931</td>\n",
       "      <td>2510</td>\n",
       "      <td>2023-03-27</td>\n",
       "      <td>27.91</td>\n",
       "      <td>2.30</td>\n",
       "      <td>30.21</td>\n",
       "    </tr>\n",
       "    <tr>\n",
       "      <th>5045</th>\n",
       "      <td>31965</td>\n",
       "      <td>9931</td>\n",
       "      <td>2510</td>\n",
       "      <td>2022-08-05</td>\n",
       "      <td>24.65</td>\n",
       "      <td>2.03</td>\n",
       "      <td>26.68</td>\n",
       "    </tr>\n",
       "    <tr>\n",
       "      <th>5046</th>\n",
       "      <td>6121</td>\n",
       "      <td>9931</td>\n",
       "      <td>2510</td>\n",
       "      <td>2022-01-12</td>\n",
       "      <td>26.40</td>\n",
       "      <td>2.18</td>\n",
       "      <td>28.58</td>\n",
       "    </tr>\n",
       "    <tr>\n",
       "      <th>5047</th>\n",
       "      <td>83450</td>\n",
       "      <td>9931</td>\n",
       "      <td>2510</td>\n",
       "      <td>2024-12-06</td>\n",
       "      <td>18.93</td>\n",
       "      <td>1.56</td>\n",
       "      <td>20.49</td>\n",
       "    </tr>\n",
       "  </tbody>\n",
       "</table>\n",
       "<p>5048 rows × 7 columns</p>\n",
       "</div>"
      ],
      "text/plain": [
       "     ORDER_ID CUSTOMER_ID  STORE_ID  ORDER_DATE  SUBTOTAL   TAX  TOTAL\n",
       "0       29570         915      3431  2021-08-19     35.31  2.91  38.22\n",
       "1       58260         915      3431  2023-02-15     34.77  2.87  37.64\n",
       "2       41196         915      3431  2024-06-26     39.87  3.29  43.16\n",
       "3       59530         915      3431  2024-02-16     33.76  2.79  36.55\n",
       "4       35746         915      3431  2022-06-21     34.23  2.82  37.05\n",
       "...       ...         ...       ...         ...       ...   ...    ...\n",
       "5043    85661        9931      2510  2022-12-04     48.50  4.00  52.50\n",
       "5044     7550        9931      2510  2023-03-27     27.91  2.30  30.21\n",
       "5045    31965        9931      2510  2022-08-05     24.65  2.03  26.68\n",
       "5046     6121        9931      2510  2022-01-12     26.40  2.18  28.58\n",
       "5047    83450        9931      2510  2024-12-06     18.93  1.56  20.49\n",
       "\n",
       "[5048 rows x 7 columns]"
      ]
     },
     "execution_count": 31,
     "metadata": {},
     "output_type": "execute_result"
    }
   ],
   "source": [
    "Order.display_all_orders()"
   ]
  },
  {
   "cell_type": "markdown",
   "metadata": {},
   "source": [
    "### Push Data to SnowFlake"
   ]
  },
  {
   "cell_type": "code",
   "execution_count": 32,
   "metadata": {},
   "outputs": [],
   "source": [
    "from dotenv import load_dotenv\n",
    "import os\n",
    "\n",
    "load_dotenv()\n",
    "SF_USER = os.getenv(\"SF_USER\")\n",
    "SF_PASSWORD = os.getenv(\"SF_PASSWORD\")\n",
    "SF_ACCOUNT = os.getenv(\"SF_ACCOUNT\")"
   ]
  },
  {
   "cell_type": "code",
   "execution_count": 33,
   "metadata": {},
   "outputs": [],
   "source": [
    "from snowflake.snowpark import Session\n",
    "from snowflake.snowpark import functions as SF\n",
    "\n",
    "connection_parameters = {\n",
    "  \"account\": SF_ACCOUNT,\n",
    "  \"user\": SF_USER,\n",
    "  \"password\": SF_PASSWORD,\n",
    "}\n",
    "new_session = Session.builder.configs(connection_parameters).create()"
   ]
  },
  {
   "cell_type": "code",
   "execution_count": 34,
   "metadata": {},
   "outputs": [],
   "source": [
    "new_db = \"PANUCCIS_PIZZA\"\n",
    "new_schema = \"POS_MAIN\"\n",
    "new_WH = \"PANUCCIS_PIZZA_WH\"\n",
    "table_stores = \"STORES\"\n",
    "table_customers = \"CUSTOMERS\"\n",
    "table_orders = \"ORDERS_HEADER\""
   ]
  },
  {
   "cell_type": "code",
   "execution_count": 35,
   "metadata": {},
   "outputs": [
    {
     "data": {
      "text/plain": [
       "[Row(status='Schema POS_MAIN successfully created.')]"
      ]
     },
     "execution_count": 35,
     "metadata": {},
     "output_type": "execute_result"
    }
   ],
   "source": [
    "# create warehouse\n",
    "new_session.sql(f\"\"\"\n",
    "                CREATE WAREHOUSE if not exists {new_WH}\n",
    "                WITH\n",
    "                WAREHOUSE_SIZE = XSMALL\n",
    "                AUTO_SUSPEND = 30\n",
    "                INITIALLY_SUSPENDED = TRUE\n",
    "                COMMENT = 'WH TO DO TEST RUNS ON PANUCCIS PIZZA DB'\n",
    "                \"\"\").collect()\n",
    "\n",
    "new_session.use_warehouse(f\"{new_WH}\")\n",
    "\n",
    "# create the Panuccis Database\n",
    "new_session.sql(f'CREATE OR REPLACE DATABASE {new_db};').collect()\n",
    "\n",
    "# create the Panuccis PoS Main Schema\n",
    "new_session.sql(f'CREATE OR REPLACE SCHEMA {new_db}.{new_schema};').collect()"
   ]
  },
  {
   "cell_type": "code",
   "execution_count": 36,
   "metadata": {},
   "outputs": [],
   "source": [
    "# Convert customer data to a pandas DataFrame\n",
    "customer_df = Customer.display_all_customers()\n",
    "orders_df = Order.display_all_orders().sort_values(by='ORDER_DATE', ascending=False)\n",
    "store_df = Store.display_all_stores()\n",
    "\n",
    "# Add the first order date for each customer\n",
    "first_order_dates = orders_df.groupby(['CUSTOMER_ID'])[['ORDER_DATE']].min().rename(columns={'ORDER_DATE':'FIRST_ORDER_DATE'})\n",
    "customer_df = customer_df.join(first_order_dates, on='CUSTOMER_ID', how='left')\n",
    "\n",
    "\n",
    "customer_df = customer_df.sort_values(by='FIRST_ORDER_DATE', ascending=False)"
   ]
  },
  {
   "cell_type": "code",
   "execution_count": 37,
   "metadata": {},
   "outputs": [],
   "source": [
    "from snowflake.snowpark.types import StructType, StructField, StringType, FloatType, IntegerType, DateType\n",
    "\n",
    "# Create a Snowpark DataFrame from the pandas DataFrame\n",
    "schema = StructType([\n",
    "    StructField(\"CUSTOMER_ID\", StringType()),\n",
    "    StructField(\"LATITUDE\", FloatType()),\n",
    "    StructField(\"LONGITUDE\", FloatType()),\n",
    "    StructField(\"FIRSTNAME\", StringType()),\n",
    "    StructField(\"LASTNAME\", StringType()),\n",
    "    StructField(\"HOMESTORE_ID\", IntegerType()),\n",
    "    StructField(\"FIRST_ORDER_DATE\", DateType())\n",
    "])\n",
    "# Write the data to the Snowflake table\n",
    "snowpark_customer_df = new_session.create_dataframe(customer_df.to_records(index=False).tolist(), \n",
    "                                                    schema=schema)\n",
    "snowpark_customer_df.write.mode(\"overwrite\").save_as_table(f\"{new_db}.{new_schema}.{table_customers}\")\n",
    "\n",
    "\n",
    "\n",
    "\n",
    "# Define the schema for the store data\n",
    "schema = StructType([\n",
    "    StructField(\"STORE_ID\", IntegerType()),\n",
    "    StructField(\"LATITUDE\", FloatType()),\n",
    "    StructField(\"LONGITUDE\", FloatType()),\n",
    "    StructField(\"STORE_NAME\", StringType()),\n",
    "    StructField(\"OPENDT\", DateType())\n",
    "])\n",
    "# Write the data to the Snowflake table\n",
    "snowpark_store_df = new_session.create_dataframe(store_df.to_records(index=False).tolist(), \n",
    "                                                 schema=schema)\n",
    "snowpark_store_df.write.mode(\"overwrite\").save_as_table(f\"{new_db}.{new_schema}.{table_stores}\")\n",
    "\n",
    "\n",
    "\n",
    "\n",
    "# Define the schema for the orders data\n",
    "schema = StructType([\n",
    "    StructField(\"ORDER_ID\", StringType()),\n",
    "    StructField(\"CUSTOMER_ID\", StringType()),\n",
    "    StructField(\"STORE_ID\", IntegerType()),\n",
    "    StructField(\"ORDER_DATE\", DateType()),\n",
    "    StructField(\"SUBTOTAL\", FloatType()),\n",
    "    StructField(\"TAX\", FloatType()),\n",
    "    StructField(\"TOTAL\", FloatType()),\n",
    "])\n",
    "\n",
    "# Write the data to the Snowflake table\n",
    "snowpark_orders_df = new_session.create_dataframe(orders_df.to_records(index=False).tolist(), \n",
    "                                                  schema=schema)\n",
    "snowpark_orders_df.write.mode(\"overwrite\").save_as_table(f\"{new_db}.{new_schema}.{table_orders}\")"
   ]
  },
  {
   "cell_type": "markdown",
   "metadata": {},
   "source": [
    "#### Snowflake CleanUp\n",
    "When done with the exercise use the following code to clean up your snowflake enviornment"
   ]
  },
  {
   "cell_type": "code",
   "execution_count": 38,
   "metadata": {},
   "outputs": [],
   "source": [
    "# new_session.sql(f\"DROP TABLE IF EXISTS {new_db}.{new_schema}.{table_stores};\").collect()\n",
    "# new_session.sql(f\"DROP TABLE IF EXISTS {new_db}.{new_schema}.{table_customers};\").collect()\n",
    "# new_session.sql(f\"DROP TABLE IF EXISTS {new_db}.{new_schema}.{table_orders};\").collect()\n",
    "# new_session.sql(f\"DROP SCHEMA IF EXISTS {new_db}.{new_schema};\").collect()\n",
    "# new_session.sql(f\"DROP DATABASE IF EXISTS {new_db};\").collect()\n",
    "# new_session.sql(f\"DROP WAREHOUSE IF EXISTS {new_WH};\").collect()\n",
    "# new_session.close()"
   ]
  },
  {
   "cell_type": "code",
   "execution_count": 39,
   "metadata": {},
   "outputs": [],
   "source": [
    "new_session.close()"
   ]
  }
 ],
 "metadata": {
  "kernelspec": {
   "display_name": ".venv",
   "language": "python",
   "name": "python3"
  },
  "language_info": {
   "codemirror_mode": {
    "name": "ipython",
    "version": 3
   },
   "file_extension": ".py",
   "mimetype": "text/x-python",
   "name": "python",
   "nbconvert_exporter": "python",
   "pygments_lexer": "ipython3",
   "version": "3.12.9"
  }
 },
 "nbformat": 4,
 "nbformat_minor": 2
}
