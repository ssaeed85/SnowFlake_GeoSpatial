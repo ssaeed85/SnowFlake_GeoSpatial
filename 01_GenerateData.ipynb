{
 "cells": [
  {
   "cell_type": "markdown",
   "metadata": {},
   "source": [
    "## Generate Data"
   ]
  },
  {
   "cell_type": "markdown",
   "metadata": {},
   "source": [
    "#### Store Data\n",
    "Generate store front data"
   ]
  },
  {
   "cell_type": "code",
   "execution_count": 1,
   "metadata": {},
   "outputs": [],
   "source": [
    "import folium\n",
    "import numpy as np\n",
    "import pandas as pd"
   ]
  },
  {
   "cell_type": "code",
   "execution_count": 164,
   "metadata": {},
   "outputs": [],
   "source": [
    "class BaseEntity:\n",
    "    def __init__(self, **kwargs):\n",
    "        for key, value in kwargs.items():\n",
    "            setattr(self, key, value)\n",
    "\n",
    "    def __repr__(self):\n",
    "        attrs = ', '.join(f\"{key}={value}\" for key, value in self.__dict__.items())\n",
    "        return f\"{self.__class__.__name__}({attrs})\"\n",
    "    \n",
    "    def showDataFrame(self):\n",
    "        return pd.DataFrame([self.__dict__])\n",
    "\n",
    "\n",
    "class Store(BaseEntity):\n",
    "    all_stores = []  # Class-level list to store all instances of Store\n",
    "\n",
    "    def __init__(self, store_id, latitude, longitude, store_name, opendt):\n",
    "        super().__init__(STORE_ID=store_id, \n",
    "                         LATITUDE=latitude, \n",
    "                         LONGITUDE=longitude, \n",
    "                         STORE_NAME=store_name, \n",
    "                         OPENDT=opendt)\n",
    "        Store.all_stores.append(self)  # Add each instance to the class-level list\n",
    "\n",
    "    def __repr__(self):\n",
    "        return f\"Store(store_id={self.STORE_ID}, lat={self.LATITUDE}, lon={self.LONGITUDE}, name={self.STORE_NAME}, opendt={self.OPENDT})\"\n",
    "\n",
    "    @classmethod\n",
    "    def display_all_stores(cls):\n",
    "        \"\"\"\n",
    "        Display a DataFrame of all store instances.\n",
    "        \"\"\"\n",
    "        return pd.DataFrame([store.__dict__ for store in cls.all_stores])\n",
    "    \n",
    "\n",
    "class Customer(BaseEntity):\n",
    "    all_customers = []  # Class-level list to store all instances of Customers\n",
    "    def __init__(self, customer_id, latitude, longitude, firstname, lastname, homestore_ID):\n",
    "        super().__init__(CUSTOMER_ID=customer_id, \n",
    "                         LATITUDE=latitude, \n",
    "                         LONGITUDE=longitude, \n",
    "                         FIRSTNAME=firstname, \n",
    "                         LASTNAME=lastname, \n",
    "                         HOMESTORE_ID=homestore_ID)\n",
    "        Customer.all_customers.append(self)  # Add each instance to the class-level list\n",
    "\n",
    "    def __repr__(self):\n",
    "        return f\"Customer(customer_id={self.CUSTOMER_ID}, lat={self.LATITUDE}, lon={self.LONGITUDE}, name={self.FIRSTNAME} {self.LASTNAME}, homestoreID={self.HOMESTORE_ID})\"\n",
    "    \n",
    "    @classmethod\n",
    "    def display_all_customers(cls):\n",
    "        \"\"\"\n",
    "        Display a DataFrame of all customer instances.\n",
    "        \"\"\"\n",
    "        return pd.DataFrame([cust.__dict__ for cust in cls.all_customers])\n",
    "    \n",
    "class Order(BaseEntity):\n",
    "    all_orders = []  # Class-level list to store all instances of Orders\n",
    "    def __init__(self, order_id, customer_id, store_id, order_date, subtotal,tax, total):        \n",
    "        super().__init__(ORDER_ID=order_id, \n",
    "                         CUSTOMER_ID=customer_id, \n",
    "                         STORE_ID=store_id, \n",
    "                         ORDER_DATE=order_date, \n",
    "                         SUBTOTAL=subtotal,\n",
    "                         TAX=tax,\n",
    "                         TOTAL=total)\n",
    "\n",
    "    @classmethod\n",
    "    def display_all_orders(cls):\n",
    "        \"\"\"\n",
    "        Display a DataFrame of all order instances.\n",
    "        \"\"\"\n",
    "        return pd.DataFrame([order.__dict__ for order in cls.all_orders])"
   ]
  },
  {
   "cell_type": "markdown",
   "metadata": {},
   "source": [
    "#### Generate random store locations"
   ]
  },
  {
   "cell_type": "code",
   "execution_count": 165,
   "metadata": {},
   "outputs": [],
   "source": [
    "min_lat, max_lat = 33.0633, 33.2182\n",
    "min_lon, max_lon = -96.9162, -96.6718\n",
    "\n",
    "num_stores = 10\n",
    "\n",
    "import random\n",
    "random.seed(1033)  # For reproducibility"
   ]
  },
  {
   "cell_type": "code",
   "execution_count": 166,
   "metadata": {},
   "outputs": [
    {
     "data": {
      "application/vnd.microsoft.datawrangler.viewer.v0+json": {
       "columns": [
        {
         "name": "index",
         "rawType": "int64",
         "type": "integer"
        },
        {
         "name": "STORE_ID",
         "rawType": "int64",
         "type": "integer"
        },
        {
         "name": "LATITUDE",
         "rawType": "float64",
         "type": "float"
        },
        {
         "name": "LONGITUDE",
         "rawType": "float64",
         "type": "float"
        },
        {
         "name": "STORE_NAME",
         "rawType": "object",
         "type": "string"
        },
        {
         "name": "OPENDT",
         "rawType": "object",
         "type": "string"
        }
       ],
       "conversionMethod": "pd.DataFrame",
       "ref": "340c3a6a-2c9a-4c55-bcc9-513b29c921a3",
       "rows": [
        [
         "0",
         "3431",
         "33.18667",
         "-96.8761",
         "Panucci's Pizza - 3431",
         "2023-03-22"
        ],
        [
         "1",
         "4464",
         "33.12457",
         "-96.87434",
         "Panucci's Pizza - 4464",
         "2016-02-21"
        ],
        [
         "2",
         "7496",
         "33.14074",
         "-96.80274",
         "Panucci's Pizza - 7496",
         "2010-07-21"
        ],
        [
         "3",
         "1119",
         "33.21054",
         "-96.84067",
         "Panucci's Pizza - 1119",
         "2015-11-28"
        ],
        [
         "4",
         "1249",
         "33.10539",
         "-96.8774",
         "Panucci's Pizza - 1249",
         "2021-05-01"
        ],
        [
         "5",
         "3789",
         "33.07664",
         "-96.90281",
         "Panucci's Pizza - 3789",
         "2010-12-01"
        ],
        [
         "6",
         "151",
         "33.14574",
         "-96.74385",
         "Panucci's Pizza - 151",
         "2016-06-20"
        ],
        [
         "7",
         "6202",
         "33.09622",
         "-96.70679",
         "Panucci's Pizza - 6202",
         "2015-01-18"
        ],
        [
         "8",
         "6144",
         "33.16461",
         "-96.82926",
         "Panucci's Pizza - 6144",
         "2019-11-28"
        ],
        [
         "9",
         "2510",
         "33.10672",
         "-96.84545",
         "Panucci's Pizza - 2510",
         "2022-03-06"
        ]
       ],
       "shape": {
        "columns": 5,
        "rows": 10
       }
      },
      "text/html": [
       "<div>\n",
       "<style scoped>\n",
       "    .dataframe tbody tr th:only-of-type {\n",
       "        vertical-align: middle;\n",
       "    }\n",
       "\n",
       "    .dataframe tbody tr th {\n",
       "        vertical-align: top;\n",
       "    }\n",
       "\n",
       "    .dataframe thead th {\n",
       "        text-align: right;\n",
       "    }\n",
       "</style>\n",
       "<table border=\"1\" class=\"dataframe\">\n",
       "  <thead>\n",
       "    <tr style=\"text-align: right;\">\n",
       "      <th></th>\n",
       "      <th>STORE_ID</th>\n",
       "      <th>LATITUDE</th>\n",
       "      <th>LONGITUDE</th>\n",
       "      <th>STORE_NAME</th>\n",
       "      <th>OPENDT</th>\n",
       "    </tr>\n",
       "  </thead>\n",
       "  <tbody>\n",
       "    <tr>\n",
       "      <th>0</th>\n",
       "      <td>3431</td>\n",
       "      <td>33.18667</td>\n",
       "      <td>-96.87610</td>\n",
       "      <td>Panucci's Pizza - 3431</td>\n",
       "      <td>2023-03-22</td>\n",
       "    </tr>\n",
       "    <tr>\n",
       "      <th>1</th>\n",
       "      <td>4464</td>\n",
       "      <td>33.12457</td>\n",
       "      <td>-96.87434</td>\n",
       "      <td>Panucci's Pizza - 4464</td>\n",
       "      <td>2016-02-21</td>\n",
       "    </tr>\n",
       "    <tr>\n",
       "      <th>2</th>\n",
       "      <td>7496</td>\n",
       "      <td>33.14074</td>\n",
       "      <td>-96.80274</td>\n",
       "      <td>Panucci's Pizza - 7496</td>\n",
       "      <td>2010-07-21</td>\n",
       "    </tr>\n",
       "    <tr>\n",
       "      <th>3</th>\n",
       "      <td>1119</td>\n",
       "      <td>33.21054</td>\n",
       "      <td>-96.84067</td>\n",
       "      <td>Panucci's Pizza - 1119</td>\n",
       "      <td>2015-11-28</td>\n",
       "    </tr>\n",
       "    <tr>\n",
       "      <th>4</th>\n",
       "      <td>1249</td>\n",
       "      <td>33.10539</td>\n",
       "      <td>-96.87740</td>\n",
       "      <td>Panucci's Pizza - 1249</td>\n",
       "      <td>2021-05-01</td>\n",
       "    </tr>\n",
       "    <tr>\n",
       "      <th>5</th>\n",
       "      <td>3789</td>\n",
       "      <td>33.07664</td>\n",
       "      <td>-96.90281</td>\n",
       "      <td>Panucci's Pizza - 3789</td>\n",
       "      <td>2010-12-01</td>\n",
       "    </tr>\n",
       "    <tr>\n",
       "      <th>6</th>\n",
       "      <td>151</td>\n",
       "      <td>33.14574</td>\n",
       "      <td>-96.74385</td>\n",
       "      <td>Panucci's Pizza - 151</td>\n",
       "      <td>2016-06-20</td>\n",
       "    </tr>\n",
       "    <tr>\n",
       "      <th>7</th>\n",
       "      <td>6202</td>\n",
       "      <td>33.09622</td>\n",
       "      <td>-96.70679</td>\n",
       "      <td>Panucci's Pizza - 6202</td>\n",
       "      <td>2015-01-18</td>\n",
       "    </tr>\n",
       "    <tr>\n",
       "      <th>8</th>\n",
       "      <td>6144</td>\n",
       "      <td>33.16461</td>\n",
       "      <td>-96.82926</td>\n",
       "      <td>Panucci's Pizza - 6144</td>\n",
       "      <td>2019-11-28</td>\n",
       "    </tr>\n",
       "    <tr>\n",
       "      <th>9</th>\n",
       "      <td>2510</td>\n",
       "      <td>33.10672</td>\n",
       "      <td>-96.84545</td>\n",
       "      <td>Panucci's Pizza - 2510</td>\n",
       "      <td>2022-03-06</td>\n",
       "    </tr>\n",
       "  </tbody>\n",
       "</table>\n",
       "</div>"
      ],
      "text/plain": [
       "   STORE_ID  LATITUDE  LONGITUDE              STORE_NAME      OPENDT\n",
       "0      3431  33.18667  -96.87610  Panucci's Pizza - 3431  2023-03-22\n",
       "1      4464  33.12457  -96.87434  Panucci's Pizza - 4464  2016-02-21\n",
       "2      7496  33.14074  -96.80274  Panucci's Pizza - 7496  2010-07-21\n",
       "3      1119  33.21054  -96.84067  Panucci's Pizza - 1119  2015-11-28\n",
       "4      1249  33.10539  -96.87740  Panucci's Pizza - 1249  2021-05-01\n",
       "5      3789  33.07664  -96.90281  Panucci's Pizza - 3789  2010-12-01\n",
       "6       151  33.14574  -96.74385   Panucci's Pizza - 151  2016-06-20\n",
       "7      6202  33.09622  -96.70679  Panucci's Pizza - 6202  2015-01-18\n",
       "8      6144  33.16461  -96.82926  Panucci's Pizza - 6144  2019-11-28\n",
       "9      2510  33.10672  -96.84545  Panucci's Pizza - 2510  2022-03-06"
      ]
     },
     "execution_count": 166,
     "metadata": {},
     "output_type": "execute_result"
    }
   ],
   "source": [
    "# Generate random store locations within the bounding box\n",
    "\n",
    "\n",
    "Store.all_stores = []  # Reset the class-level list to avoid duplicates\n",
    "name_prefix = \"Panucci's Pizza - \"\n",
    "store_ids = [random.randint(0, 9999) for _ in range(num_stores)]\n",
    "store_locations = [\n",
    "    Store(\n",
    "        store_id=store_id,\n",
    "        latitude=np.round(random.uniform(min_lat, max_lat),5),\n",
    "        longitude=np.round(random.uniform(min_lon, max_lon),5),\n",
    "        store_name=f\"{name_prefix}{store_id}\",\n",
    "        opendt=f\"{random.randint(2010, 2023)}-{random.randint(1, 12):02d}-{random.randint(1, 28):02d}\"\n",
    "    ).__dict__ for store_id in store_ids\n",
    "]\n",
    "\n",
    "Store.display_all_stores()"
   ]
  },
  {
   "cell_type": "code",
   "execution_count": 167,
   "metadata": {},
   "outputs": [],
   "source": [
    "# # Create a map centered around Frisco, TX\n",
    "# map_center = [np.mean([min_lat,max_lat]), np.mean([min_lon,max_lon])]\n",
    "# m = folium.Map(location=map_center, zoom_start=12, tiles='cartodbdark_matter')\n",
    "\n",
    "# # Add markers for each store location\n",
    "# for location in Store.all_stores:\n",
    "#     # Create a marker for each store location\n",
    "#     # Add a popup with the store name and open date\n",
    "#     folium.Marker(\n",
    "#         [location.LATITUDE, location.LONGITUDE],\n",
    "#         popup=folium.Popup(f\"{location.STORE_NAME}\", max_width=1000),\n",
    "#         tooltip=location.STORE_NAME,\n",
    "#     ).add_to(m)\n",
    "\n",
    "# m"
   ]
  },
  {
   "cell_type": "markdown",
   "metadata": {},
   "source": [
    "#### Generate customer locations for each store"
   ]
  },
  {
   "cell_type": "code",
   "execution_count": 168,
   "metadata": {},
   "outputs": [],
   "source": [
    "num_customers_per_store = (20,50)\n",
    "\n",
    "radius_range = (0.5, 2.0)  # in km"
   ]
  },
  {
   "cell_type": "code",
   "execution_count": 169,
   "metadata": {},
   "outputs": [],
   "source": [
    "from scipy.stats import gamma\n",
    "import numpy as np\n",
    "\n",
    "# Predefined list of first names\n",
    "first_names = [\"Alice\", \"Bob\", \"Charlie\", \"David\", \"Eve\", \"Frank\", \"Grace\", \"Hannah\", \"Ivy\", \"Jack\", \"Kathy\", \"Liam\", \"Mona\", \"Nathan\", \"Olivia\", \"Paul\", \"Quincy\", \"Rachel\", \"Steve\", \"Tina\"]\n",
    "# Predefined list of Pokémon names\n",
    "pokemon_last_names = [\"Pikachu\", \"Charmander\", \"Bulbasaur\", \"Squirtle\", \"Jigglypuff\", \"Meowth\", \"Psyduck\", \"Snorlax\", \"Eevee\", \"Mewtwo\"]\n",
    "\n",
    "\n",
    "def generate_customers(store_location, search_radius, num_customers, store_id=None):\n",
    "    \"\"\"\n",
    "    Generate customers around a store location using a gamma-gamma distribution.\n",
    "\n",
    "    :param store_location: Tuple of (latitude, longitude) for the store location.\n",
    "    :param search_radius: Maximum search radius in kilometers.\n",
    "    :param num_customers: Number of customers to generate.\n",
    "    :param alpha: Shape parameter for the gamma distribution (default: 2.0).\n",
    "    :param beta: Scale parameter for the gamma distribution (default: 2.0).\n",
    "    :param store_id: ID of the store to associate customers with.\n",
    "    :return: List of Customer objects.\n",
    "    \"\"\"\n",
    "    customers = []\n",
    "    for i in range(num_customers):\n",
    "        # Generate a random distance using the exponential distribution\n",
    "        distance = np.random.exponential(scale=search_radius / 2)\n",
    "        # Generate a random bearing (angle in radians)\n",
    "        bearing = np.random.uniform(0, 2 * np.pi)\n",
    "        # Calculate the new latitude and longitude\n",
    "        delta_lat = distance * np.cos(bearing) / 111  # Approx. conversion of km to degrees latitude\n",
    "        delta_lon = distance * np.sin(bearing) / (111 * np.cos(np.radians(store_location[0])))  # Adjust for longitude\n",
    "        customer_lat = store_location[0] + delta_lat\n",
    "        customer_lon = store_location[1] + delta_lon\n",
    "        # Create a Customer object\n",
    "        customer_id = f\"{random.randint(0, 9999)}\"\n",
    "        first_name = random.choice(first_names)\n",
    "        last_name = random.choice(pokemon_last_names)\n",
    "        customers.append(Customer(customer_id, np.round(customer_lat,5), np.round(customer_lon,5), first_name, last_name, store_id))\n",
    "    return customers"
   ]
  },
  {
   "cell_type": "code",
   "execution_count": 170,
   "metadata": {},
   "outputs": [],
   "source": [
    "# Generate customers for each store\n",
    "Customer.all_customers = []  # Reset the class-level list to avoid duplicates\n",
    "\n",
    "\n",
    "for store in Store.all_stores:\n",
    "    store_location = (store.LATITUDE, store.LONGITUDE)\n",
    "    num_customers = random.randint(*num_customers_per_store)  # Randomly choose the number of customers within the range\n",
    "    search_radius_km = random.uniform(*radius_range)  # Randomly choose the search radius within the range\n",
    "\n",
    "    generate_customers(store_location, search_radius_km, num_customers, store_id=store.STORE_ID)\n"
   ]
  },
  {
   "cell_type": "code",
   "execution_count": 171,
   "metadata": {},
   "outputs": [
    {
     "data": {
      "application/vnd.microsoft.datawrangler.viewer.v0+json": {
       "columns": [
        {
         "name": "index",
         "rawType": "int64",
         "type": "integer"
        },
        {
         "name": "CUSTOMER_ID",
         "rawType": "object",
         "type": "string"
        },
        {
         "name": "LATITUDE",
         "rawType": "float64",
         "type": "float"
        },
        {
         "name": "LONGITUDE",
         "rawType": "float64",
         "type": "float"
        },
        {
         "name": "FIRSTNAME",
         "rawType": "object",
         "type": "string"
        },
        {
         "name": "LASTNAME",
         "rawType": "object",
         "type": "string"
        },
        {
         "name": "HOMESTORE_ID",
         "rawType": "int64",
         "type": "integer"
        }
       ],
       "conversionMethod": "pd.DataFrame",
       "ref": "2a3049c3-2a41-4168-b44a-a9eae3cc086e",
       "rows": [
        [
         "0",
         "7336",
         "33.1877",
         "-96.87076",
         "Bob",
         "Mewtwo",
         "3431"
        ],
        [
         "1",
         "928",
         "33.18663",
         "-96.87602",
         "Ivy",
         "Jigglypuff",
         "3431"
        ],
        [
         "2",
         "2835",
         "33.18637",
         "-96.87625",
         "Rachel",
         "Meowth",
         "3431"
        ],
        [
         "3",
         "4351",
         "33.18712",
         "-96.86948",
         "Frank",
         "Meowth",
         "3431"
        ],
        [
         "4",
         "9372",
         "33.17848",
         "-96.88722",
         "Nathan",
         "Eevee",
         "3431"
        ],
        [
         "5",
         "3837",
         "33.18089",
         "-96.87939",
         "David",
         "Jigglypuff",
         "3431"
        ],
        [
         "6",
         "2143",
         "33.1848",
         "-96.87702",
         "Alice",
         "Bulbasaur",
         "3431"
        ],
        [
         "7",
         "4657",
         "33.18402",
         "-96.86998",
         "Ivy",
         "Bulbasaur",
         "3431"
        ],
        [
         "8",
         "5430",
         "33.18792",
         "-96.87558",
         "Tina",
         "Pikachu",
         "3431"
        ],
        [
         "9",
         "9170",
         "33.20668",
         "-96.87715",
         "Eve",
         "Psyduck",
         "3431"
        ],
        [
         "10",
         "2299",
         "33.18572",
         "-96.87654",
         "Charlie",
         "Psyduck",
         "3431"
        ],
        [
         "11",
         "3462",
         "33.18193",
         "-96.88081",
         "Bob",
         "Squirtle",
         "3431"
        ],
        [
         "12",
         "3693",
         "33.18001",
         "-96.88548",
         "Mona",
         "Mewtwo",
         "3431"
        ],
        [
         "13",
         "7724",
         "33.18797",
         "-96.87677",
         "Hannah",
         "Bulbasaur",
         "3431"
        ],
        [
         "14",
         "3047",
         "33.18697",
         "-96.87693",
         "Mona",
         "Squirtle",
         "3431"
        ],
        [
         "15",
         "7923",
         "33.18502",
         "-96.87662",
         "Hannah",
         "Squirtle",
         "3431"
        ],
        [
         "16",
         "2401",
         "33.16962",
         "-96.8738",
         "David",
         "Charmander",
         "3431"
        ],
        [
         "17",
         "4794",
         "33.20123",
         "-96.8645",
         "Steve",
         "Pikachu",
         "3431"
        ],
        [
         "18",
         "680",
         "33.18153",
         "-96.86606",
         "Tina",
         "Squirtle",
         "3431"
        ],
        [
         "19",
         "1578",
         "33.1892",
         "-96.87554",
         "Charlie",
         "Bulbasaur",
         "3431"
        ],
        [
         "20",
         "8075",
         "33.18723",
         "-96.87518",
         "Alice",
         "Bulbasaur",
         "3431"
        ],
        [
         "21",
         "991",
         "33.18964",
         "-96.87561",
         "Eve",
         "Eevee",
         "3431"
        ],
        [
         "22",
         "1986",
         "33.19186",
         "-96.87618",
         "Paul",
         "Jigglypuff",
         "3431"
        ],
        [
         "23",
         "7308",
         "33.18318",
         "-96.87903",
         "Steve",
         "Eevee",
         "3431"
        ],
        [
         "24",
         "1530",
         "33.18457",
         "-96.87576",
         "Mona",
         "Bulbasaur",
         "3431"
        ],
        [
         "25",
         "6784",
         "33.18477",
         "-96.87247",
         "Hannah",
         "Eevee",
         "3431"
        ],
        [
         "26",
         "9458",
         "33.1888",
         "-96.87849",
         "Bob",
         "Mewtwo",
         "3431"
        ],
        [
         "27",
         "4307",
         "33.18693",
         "-96.87658",
         "Mona",
         "Meowth",
         "3431"
        ],
        [
         "28",
         "3837",
         "33.18007",
         "-96.86444",
         "Liam",
         "Mewtwo",
         "3431"
        ],
        [
         "29",
         "6843",
         "33.19475",
         "-96.86449",
         "Ivy",
         "Mewtwo",
         "3431"
        ],
        [
         "30",
         "9735",
         "33.12431",
         "-96.87848",
         "Quincy",
         "Eevee",
         "4464"
        ],
        [
         "31",
         "6799",
         "33.12531",
         "-96.8748",
         "Grace",
         "Eevee",
         "4464"
        ],
        [
         "32",
         "4546",
         "33.12333",
         "-96.87738",
         "Tina",
         "Bulbasaur",
         "4464"
        ],
        [
         "33",
         "5194",
         "33.12213",
         "-96.86843",
         "Tina",
         "Eevee",
         "4464"
        ],
        [
         "34",
         "5184",
         "33.11959",
         "-96.87741",
         "Mona",
         "Bulbasaur",
         "4464"
        ],
        [
         "35",
         "6410",
         "33.10019",
         "-96.84478",
         "Paul",
         "Pikachu",
         "4464"
        ],
        [
         "36",
         "7058",
         "33.1192",
         "-96.87056",
         "Tina",
         "Eevee",
         "4464"
        ],
        [
         "37",
         "4940",
         "33.13176",
         "-96.8741",
         "Bob",
         "Eevee",
         "4464"
        ],
        [
         "38",
         "2454",
         "33.12324",
         "-96.86823",
         "Charlie",
         "Psyduck",
         "4464"
        ],
        [
         "39",
         "9483",
         "33.12248",
         "-96.85673",
         "Mona",
         "Pikachu",
         "4464"
        ],
        [
         "40",
         "8469",
         "33.12448",
         "-96.87461",
         "Jack",
         "Jigglypuff",
         "4464"
        ],
        [
         "41",
         "5089",
         "33.12365",
         "-96.87008",
         "Ivy",
         "Psyduck",
         "4464"
        ],
        [
         "42",
         "6715",
         "33.13294",
         "-96.86504",
         "Alice",
         "Psyduck",
         "4464"
        ],
        [
         "43",
         "2734",
         "33.12518",
         "-96.87887",
         "Frank",
         "Mewtwo",
         "4464"
        ],
        [
         "44",
         "2282",
         "33.11934",
         "-96.8694",
         "Alice",
         "Pikachu",
         "4464"
        ],
        [
         "45",
         "67",
         "33.11833",
         "-96.88717",
         "Quincy",
         "Mewtwo",
         "4464"
        ],
        [
         "46",
         "3707",
         "33.12241",
         "-96.87236",
         "Ivy",
         "Eevee",
         "4464"
        ],
        [
         "47",
         "812",
         "33.13048",
         "-96.87447",
         "David",
         "Eevee",
         "4464"
        ],
        [
         "48",
         "5693",
         "33.11543",
         "-96.88495",
         "Charlie",
         "Charmander",
         "4464"
        ],
        [
         "49",
         "1760",
         "33.11332",
         "-96.84491",
         "Rachel",
         "Mewtwo",
         "4464"
        ]
       ],
       "shape": {
        "columns": 6,
        "rows": 303
       }
      },
      "text/html": [
       "<div>\n",
       "<style scoped>\n",
       "    .dataframe tbody tr th:only-of-type {\n",
       "        vertical-align: middle;\n",
       "    }\n",
       "\n",
       "    .dataframe tbody tr th {\n",
       "        vertical-align: top;\n",
       "    }\n",
       "\n",
       "    .dataframe thead th {\n",
       "        text-align: right;\n",
       "    }\n",
       "</style>\n",
       "<table border=\"1\" class=\"dataframe\">\n",
       "  <thead>\n",
       "    <tr style=\"text-align: right;\">\n",
       "      <th></th>\n",
       "      <th>CUSTOMER_ID</th>\n",
       "      <th>LATITUDE</th>\n",
       "      <th>LONGITUDE</th>\n",
       "      <th>FIRSTNAME</th>\n",
       "      <th>LASTNAME</th>\n",
       "      <th>HOMESTORE_ID</th>\n",
       "    </tr>\n",
       "  </thead>\n",
       "  <tbody>\n",
       "    <tr>\n",
       "      <th>0</th>\n",
       "      <td>7336</td>\n",
       "      <td>33.18770</td>\n",
       "      <td>-96.87076</td>\n",
       "      <td>Bob</td>\n",
       "      <td>Mewtwo</td>\n",
       "      <td>3431</td>\n",
       "    </tr>\n",
       "    <tr>\n",
       "      <th>1</th>\n",
       "      <td>928</td>\n",
       "      <td>33.18663</td>\n",
       "      <td>-96.87602</td>\n",
       "      <td>Ivy</td>\n",
       "      <td>Jigglypuff</td>\n",
       "      <td>3431</td>\n",
       "    </tr>\n",
       "    <tr>\n",
       "      <th>2</th>\n",
       "      <td>2835</td>\n",
       "      <td>33.18637</td>\n",
       "      <td>-96.87625</td>\n",
       "      <td>Rachel</td>\n",
       "      <td>Meowth</td>\n",
       "      <td>3431</td>\n",
       "    </tr>\n",
       "    <tr>\n",
       "      <th>3</th>\n",
       "      <td>4351</td>\n",
       "      <td>33.18712</td>\n",
       "      <td>-96.86948</td>\n",
       "      <td>Frank</td>\n",
       "      <td>Meowth</td>\n",
       "      <td>3431</td>\n",
       "    </tr>\n",
       "    <tr>\n",
       "      <th>4</th>\n",
       "      <td>9372</td>\n",
       "      <td>33.17848</td>\n",
       "      <td>-96.88722</td>\n",
       "      <td>Nathan</td>\n",
       "      <td>Eevee</td>\n",
       "      <td>3431</td>\n",
       "    </tr>\n",
       "    <tr>\n",
       "      <th>...</th>\n",
       "      <td>...</td>\n",
       "      <td>...</td>\n",
       "      <td>...</td>\n",
       "      <td>...</td>\n",
       "      <td>...</td>\n",
       "      <td>...</td>\n",
       "    </tr>\n",
       "    <tr>\n",
       "      <th>298</th>\n",
       "      <td>7675</td>\n",
       "      <td>33.10669</td>\n",
       "      <td>-96.84651</td>\n",
       "      <td>Hannah</td>\n",
       "      <td>Pikachu</td>\n",
       "      <td>2510</td>\n",
       "    </tr>\n",
       "    <tr>\n",
       "      <th>299</th>\n",
       "      <td>6365</td>\n",
       "      <td>33.10688</td>\n",
       "      <td>-96.84619</td>\n",
       "      <td>Mona</td>\n",
       "      <td>Charmander</td>\n",
       "      <td>2510</td>\n",
       "    </tr>\n",
       "    <tr>\n",
       "      <th>300</th>\n",
       "      <td>1589</td>\n",
       "      <td>33.10660</td>\n",
       "      <td>-96.84557</td>\n",
       "      <td>Olivia</td>\n",
       "      <td>Meowth</td>\n",
       "      <td>2510</td>\n",
       "    </tr>\n",
       "    <tr>\n",
       "      <th>301</th>\n",
       "      <td>6512</td>\n",
       "      <td>33.10865</td>\n",
       "      <td>-96.85091</td>\n",
       "      <td>Liam</td>\n",
       "      <td>Charmander</td>\n",
       "      <td>2510</td>\n",
       "    </tr>\n",
       "    <tr>\n",
       "      <th>302</th>\n",
       "      <td>4539</td>\n",
       "      <td>33.10878</td>\n",
       "      <td>-96.84897</td>\n",
       "      <td>Kathy</td>\n",
       "      <td>Charmander</td>\n",
       "      <td>2510</td>\n",
       "    </tr>\n",
       "  </tbody>\n",
       "</table>\n",
       "<p>303 rows × 6 columns</p>\n",
       "</div>"
      ],
      "text/plain": [
       "    CUSTOMER_ID  LATITUDE  LONGITUDE FIRSTNAME    LASTNAME  HOMESTORE_ID\n",
       "0          7336  33.18770  -96.87076       Bob      Mewtwo          3431\n",
       "1           928  33.18663  -96.87602       Ivy  Jigglypuff          3431\n",
       "2          2835  33.18637  -96.87625    Rachel      Meowth          3431\n",
       "3          4351  33.18712  -96.86948     Frank      Meowth          3431\n",
       "4          9372  33.17848  -96.88722    Nathan       Eevee          3431\n",
       "..          ...       ...        ...       ...         ...           ...\n",
       "298        7675  33.10669  -96.84651    Hannah     Pikachu          2510\n",
       "299        6365  33.10688  -96.84619      Mona  Charmander          2510\n",
       "300        1589  33.10660  -96.84557    Olivia      Meowth          2510\n",
       "301        6512  33.10865  -96.85091      Liam  Charmander          2510\n",
       "302        4539  33.10878  -96.84897     Kathy  Charmander          2510\n",
       "\n",
       "[303 rows x 6 columns]"
      ]
     },
     "execution_count": 171,
     "metadata": {},
     "output_type": "execute_result"
    }
   ],
   "source": [
    "Customer.display_all_customers()"
   ]
  },
  {
   "cell_type": "markdown",
   "metadata": {},
   "source": [
    "#### Transactional data\n",
    "Generate random transactional data for each store"
   ]
  },
  {
   "cell_type": "code",
   "execution_count": 172,
   "metadata": {},
   "outputs": [],
   "source": [
    "def generate_gaussian_value(mean, std, floor):\n",
    "    \"\"\"\n",
    "    Generate a random value based on a Gaussian distribution.\n",
    "\n",
    "    :param mean: Mean of the Gaussian distribution.\n",
    "    :param std: Standard deviation of the Gaussian distribution.\n",
    "    :param floor: Minimum value (floor) for the generated value.\n",
    "    :return: A random value from the Gaussian distribution, floored at the specified minimum value.\n",
    "    \"\"\"\n",
    "    value = np.random.normal(loc=mean, scale=std)\n",
    "    return round(max(value, floor), 2)  # Round to 2 decimal places and ensure it's not below the floor value"
   ]
  },
  {
   "cell_type": "code",
   "execution_count": 181,
   "metadata": {},
   "outputs": [],
   "source": [
    "num_orders_per_customer = (3, 25)\n",
    "\n",
    "Order.all_orders = []  # Reset the class-level list to avoid duplicates\n",
    "\n",
    "for customer in Customer.all_customers:\n",
    "    num_orders = random.randint(*num_orders_per_customer)  # Randomly choose the number of orders for each customer\n",
    "    for _ in range(num_orders):\n",
    "        order_id = f\"{random.randint(0, 99999)}\"\n",
    "        order_date = f\"{random.randint(2020, 2023)}-{random.randint(1, 12):02d}-{random.randint(1, 28):02d}\"\n",
    "        order_subtotal = generate_gaussian_value(mean=30, std=10, floor=5)  # Generate a random order total\n",
    "        order_tax = np.round(order_subtotal * 0.0825,2)  # Assuming a tax rate of 8.25%\n",
    "        order_total = np.round(order_subtotal + order_tax,2)\n",
    "        Order.all_orders.append(Order(order_id, customer.CUSTOMER_ID, customer.HOMESTORE_ID, order_date, order_subtotal, order_tax, order_total))"
   ]
  },
  {
   "cell_type": "code",
   "execution_count": 182,
   "metadata": {},
   "outputs": [
    {
     "data": {
      "application/vnd.microsoft.datawrangler.viewer.v0+json": {
       "columns": [
        {
         "name": "index",
         "rawType": "int64",
         "type": "integer"
        },
        {
         "name": "ORDER_ID",
         "rawType": "object",
         "type": "string"
        },
        {
         "name": "CUSTOMER_ID",
         "rawType": "object",
         "type": "string"
        },
        {
         "name": "STORE_ID",
         "rawType": "int64",
         "type": "integer"
        },
        {
         "name": "ORDER_DATE",
         "rawType": "object",
         "type": "string"
        },
        {
         "name": "SUBTOTAL",
         "rawType": "float64",
         "type": "float"
        },
        {
         "name": "TAX",
         "rawType": "float64",
         "type": "float"
        },
        {
         "name": "TOTAL",
         "rawType": "float64",
         "type": "float"
        }
       ],
       "conversionMethod": "pd.DataFrame",
       "ref": "a5aa20cd-fbdb-423e-8dd4-cb31dbdeaced",
       "rows": [
        [
         "0",
         "89743",
         "7336",
         "3431",
         "2022-01-27",
         "20.84",
         "1.72",
         "22.56"
        ],
        [
         "1",
         "5308",
         "7336",
         "3431",
         "2020-12-03",
         "37.91",
         "3.13",
         "41.04"
        ],
        [
         "2",
         "19320",
         "7336",
         "3431",
         "2023-07-13",
         "21.93",
         "1.81",
         "23.74"
        ],
        [
         "3",
         "59079",
         "7336",
         "3431",
         "2023-08-21",
         "26.57",
         "2.19",
         "28.76"
        ],
        [
         "4",
         "22260",
         "7336",
         "3431",
         "2021-05-19",
         "22.04",
         "1.82",
         "23.86"
        ],
        [
         "5",
         "13904",
         "7336",
         "3431",
         "2020-11-27",
         "45.88",
         "3.79",
         "49.67"
        ],
        [
         "6",
         "36060",
         "7336",
         "3431",
         "2020-01-25",
         "19.59",
         "1.62",
         "21.21"
        ],
        [
         "7",
         "49573",
         "7336",
         "3431",
         "2020-07-06",
         "15.79",
         "1.3",
         "17.09"
        ],
        [
         "8",
         "96219",
         "7336",
         "3431",
         "2023-02-16",
         "17.93",
         "1.48",
         "19.41"
        ],
        [
         "9",
         "88522",
         "7336",
         "3431",
         "2020-07-08",
         "27.08",
         "2.23",
         "29.31"
        ],
        [
         "10",
         "30794",
         "7336",
         "3431",
         "2020-09-09",
         "21.84",
         "1.8",
         "23.64"
        ],
        [
         "11",
         "57356",
         "7336",
         "3431",
         "2022-08-15",
         "27.45",
         "2.26",
         "29.71"
        ],
        [
         "12",
         "41436",
         "7336",
         "3431",
         "2021-05-11",
         "22.97",
         "1.9",
         "24.87"
        ],
        [
         "13",
         "52808",
         "7336",
         "3431",
         "2023-07-18",
         "24.23",
         "2.0",
         "26.23"
        ],
        [
         "14",
         "31026",
         "7336",
         "3431",
         "2020-04-01",
         "29.29",
         "2.42",
         "31.71"
        ],
        [
         "15",
         "11798",
         "928",
         "3431",
         "2020-07-18",
         "34.69",
         "2.86",
         "37.55"
        ],
        [
         "16",
         "69652",
         "928",
         "3431",
         "2023-05-20",
         "17.88",
         "1.48",
         "19.36"
        ],
        [
         "17",
         "8825",
         "928",
         "3431",
         "2022-09-04",
         "34.01",
         "2.81",
         "36.82"
        ],
        [
         "18",
         "72827",
         "928",
         "3431",
         "2020-05-04",
         "41.87",
         "3.45",
         "45.32"
        ],
        [
         "19",
         "93029",
         "928",
         "3431",
         "2023-04-12",
         "23.4",
         "1.93",
         "25.33"
        ],
        [
         "20",
         "93420",
         "928",
         "3431",
         "2022-07-13",
         "11.95",
         "0.99",
         "12.94"
        ],
        [
         "21",
         "15760",
         "928",
         "3431",
         "2021-11-04",
         "17.5",
         "1.44",
         "18.94"
        ],
        [
         "22",
         "5865",
         "928",
         "3431",
         "2021-04-18",
         "45.01",
         "3.71",
         "48.72"
        ],
        [
         "23",
         "90614",
         "928",
         "3431",
         "2022-04-13",
         "22.75",
         "1.88",
         "24.63"
        ],
        [
         "24",
         "35904",
         "928",
         "3431",
         "2020-02-05",
         "23.25",
         "1.92",
         "25.17"
        ],
        [
         "25",
         "88425",
         "928",
         "3431",
         "2022-01-28",
         "34.48",
         "2.84",
         "37.32"
        ],
        [
         "26",
         "44039",
         "928",
         "3431",
         "2020-07-22",
         "49.72",
         "4.1",
         "53.82"
        ],
        [
         "27",
         "61600",
         "928",
         "3431",
         "2023-11-10",
         "20.1",
         "1.66",
         "21.76"
        ],
        [
         "28",
         "56748",
         "928",
         "3431",
         "2022-12-25",
         "25.86",
         "2.13",
         "27.99"
        ],
        [
         "29",
         "72998",
         "928",
         "3431",
         "2020-01-26",
         "32.54",
         "2.68",
         "35.22"
        ],
        [
         "30",
         "21084",
         "928",
         "3431",
         "2023-02-02",
         "31.25",
         "2.58",
         "33.83"
        ],
        [
         "31",
         "79115",
         "2835",
         "3431",
         "2021-01-17",
         "42.18",
         "3.48",
         "45.66"
        ],
        [
         "32",
         "64143",
         "2835",
         "3431",
         "2021-02-20",
         "35.24",
         "2.91",
         "38.15"
        ],
        [
         "33",
         "9816",
         "2835",
         "3431",
         "2023-01-19",
         "40.91",
         "3.38",
         "44.29"
        ],
        [
         "34",
         "90082",
         "2835",
         "3431",
         "2020-05-18",
         "46.51",
         "3.84",
         "50.35"
        ],
        [
         "35",
         "81692",
         "2835",
         "3431",
         "2022-02-26",
         "23.56",
         "1.94",
         "25.5"
        ],
        [
         "36",
         "59100",
         "2835",
         "3431",
         "2021-09-20",
         "43.88",
         "3.62",
         "47.5"
        ],
        [
         "37",
         "76255",
         "2835",
         "3431",
         "2022-08-18",
         "46.1",
         "3.8",
         "49.9"
        ],
        [
         "38",
         "21831",
         "2835",
         "3431",
         "2020-06-01",
         "35.48",
         "2.93",
         "38.41"
        ],
        [
         "39",
         "33603",
         "2835",
         "3431",
         "2020-03-25",
         "36.33",
         "3.0",
         "39.33"
        ],
        [
         "40",
         "57490",
         "2835",
         "3431",
         "2020-12-01",
         "18.89",
         "1.56",
         "20.45"
        ],
        [
         "41",
         "39960",
         "2835",
         "3431",
         "2021-12-26",
         "34.09",
         "2.81",
         "36.9"
        ],
        [
         "42",
         "95916",
         "2835",
         "3431",
         "2023-08-19",
         "30.71",
         "2.53",
         "33.24"
        ],
        [
         "43",
         "55",
         "2835",
         "3431",
         "2021-05-05",
         "20.66",
         "1.7",
         "22.36"
        ],
        [
         "44",
         "56937",
         "2835",
         "3431",
         "2021-02-27",
         "33.85",
         "2.79",
         "36.64"
        ],
        [
         "45",
         "47849",
         "2835",
         "3431",
         "2021-04-11",
         "35.78",
         "2.95",
         "38.73"
        ],
        [
         "46",
         "79737",
         "2835",
         "3431",
         "2020-04-07",
         "34.42",
         "2.84",
         "37.26"
        ],
        [
         "47",
         "98566",
         "2835",
         "3431",
         "2020-05-02",
         "24.47",
         "2.02",
         "26.49"
        ],
        [
         "48",
         "82892",
         "2835",
         "3431",
         "2020-11-06",
         "38.74",
         "3.2",
         "41.94"
        ],
        [
         "49",
         "36599",
         "2835",
         "3431",
         "2023-12-20",
         "31.69",
         "2.61",
         "34.3"
        ]
       ],
       "shape": {
        "columns": 7,
        "rows": 4185
       }
      },
      "text/html": [
       "<div>\n",
       "<style scoped>\n",
       "    .dataframe tbody tr th:only-of-type {\n",
       "        vertical-align: middle;\n",
       "    }\n",
       "\n",
       "    .dataframe tbody tr th {\n",
       "        vertical-align: top;\n",
       "    }\n",
       "\n",
       "    .dataframe thead th {\n",
       "        text-align: right;\n",
       "    }\n",
       "</style>\n",
       "<table border=\"1\" class=\"dataframe\">\n",
       "  <thead>\n",
       "    <tr style=\"text-align: right;\">\n",
       "      <th></th>\n",
       "      <th>ORDER_ID</th>\n",
       "      <th>CUSTOMER_ID</th>\n",
       "      <th>STORE_ID</th>\n",
       "      <th>ORDER_DATE</th>\n",
       "      <th>SUBTOTAL</th>\n",
       "      <th>TAX</th>\n",
       "      <th>TOTAL</th>\n",
       "    </tr>\n",
       "  </thead>\n",
       "  <tbody>\n",
       "    <tr>\n",
       "      <th>0</th>\n",
       "      <td>89743</td>\n",
       "      <td>7336</td>\n",
       "      <td>3431</td>\n",
       "      <td>2022-01-27</td>\n",
       "      <td>20.84</td>\n",
       "      <td>1.72</td>\n",
       "      <td>22.56</td>\n",
       "    </tr>\n",
       "    <tr>\n",
       "      <th>1</th>\n",
       "      <td>5308</td>\n",
       "      <td>7336</td>\n",
       "      <td>3431</td>\n",
       "      <td>2020-12-03</td>\n",
       "      <td>37.91</td>\n",
       "      <td>3.13</td>\n",
       "      <td>41.04</td>\n",
       "    </tr>\n",
       "    <tr>\n",
       "      <th>2</th>\n",
       "      <td>19320</td>\n",
       "      <td>7336</td>\n",
       "      <td>3431</td>\n",
       "      <td>2023-07-13</td>\n",
       "      <td>21.93</td>\n",
       "      <td>1.81</td>\n",
       "      <td>23.74</td>\n",
       "    </tr>\n",
       "    <tr>\n",
       "      <th>3</th>\n",
       "      <td>59079</td>\n",
       "      <td>7336</td>\n",
       "      <td>3431</td>\n",
       "      <td>2023-08-21</td>\n",
       "      <td>26.57</td>\n",
       "      <td>2.19</td>\n",
       "      <td>28.76</td>\n",
       "    </tr>\n",
       "    <tr>\n",
       "      <th>4</th>\n",
       "      <td>22260</td>\n",
       "      <td>7336</td>\n",
       "      <td>3431</td>\n",
       "      <td>2021-05-19</td>\n",
       "      <td>22.04</td>\n",
       "      <td>1.82</td>\n",
       "      <td>23.86</td>\n",
       "    </tr>\n",
       "    <tr>\n",
       "      <th>...</th>\n",
       "      <td>...</td>\n",
       "      <td>...</td>\n",
       "      <td>...</td>\n",
       "      <td>...</td>\n",
       "      <td>...</td>\n",
       "      <td>...</td>\n",
       "      <td>...</td>\n",
       "    </tr>\n",
       "    <tr>\n",
       "      <th>4180</th>\n",
       "      <td>5966</td>\n",
       "      <td>4539</td>\n",
       "      <td>2510</td>\n",
       "      <td>2023-04-03</td>\n",
       "      <td>37.50</td>\n",
       "      <td>3.09</td>\n",
       "      <td>40.59</td>\n",
       "    </tr>\n",
       "    <tr>\n",
       "      <th>4181</th>\n",
       "      <td>17299</td>\n",
       "      <td>4539</td>\n",
       "      <td>2510</td>\n",
       "      <td>2021-04-12</td>\n",
       "      <td>28.03</td>\n",
       "      <td>2.31</td>\n",
       "      <td>30.34</td>\n",
       "    </tr>\n",
       "    <tr>\n",
       "      <th>4182</th>\n",
       "      <td>79240</td>\n",
       "      <td>4539</td>\n",
       "      <td>2510</td>\n",
       "      <td>2021-03-18</td>\n",
       "      <td>31.69</td>\n",
       "      <td>2.61</td>\n",
       "      <td>34.30</td>\n",
       "    </tr>\n",
       "    <tr>\n",
       "      <th>4183</th>\n",
       "      <td>49721</td>\n",
       "      <td>4539</td>\n",
       "      <td>2510</td>\n",
       "      <td>2021-06-27</td>\n",
       "      <td>12.10</td>\n",
       "      <td>1.00</td>\n",
       "      <td>13.10</td>\n",
       "    </tr>\n",
       "    <tr>\n",
       "      <th>4184</th>\n",
       "      <td>51457</td>\n",
       "      <td>4539</td>\n",
       "      <td>2510</td>\n",
       "      <td>2022-09-26</td>\n",
       "      <td>26.98</td>\n",
       "      <td>2.23</td>\n",
       "      <td>29.21</td>\n",
       "    </tr>\n",
       "  </tbody>\n",
       "</table>\n",
       "<p>4185 rows × 7 columns</p>\n",
       "</div>"
      ],
      "text/plain": [
       "     ORDER_ID CUSTOMER_ID  STORE_ID  ORDER_DATE  SUBTOTAL   TAX  TOTAL\n",
       "0       89743        7336      3431  2022-01-27     20.84  1.72  22.56\n",
       "1        5308        7336      3431  2020-12-03     37.91  3.13  41.04\n",
       "2       19320        7336      3431  2023-07-13     21.93  1.81  23.74\n",
       "3       59079        7336      3431  2023-08-21     26.57  2.19  28.76\n",
       "4       22260        7336      3431  2021-05-19     22.04  1.82  23.86\n",
       "...       ...         ...       ...         ...       ...   ...    ...\n",
       "4180     5966        4539      2510  2023-04-03     37.50  3.09  40.59\n",
       "4181    17299        4539      2510  2021-04-12     28.03  2.31  30.34\n",
       "4182    79240        4539      2510  2021-03-18     31.69  2.61  34.30\n",
       "4183    49721        4539      2510  2021-06-27     12.10  1.00  13.10\n",
       "4184    51457        4539      2510  2022-09-26     26.98  2.23  29.21\n",
       "\n",
       "[4185 rows x 7 columns]"
      ]
     },
     "execution_count": 182,
     "metadata": {},
     "output_type": "execute_result"
    }
   ],
   "source": [
    "Order.display_all_orders()"
   ]
  },
  {
   "cell_type": "markdown",
   "metadata": {},
   "source": [
    "### Create SnowFlake Data"
   ]
  },
  {
   "cell_type": "code",
   "execution_count": null,
   "metadata": {},
   "outputs": [],
   "source": [
    "from dotenv import load_dotenv\n",
    "import os\n",
    "\n",
    "load_dotenv()\n",
    "SF_USER = os.getenv(\"SF_USER\")\n",
    "SF_PASSWORD = os.getenv(\"SF_PASSWORD\")\n",
    "SF_ACCOUNT = os.getenv(\"SF_ACCOUNT\")"
   ]
  },
  {
   "cell_type": "code",
   "execution_count": null,
   "metadata": {},
   "outputs": [],
   "source": [
    "from snowflake.snowpark import Session\n",
    "from snowflake.snowpark import functions as SF\n",
    "\n",
    "connection_parameters = {\n",
    "  \"account\": SF_ACCOUNT,\n",
    "  \"user\": SF_USER,\n",
    "  \"password\": SF_PASSWORD,\n",
    "}\n",
    "new_session = Session.builder.configs(connection_parameters).create()"
   ]
  },
  {
   "cell_type": "code",
   "execution_count": 143,
   "metadata": {},
   "outputs": [],
   "source": [
    "new_db = \"PANUCCIS_PIZZA\"\n",
    "new_schema = \"POS_MAIN\"\n",
    "new_WH = \"PANUCCIS_PIZZA_WH\"\n",
    "table_stores = \"STORES\"\n",
    "table_customers = \"CUSTOMERS\"\n",
    "table_orders = \"ORDERS_HEADER\""
   ]
  },
  {
   "cell_type": "code",
   "execution_count": 144,
   "metadata": {},
   "outputs": [
    {
     "data": {
      "text/plain": [
       "[Row(status='Schema POS_MAIN successfully created.')]"
      ]
     },
     "execution_count": 144,
     "metadata": {},
     "output_type": "execute_result"
    }
   ],
   "source": [
    "# create warehouse\n",
    "new_session.sql(f\"\"\"\n",
    "                CREATE WAREHOUSE if not exists {new_WH}\n",
    "                WITH\n",
    "                WAREHOUSE_SIZE = XSMALL\n",
    "                AUTO_SUSPEND = 30\n",
    "                INITIALLY_SUSPENDED = TRUE\n",
    "                COMMENT = 'WH TO DO TEST RUNS ON PANUCCIS PIZZA DB'\n",
    "                \"\"\").collect()\n",
    "\n",
    "new_session.use_warehouse(f\"{new_WH}\")\n",
    "\n",
    "# create the Panuccis Database\n",
    "new_session.sql(f'CREATE OR REPLACE DATABASE {new_db};').collect()\n",
    "\n",
    "# create the Panuccis PoS Main Schema\n",
    "new_session.sql(f'CREATE OR REPLACE SCHEMA {new_db}.{new_schema};').collect()"
   ]
  },
  {
   "cell_type": "code",
   "execution_count": 184,
   "metadata": {},
   "outputs": [],
   "source": [
    "# Convert customer data to a pandas DataFrame\n",
    "customer_df = Customer.display_all_customers()\n",
    "orders_df = Order.display_all_orders().sort_values(by='ORDER_DATE', ascending=False)\n",
    "store_df = Store.display_all_stores()\n",
    "\n",
    "# Add the first order date for each customer\n",
    "first_order_dates = orders_df.groupby(['CUSTOMER_ID'])[['ORDER_DATE']].min().rename(columns={'ORDER_DATE':'FIRST_ORDER_DATE'})\n",
    "customer_df = customer_df.join(first_order_dates, on='CUSTOMER_ID', how='left')\n",
    "\n",
    "\n",
    "customer_df = customer_df.sort_values(by='FIRST_ORDER_DATE', ascending=False)"
   ]
  },
  {
   "cell_type": "code",
   "execution_count": 186,
   "metadata": {},
   "outputs": [],
   "source": [
    "from snowflake.snowpark.types import StructType, StructField, StringType, FloatType, IntegerType, DateType\n",
    "\n",
    "# Create a Snowpark DataFrame from the pandas DataFrame\n",
    "schema = StructType([\n",
    "    StructField(\"CUSTOMER_ID\", StringType()),\n",
    "    StructField(\"LATITUDE\", FloatType()),\n",
    "    StructField(\"LONGITUDE\", FloatType()),\n",
    "    StructField(\"FIRSTNAME\", StringType()),\n",
    "    StructField(\"LASTNAME\", StringType()),\n",
    "    StructField(\"HOMESTORE_ID\", IntegerType()),\n",
    "    StructField(\"FIRST_ORDER_DATE\", DateType())\n",
    "])\n",
    "# Write the data to the Snowflake table\n",
    "snowpark_customer_df = new_session.create_dataframe(customer_df.to_records(index=False).tolist(), \n",
    "                                                    schema=schema)\n",
    "snowpark_customer_df.write.mode(\"overwrite\").save_as_table(f\"{new_db}.{new_schema}.{table_customers}\")\n",
    "\n",
    "\n",
    "\n",
    "\n",
    "# Define the schema for the store data\n",
    "schema = StructType([\n",
    "    StructField(\"STORE_ID\", IntegerType()),\n",
    "    StructField(\"LATITUDE\", FloatType()),\n",
    "    StructField(\"LONGITUDE\", FloatType()),\n",
    "    StructField(\"STORE_NAME\", StringType()),\n",
    "    StructField(\"OPENDT\", DateType())\n",
    "])\n",
    "# Write the data to the Snowflake table\n",
    "snowpark_store_df = new_session.create_dataframe(store_df.to_records(index=False).tolist(), \n",
    "                                                 schema=schema)\n",
    "snowpark_store_df.write.mode(\"overwrite\").save_as_table(f\"{new_db}.{new_schema}.{table_stores}\")\n",
    "\n",
    "\n",
    "\n",
    "\n",
    "# Define the schema for the orders data\n",
    "schema = StructType([\n",
    "    StructField(\"ORDER_ID\", StringType()),\n",
    "    StructField(\"CUSTOMER_ID\", StringType()),\n",
    "    StructField(\"STORE_ID\", IntegerType()),\n",
    "    StructField(\"ORDER_DATE\", DateType()),\n",
    "    StructField(\"SUBTOTAL\", FloatType()),\n",
    "    StructField(\"TAX\", FloatType()),\n",
    "    StructField(\"TOTAL\", FloatType()),\n",
    "])\n",
    "\n",
    "# Write the data to the Snowflake table\n",
    "snowpark_orders_df = new_session.create_dataframe(orders_df.to_records(index=False).tolist(), \n",
    "                                                  schema=schema)\n",
    "snowpark_orders_df.write.mode(\"overwrite\").save_as_table(f\"{new_db}.{new_schema}.{table_orders}\")"
   ]
  },
  {
   "cell_type": "markdown",
   "metadata": {},
   "source": [
    "#### Snowflake CleanUp\n",
    "When done with the exercise use the following code to clean up your snowflake enviornment"
   ]
  },
  {
   "cell_type": "code",
   "execution_count": 188,
   "metadata": {},
   "outputs": [],
   "source": [
    "new_session.sql(f\"DROP TABLE IF EXISTS {new_db}.{new_schema}.{table_stores};\").collect()\n",
    "new_session.sql(f\"DROP TABLE IF EXISTS {new_db}.{new_schema}.{table_customers};\").collect()\n",
    "new_session.sql(f\"DROP TABLE IF EXISTS {new_db}.{new_schema}.{table_orders};\").collect()\n",
    "new_session.sql(f\"DROP SCHEMA IF EXISTS {new_db}.{new_schema};\").collect()\n",
    "new_session.sql(f\"DROP DATABASE IF EXISTS {new_db};\").collect()\n",
    "new_session.sql(f\"DROP WAREHOUSE IF EXISTS {new_WH};\").collect()\n",
    "new_session.close()"
   ]
  },
  {
   "cell_type": "code",
   "execution_count": null,
   "metadata": {},
   "outputs": [],
   "source": []
  }
 ],
 "metadata": {
  "kernelspec": {
   "display_name": ".venv",
   "language": "python",
   "name": "python3"
  },
  "language_info": {
   "codemirror_mode": {
    "name": "ipython",
    "version": 3
   },
   "file_extension": ".py",
   "mimetype": "text/x-python",
   "name": "python",
   "nbconvert_exporter": "python",
   "pygments_lexer": "ipython3",
   "version": "3.12.9"
  }
 },
 "nbformat": 4,
 "nbformat_minor": 2
}
