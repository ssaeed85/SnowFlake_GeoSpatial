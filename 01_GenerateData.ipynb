{
 "cells": [
  {
   "cell_type": "markdown",
   "metadata": {},
   "source": [
    "## Generate Data"
   ]
  },
  {
   "cell_type": "markdown",
   "metadata": {},
   "source": [
    "#### Store Data\n",
    "Generate store front data"
   ]
  },
  {
   "cell_type": "code",
   "execution_count": 6,
   "metadata": {},
   "outputs": [],
   "source": [
    "import folium\n",
    "import numpy as np\n",
    "import pandas as pd"
   ]
  },
  {
   "cell_type": "code",
   "execution_count": 196,
   "metadata": {},
   "outputs": [],
   "source": [
    "class BaseEntity:\n",
    "    def __init__(self, **kwargs):\n",
    "        for key, value in kwargs.items():\n",
    "            setattr(self, key, value)\n",
    "\n",
    "    def __repr__(self):\n",
    "        attrs = ', '.join(f\"{key}={value}\" for key, value in self.__dict__.items())\n",
    "        return f\"{self.__class__.__name__}({attrs})\"\n",
    "    \n",
    "    def showDataFrame(self):\n",
    "        return pd.DataFrame([self.__dict__])\n",
    "\n",
    "\n",
    "class Store(BaseEntity):\n",
    "    all_stores = []  # Class-level list to store all instances of Store\n",
    "\n",
    "    def __init__(self, store_id, latitude, longitude, store_name, opendt):\n",
    "        super().__init__(STORE_ID=store_id, \n",
    "                         LATITUDE=latitude, \n",
    "                         LONGITUDE=longitude, \n",
    "                         STORE_NAME=store_name, \n",
    "                         OPENDT=opendt)\n",
    "        Store.all_stores.append(self)  # Add each instance to the class-level list\n",
    "\n",
    "    def __repr__(self):\n",
    "        return f\"Store(store_id={self.STORE_ID}, lat={self.LATITUDE}, lon={self.LONGITUDE}, name={self.STORE_NAME}, opendt={self.OPENDT})\"\n",
    "\n",
    "    @classmethod\n",
    "    def display_all_stores(cls):\n",
    "        \"\"\"\n",
    "        Display a DataFrame of all store instances.\n",
    "        \"\"\"\n",
    "        return pd.DataFrame([store.__dict__ for store in cls.all_stores])\n",
    "    \n",
    "\n",
    "class Customer(BaseEntity):\n",
    "    all_customers = []  # Class-level list to store all instances of Customers\n",
    "    def __init__(self, customer_id, lat, lon, firstname, lastname, homestoreID):\n",
    "        super().__init__(customer_id=customer_id, lat=lat, lon=lon, firstname=firstname, lastname=lastname, homestoreID=homestoreID)\n",
    "        Customer.all_customers.append(self)  # Add each instance to the class-level list\n",
    "\n",
    "    def __repr__(self):\n",
    "        return f\"Customer(customer_id={self.customer_id}, lat={self.lat}, lon={self.lon}, name={self.firstname} {self.lastname}, homestoreID={self.homestoreID})\"\n",
    "    \n",
    "    @classmethod\n",
    "    def display_all_customers(cls):\n",
    "        \"\"\"\n",
    "        Display a DataFrame of all customer instances.\n",
    "        \"\"\"\n",
    "        return pd.DataFrame([cust.__dict__ for cust in cls.all_customers])\n",
    "    \n",
    "class Order(BaseEntity):\n",
    "    all_orders = []  # Class-level list to store all instances of Orders\n",
    "    def __init__(self, order_id, customer_id, store_id, order_date, order_total):\n",
    "        super().__init__(order_id=order_id, customer_id=customer_id, store_id=store_id, order_date=order_date, order_total=order_total)\n",
    "\n",
    "    @classmethod\n",
    "    def display_all_orders(cls):\n",
    "        \"\"\"\n",
    "        Display a DataFrame of all order instances.\n",
    "        \"\"\"\n",
    "        return pd.DataFrame([order.__dict__ for order in cls.all_orders])"
   ]
  },
  {
   "cell_type": "markdown",
   "metadata": {},
   "source": [
    "#### Generate random store locations"
   ]
  },
  {
   "cell_type": "code",
   "execution_count": 197,
   "metadata": {},
   "outputs": [],
   "source": [
    "min_lat, max_lat = 33.0633, 33.2182\n",
    "min_lon, max_lon = -96.9162, -96.6718\n",
    "\n",
    "num_stores = 10\n",
    "\n",
    "import random\n",
    "random.seed(1033)  # For reproducibility"
   ]
  },
  {
   "cell_type": "code",
   "execution_count": 205,
   "metadata": {},
   "outputs": [
    {
     "data": {
      "application/vnd.microsoft.datawrangler.viewer.v0+json": {
       "columns": [
        {
         "name": "index",
         "rawType": "int64",
         "type": "integer"
        },
        {
         "name": "STORE_ID",
         "rawType": "int64",
         "type": "integer"
        },
        {
         "name": "LATITUDE",
         "rawType": "float64",
         "type": "float"
        },
        {
         "name": "LONGITUDE",
         "rawType": "float64",
         "type": "float"
        },
        {
         "name": "STORE_NAME",
         "rawType": "object",
         "type": "string"
        },
        {
         "name": "OPENDT",
         "rawType": "object",
         "type": "string"
        }
       ],
       "conversionMethod": "pd.DataFrame",
       "ref": "a7c89438-9b35-4ac1-a9db-e9de022a98df",
       "rows": [
        [
         "0",
         "6032",
         "33.20760059839373",
         "-96.70497901166637",
         "Panucci's Pizza - 6032",
         "2023-03-24"
        ],
        [
         "1",
         "9748",
         "33.125916811261824",
         "-96.70646949115071",
         "Panucci's Pizza - 9748",
         "2011-05-26"
        ],
        [
         "2",
         "424",
         "33.148394232737196",
         "-96.82077660955993",
         "Panucci's Pizza - 424",
         "2013-01-04"
        ],
        [
         "3",
         "5562",
         "33.17143113667523",
         "-96.72593487523876",
         "Panucci's Pizza - 5562",
         "2017-10-28"
        ],
        [
         "4",
         "9693",
         "33.16077730472178",
         "-96.83703961463392",
         "Panucci's Pizza - 9693",
         "2017-06-05"
        ],
        [
         "5",
         "1356",
         "33.16034272953435",
         "-96.82586174173518",
         "Panucci's Pizza - 1356",
         "2014-08-09"
        ],
        [
         "6",
         "3303",
         "33.168190118214106",
         "-96.78673819988136",
         "Panucci's Pizza - 3303",
         "2014-06-01"
        ],
        [
         "7",
         "2089",
         "33.10884786607316",
         "-96.82027326461727",
         "Panucci's Pizza - 2089",
         "2012-08-06"
        ],
        [
         "8",
         "848",
         "33.18799568218071",
         "-96.72569991631106",
         "Panucci's Pizza - 848",
         "2014-12-24"
        ],
        [
         "9",
         "777",
         "33.21154736136935",
         "-96.83120058788323",
         "Panucci's Pizza - 777",
         "2018-12-05"
        ]
       ],
       "shape": {
        "columns": 5,
        "rows": 10
       }
      },
      "text/html": [
       "<div>\n",
       "<style scoped>\n",
       "    .dataframe tbody tr th:only-of-type {\n",
       "        vertical-align: middle;\n",
       "    }\n",
       "\n",
       "    .dataframe tbody tr th {\n",
       "        vertical-align: top;\n",
       "    }\n",
       "\n",
       "    .dataframe thead th {\n",
       "        text-align: right;\n",
       "    }\n",
       "</style>\n",
       "<table border=\"1\" class=\"dataframe\">\n",
       "  <thead>\n",
       "    <tr style=\"text-align: right;\">\n",
       "      <th></th>\n",
       "      <th>STORE_ID</th>\n",
       "      <th>LATITUDE</th>\n",
       "      <th>LONGITUDE</th>\n",
       "      <th>STORE_NAME</th>\n",
       "      <th>OPENDT</th>\n",
       "    </tr>\n",
       "  </thead>\n",
       "  <tbody>\n",
       "    <tr>\n",
       "      <th>0</th>\n",
       "      <td>6032</td>\n",
       "      <td>33.207601</td>\n",
       "      <td>-96.704979</td>\n",
       "      <td>Panucci's Pizza - 6032</td>\n",
       "      <td>2023-03-24</td>\n",
       "    </tr>\n",
       "    <tr>\n",
       "      <th>1</th>\n",
       "      <td>9748</td>\n",
       "      <td>33.125917</td>\n",
       "      <td>-96.706469</td>\n",
       "      <td>Panucci's Pizza - 9748</td>\n",
       "      <td>2011-05-26</td>\n",
       "    </tr>\n",
       "    <tr>\n",
       "      <th>2</th>\n",
       "      <td>424</td>\n",
       "      <td>33.148394</td>\n",
       "      <td>-96.820777</td>\n",
       "      <td>Panucci's Pizza - 424</td>\n",
       "      <td>2013-01-04</td>\n",
       "    </tr>\n",
       "    <tr>\n",
       "      <th>3</th>\n",
       "      <td>5562</td>\n",
       "      <td>33.171431</td>\n",
       "      <td>-96.725935</td>\n",
       "      <td>Panucci's Pizza - 5562</td>\n",
       "      <td>2017-10-28</td>\n",
       "    </tr>\n",
       "    <tr>\n",
       "      <th>4</th>\n",
       "      <td>9693</td>\n",
       "      <td>33.160777</td>\n",
       "      <td>-96.837040</td>\n",
       "      <td>Panucci's Pizza - 9693</td>\n",
       "      <td>2017-06-05</td>\n",
       "    </tr>\n",
       "    <tr>\n",
       "      <th>5</th>\n",
       "      <td>1356</td>\n",
       "      <td>33.160343</td>\n",
       "      <td>-96.825862</td>\n",
       "      <td>Panucci's Pizza - 1356</td>\n",
       "      <td>2014-08-09</td>\n",
       "    </tr>\n",
       "    <tr>\n",
       "      <th>6</th>\n",
       "      <td>3303</td>\n",
       "      <td>33.168190</td>\n",
       "      <td>-96.786738</td>\n",
       "      <td>Panucci's Pizza - 3303</td>\n",
       "      <td>2014-06-01</td>\n",
       "    </tr>\n",
       "    <tr>\n",
       "      <th>7</th>\n",
       "      <td>2089</td>\n",
       "      <td>33.108848</td>\n",
       "      <td>-96.820273</td>\n",
       "      <td>Panucci's Pizza - 2089</td>\n",
       "      <td>2012-08-06</td>\n",
       "    </tr>\n",
       "    <tr>\n",
       "      <th>8</th>\n",
       "      <td>848</td>\n",
       "      <td>33.187996</td>\n",
       "      <td>-96.725700</td>\n",
       "      <td>Panucci's Pizza - 848</td>\n",
       "      <td>2014-12-24</td>\n",
       "    </tr>\n",
       "    <tr>\n",
       "      <th>9</th>\n",
       "      <td>777</td>\n",
       "      <td>33.211547</td>\n",
       "      <td>-96.831201</td>\n",
       "      <td>Panucci's Pizza - 777</td>\n",
       "      <td>2018-12-05</td>\n",
       "    </tr>\n",
       "  </tbody>\n",
       "</table>\n",
       "</div>"
      ],
      "text/plain": [
       "   STORE_ID   LATITUDE  LONGITUDE              STORE_NAME      OPENDT\n",
       "0      6032  33.207601 -96.704979  Panucci's Pizza - 6032  2023-03-24\n",
       "1      9748  33.125917 -96.706469  Panucci's Pizza - 9748  2011-05-26\n",
       "2       424  33.148394 -96.820777   Panucci's Pizza - 424  2013-01-04\n",
       "3      5562  33.171431 -96.725935  Panucci's Pizza - 5562  2017-10-28\n",
       "4      9693  33.160777 -96.837040  Panucci's Pizza - 9693  2017-06-05\n",
       "5      1356  33.160343 -96.825862  Panucci's Pizza - 1356  2014-08-09\n",
       "6      3303  33.168190 -96.786738  Panucci's Pizza - 3303  2014-06-01\n",
       "7      2089  33.108848 -96.820273  Panucci's Pizza - 2089  2012-08-06\n",
       "8       848  33.187996 -96.725700   Panucci's Pizza - 848  2014-12-24\n",
       "9       777  33.211547 -96.831201   Panucci's Pizza - 777  2018-12-05"
      ]
     },
     "execution_count": 205,
     "metadata": {},
     "output_type": "execute_result"
    }
   ],
   "source": [
    "# Generate random store locations within the bounding box\n",
    "\n",
    "\n",
    "Store.all_stores = []  # Reset the class-level list to avoid duplicates\n",
    "name_prefix = \"Panucci's Pizza - \"\n",
    "store_ids = [random.randint(0, 9999) for _ in range(num_stores)]\n",
    "store_locations = [\n",
    "    Store(\n",
    "        store_id=store_id,\n",
    "        latitude=random.uniform(min_lat, max_lat),\n",
    "        longitude=random.uniform(min_lon, max_lon),\n",
    "        store_name=f\"{name_prefix}{store_id}\",\n",
    "        opendt=f\"{random.randint(2010, 2023)}-{random.randint(1, 12):02d}-{random.randint(1, 28):02d}\"\n",
    "    ).__dict__ for store_id in store_ids\n",
    "]\n",
    "\n",
    "Store.display_all_stores()"
   ]
  },
  {
   "cell_type": "code",
   "execution_count": 199,
   "metadata": {},
   "outputs": [],
   "source": [
    "# # Create a map centered around Frisco, TX\n",
    "# map_center = [np.mean([min_lat,max_lat]), np.mean([min_lon,max_lon])]\n",
    "# m = folium.Map(location=map_center, zoom_start=12, tiles='cartodbdark_matter')\n",
    "\n",
    "# # Add markers for each store location\n",
    "# for location in Store.all_stores:\n",
    "#     # Create a marker for each store location\n",
    "#     # Add a popup with the store name and open date\n",
    "#     folium.Marker(\n",
    "#         [location.LATITUDE, location.LONGITUDE],\n",
    "#         popup=folium.Popup(f\"{location.STORE_NAME}\", max_width=1000),\n",
    "#         tooltip=location.STORE_NAME,\n",
    "#     ).add_to(m)\n",
    "\n",
    "# m"
   ]
  },
  {
   "cell_type": "markdown",
   "metadata": {},
   "source": [
    "#### Generate customer locations for each store"
   ]
  },
  {
   "cell_type": "code",
   "execution_count": 200,
   "metadata": {},
   "outputs": [],
   "source": [
    "num_customers_per_store = (20,50)\n",
    "\n",
    "radius_range = (0.5, 2.0)  # in km"
   ]
  },
  {
   "cell_type": "code",
   "execution_count": 201,
   "metadata": {},
   "outputs": [],
   "source": [
    "from scipy.stats import gamma\n",
    "import numpy as np\n",
    "\n",
    "# Predefined list of first names\n",
    "first_names = [\"Alice\", \"Bob\", \"Charlie\", \"David\", \"Eve\", \"Frank\", \"Grace\", \"Hannah\", \"Ivy\", \"Jack\", \"Kathy\", \"Liam\", \"Mona\", \"Nathan\", \"Olivia\", \"Paul\", \"Quincy\", \"Rachel\", \"Steve\", \"Tina\"]\n",
    "# Predefined list of Pokémon names\n",
    "pokemon_last_names = [\"Pikachu\", \"Charmander\", \"Bulbasaur\", \"Squirtle\", \"Jigglypuff\", \"Meowth\", \"Psyduck\", \"Snorlax\", \"Eevee\", \"Mewtwo\"]\n",
    "\n",
    "\n",
    "def generate_customers(store_location, search_radius, num_customers, store_id=None):\n",
    "    \"\"\"\n",
    "    Generate customers around a store location using a gamma-gamma distribution.\n",
    "\n",
    "    :param store_location: Tuple of (latitude, longitude) for the store location.\n",
    "    :param search_radius: Maximum search radius in kilometers.\n",
    "    :param num_customers: Number of customers to generate.\n",
    "    :param alpha: Shape parameter for the gamma distribution (default: 2.0).\n",
    "    :param beta: Scale parameter for the gamma distribution (default: 2.0).\n",
    "    :param store_id: ID of the store to associate customers with.\n",
    "    :return: List of Customer objects.\n",
    "    \"\"\"\n",
    "    customers = []\n",
    "    for i in range(num_customers):\n",
    "        # Generate a random distance using the exponential distribution\n",
    "        distance = np.random.exponential(scale=search_radius / 2)\n",
    "        # Generate a random bearing (angle in radians)\n",
    "        bearing = np.random.uniform(0, 2 * np.pi)\n",
    "        # Calculate the new latitude and longitude\n",
    "        delta_lat = distance * np.cos(bearing) / 111  # Approx. conversion of km to degrees latitude\n",
    "        delta_lon = distance * np.sin(bearing) / (111 * np.cos(np.radians(store_location[0])))  # Adjust for longitude\n",
    "        customer_lat = store_location[0] + delta_lat\n",
    "        customer_lon = store_location[1] + delta_lon\n",
    "        # Create a Customer object\n",
    "        customer_id = f\"{random.randint(0, 9999)}\"\n",
    "        first_name = random.choice(first_names)\n",
    "        last_name = random.choice(pokemon_last_names)\n",
    "        customers.append(Customer(customer_id, customer_lat, customer_lon, first_name, last_name, store_id))\n",
    "    return customers"
   ]
  },
  {
   "cell_type": "code",
   "execution_count": 206,
   "metadata": {},
   "outputs": [],
   "source": [
    "# Generate customers for each store\n",
    "Customer.all_customers = []  # Reset the class-level list to avoid duplicates\n",
    "\n",
    "\n",
    "for store in Store.all_stores:\n",
    "    store_location = (store.LATITUDE, store.LONGITUDE)\n",
    "    num_customers = random.randint(*num_customers_per_store)  # Randomly choose the number of customers within the range\n",
    "    search_radius_km = random.uniform(*radius_range)  # Randomly choose the search radius within the range\n",
    "\n",
    "    generate_customers(store_location, search_radius_km, num_customers, store_id=store.STORE_ID)\n"
   ]
  },
  {
   "cell_type": "code",
   "execution_count": 207,
   "metadata": {},
   "outputs": [
    {
     "data": {
      "application/vnd.microsoft.datawrangler.viewer.v0+json": {
       "columns": [
        {
         "name": "index",
         "rawType": "int64",
         "type": "integer"
        },
        {
         "name": "customer_id",
         "rawType": "object",
         "type": "string"
        },
        {
         "name": "lat",
         "rawType": "float64",
         "type": "float"
        },
        {
         "name": "lon",
         "rawType": "float64",
         "type": "float"
        },
        {
         "name": "firstname",
         "rawType": "object",
         "type": "string"
        },
        {
         "name": "lastname",
         "rawType": "object",
         "type": "string"
        },
        {
         "name": "homestoreID",
         "rawType": "int64",
         "type": "integer"
        }
       ],
       "conversionMethod": "pd.DataFrame",
       "ref": "93e2fda3-19b1-4f4a-a263-029413c51021",
       "rows": [
        [
         "0",
         "1551",
         "33.20864535208243",
         "-96.70401525558607",
         "Nathan",
         "Eevee",
         "6032"
        ],
        [
         "1",
         "8031",
         "33.21188558277742",
         "-96.70549805726867",
         "Tina",
         "Pikachu",
         "6032"
        ],
        [
         "2",
         "1074",
         "33.206774471886085",
         "-96.70355726073684",
         "Charlie",
         "Bulbasaur",
         "6032"
        ],
        [
         "3",
         "1235",
         "33.20624290658029",
         "-96.70885425811854",
         "Steve",
         "Psyduck",
         "6032"
        ],
        [
         "4",
         "104",
         "33.20833815918683",
         "-96.70036514194352",
         "Jack",
         "Mewtwo",
         "6032"
        ],
        [
         "5",
         "9452",
         "33.2053238448775",
         "-96.7184456553942",
         "Alice",
         "Charmander",
         "6032"
        ],
        [
         "6",
         "7751",
         "33.21000811749729",
         "-96.70663898156313",
         "Kathy",
         "Psyduck",
         "6032"
        ],
        [
         "7",
         "8097",
         "33.205256551512754",
         "-96.70078978318446",
         "David",
         "Snorlax",
         "6032"
        ],
        [
         "8",
         "5700",
         "33.20741914102919",
         "-96.70670844722657",
         "Frank",
         "Charmander",
         "6032"
        ],
        [
         "9",
         "7215",
         "33.20365676357227",
         "-96.70704499438465",
         "Rachel",
         "Charmander",
         "6032"
        ],
        [
         "10",
         "5927",
         "33.2080025238812",
         "-96.70493513988957",
         "Frank",
         "Bulbasaur",
         "6032"
        ],
        [
         "11",
         "5441",
         "33.20846143354878",
         "-96.7050319514776",
         "Jack",
         "Mewtwo",
         "6032"
        ],
        [
         "12",
         "6848",
         "33.21096796615152",
         "-96.70366448425209",
         "Nathan",
         "Mewtwo",
         "6032"
        ],
        [
         "13",
         "4224",
         "33.20568896100042",
         "-96.7043483167771",
         "Quincy",
         "Squirtle",
         "6032"
        ],
        [
         "14",
         "7382",
         "33.20219230219522",
         "-96.70580284655203",
         "Steve",
         "Psyduck",
         "6032"
        ],
        [
         "15",
         "5293",
         "33.20927226187446",
         "-96.70214923624738",
         "Ivy",
         "Jigglypuff",
         "6032"
        ],
        [
         "16",
         "1203",
         "33.203808358420254",
         "-96.70098972320815",
         "Quincy",
         "Snorlax",
         "6032"
        ],
        [
         "17",
         "2362",
         "33.20588718696367",
         "-96.68594199388329",
         "Alice",
         "Jigglypuff",
         "6032"
        ],
        [
         "18",
         "5376",
         "33.205351263425484",
         "-96.7061965970829",
         "Liam",
         "Bulbasaur",
         "6032"
        ],
        [
         "19",
         "4259",
         "33.20405416676195",
         "-96.70390430441218",
         "Hannah",
         "Psyduck",
         "6032"
        ],
        [
         "20",
         "500",
         "33.21887527586692",
         "-96.70542869599556",
         "Jack",
         "Mewtwo",
         "6032"
        ],
        [
         "21",
         "35",
         "33.210175844174586",
         "-96.72017780412074",
         "Jack",
         "Charmander",
         "6032"
        ],
        [
         "22",
         "9489",
         "33.20816599444997",
         "-96.71549212002542",
         "Mona",
         "Bulbasaur",
         "6032"
        ],
        [
         "23",
         "4377",
         "33.20796872534699",
         "-96.70551566767932",
         "Quincy",
         "Psyduck",
         "6032"
        ],
        [
         "24",
         "4036",
         "33.2079921201081",
         "-96.70587920590967",
         "Jack",
         "Charmander",
         "6032"
        ],
        [
         "25",
         "1824",
         "33.202177619454474",
         "-96.70528264571183",
         "Steve",
         "Meowth",
         "6032"
        ],
        [
         "26",
         "713",
         "33.2072513392812",
         "-96.70253445303285",
         "Quincy",
         "Charmander",
         "6032"
        ],
        [
         "27",
         "3014",
         "33.202681050057684",
         "-96.70512793286483",
         "Grace",
         "Meowth",
         "6032"
        ],
        [
         "28",
         "8587",
         "33.209872136260195",
         "-96.7068300922772",
         "Eve",
         "Bulbasaur",
         "6032"
        ],
        [
         "29",
         "1294",
         "33.20789375615666",
         "-96.70375229326143",
         "Ivy",
         "Eevee",
         "6032"
        ],
        [
         "30",
         "8297",
         "33.20653338428281",
         "-96.68882237007472",
         "Kathy",
         "Psyduck",
         "6032"
        ],
        [
         "31",
         "5146",
         "33.12852305473904",
         "-96.71953936464708",
         "Rachel",
         "Squirtle",
         "9748"
        ],
        [
         "32",
         "7495",
         "33.12464732339531",
         "-96.70613517564136",
         "Olivia",
         "Mewtwo",
         "9748"
        ],
        [
         "33",
         "5685",
         "33.1154803009053",
         "-96.70150881318393",
         "Jack",
         "Snorlax",
         "9748"
        ],
        [
         "34",
         "3696",
         "33.12560700788052",
         "-96.70739058512736",
         "Charlie",
         "Snorlax",
         "9748"
        ],
        [
         "35",
         "9337",
         "33.1261138917355",
         "-96.70642742113789",
         "Olivia",
         "Jigglypuff",
         "9748"
        ],
        [
         "36",
         "1291",
         "33.130476361388226",
         "-96.6943067314503",
         "Olivia",
         "Meowth",
         "9748"
        ],
        [
         "37",
         "8542",
         "33.124607053098636",
         "-96.70944729830937",
         "Mona",
         "Meowth",
         "9748"
        ],
        [
         "38",
         "7441",
         "33.129688351070854",
         "-96.69878053900347",
         "Mona",
         "Charmander",
         "9748"
        ],
        [
         "39",
         "7908",
         "33.12549561683119",
         "-96.70568450122543",
         "Ivy",
         "Squirtle",
         "9748"
        ],
        [
         "40",
         "5222",
         "33.12598767993408",
         "-96.70672798000722",
         "Frank",
         "Jigglypuff",
         "9748"
        ],
        [
         "41",
         "1423",
         "33.12753264964296",
         "-96.71063162691632",
         "Rachel",
         "Bulbasaur",
         "9748"
        ],
        [
         "42",
         "6613",
         "33.12524529317398",
         "-96.70401945689106",
         "Ivy",
         "Eevee",
         "9748"
        ],
        [
         "43",
         "3476",
         "33.16208572673881",
         "-96.7432650228612",
         "Hannah",
         "Bulbasaur",
         "9748"
        ],
        [
         "44",
         "224",
         "33.12614370643246",
         "-96.70628251854347",
         "Eve",
         "Jigglypuff",
         "9748"
        ],
        [
         "45",
         "7523",
         "33.126887052440466",
         "-96.70607566455494",
         "Charlie",
         "Meowth",
         "9748"
        ],
        [
         "46",
         "105",
         "33.127170116507685",
         "-96.69947648015436",
         "Paul",
         "Snorlax",
         "9748"
        ],
        [
         "47",
         "9014",
         "33.12865305204361",
         "-96.72155995508072",
         "Tina",
         "Squirtle",
         "9748"
        ],
        [
         "48",
         "4290",
         "33.144212351569784",
         "-96.70885082586106",
         "David",
         "Psyduck",
         "9748"
        ],
        [
         "49",
         "8451",
         "33.122445989665415",
         "-96.70515261345494",
         "Liam",
         "Charmander",
         "9748"
        ]
       ],
       "shape": {
        "columns": 6,
        "rows": 325
       }
      },
      "text/html": [
       "<div>\n",
       "<style scoped>\n",
       "    .dataframe tbody tr th:only-of-type {\n",
       "        vertical-align: middle;\n",
       "    }\n",
       "\n",
       "    .dataframe tbody tr th {\n",
       "        vertical-align: top;\n",
       "    }\n",
       "\n",
       "    .dataframe thead th {\n",
       "        text-align: right;\n",
       "    }\n",
       "</style>\n",
       "<table border=\"1\" class=\"dataframe\">\n",
       "  <thead>\n",
       "    <tr style=\"text-align: right;\">\n",
       "      <th></th>\n",
       "      <th>customer_id</th>\n",
       "      <th>lat</th>\n",
       "      <th>lon</th>\n",
       "      <th>firstname</th>\n",
       "      <th>lastname</th>\n",
       "      <th>homestoreID</th>\n",
       "    </tr>\n",
       "  </thead>\n",
       "  <tbody>\n",
       "    <tr>\n",
       "      <th>0</th>\n",
       "      <td>1551</td>\n",
       "      <td>33.208645</td>\n",
       "      <td>-96.704015</td>\n",
       "      <td>Nathan</td>\n",
       "      <td>Eevee</td>\n",
       "      <td>6032</td>\n",
       "    </tr>\n",
       "    <tr>\n",
       "      <th>1</th>\n",
       "      <td>8031</td>\n",
       "      <td>33.211886</td>\n",
       "      <td>-96.705498</td>\n",
       "      <td>Tina</td>\n",
       "      <td>Pikachu</td>\n",
       "      <td>6032</td>\n",
       "    </tr>\n",
       "    <tr>\n",
       "      <th>2</th>\n",
       "      <td>1074</td>\n",
       "      <td>33.206774</td>\n",
       "      <td>-96.703557</td>\n",
       "      <td>Charlie</td>\n",
       "      <td>Bulbasaur</td>\n",
       "      <td>6032</td>\n",
       "    </tr>\n",
       "    <tr>\n",
       "      <th>3</th>\n",
       "      <td>1235</td>\n",
       "      <td>33.206243</td>\n",
       "      <td>-96.708854</td>\n",
       "      <td>Steve</td>\n",
       "      <td>Psyduck</td>\n",
       "      <td>6032</td>\n",
       "    </tr>\n",
       "    <tr>\n",
       "      <th>4</th>\n",
       "      <td>104</td>\n",
       "      <td>33.208338</td>\n",
       "      <td>-96.700365</td>\n",
       "      <td>Jack</td>\n",
       "      <td>Mewtwo</td>\n",
       "      <td>6032</td>\n",
       "    </tr>\n",
       "    <tr>\n",
       "      <th>...</th>\n",
       "      <td>...</td>\n",
       "      <td>...</td>\n",
       "      <td>...</td>\n",
       "      <td>...</td>\n",
       "      <td>...</td>\n",
       "      <td>...</td>\n",
       "    </tr>\n",
       "    <tr>\n",
       "      <th>320</th>\n",
       "      <td>1707</td>\n",
       "      <td>33.211456</td>\n",
       "      <td>-96.831179</td>\n",
       "      <td>Eve</td>\n",
       "      <td>Squirtle</td>\n",
       "      <td>777</td>\n",
       "    </tr>\n",
       "    <tr>\n",
       "      <th>321</th>\n",
       "      <td>2679</td>\n",
       "      <td>33.211386</td>\n",
       "      <td>-96.833646</td>\n",
       "      <td>Eve</td>\n",
       "      <td>Eevee</td>\n",
       "      <td>777</td>\n",
       "    </tr>\n",
       "    <tr>\n",
       "      <th>322</th>\n",
       "      <td>4385</td>\n",
       "      <td>33.215273</td>\n",
       "      <td>-96.821671</td>\n",
       "      <td>Jack</td>\n",
       "      <td>Eevee</td>\n",
       "      <td>777</td>\n",
       "    </tr>\n",
       "    <tr>\n",
       "      <th>323</th>\n",
       "      <td>2120</td>\n",
       "      <td>33.204620</td>\n",
       "      <td>-96.818327</td>\n",
       "      <td>Paul</td>\n",
       "      <td>Eevee</td>\n",
       "      <td>777</td>\n",
       "    </tr>\n",
       "    <tr>\n",
       "      <th>324</th>\n",
       "      <td>1966</td>\n",
       "      <td>33.211707</td>\n",
       "      <td>-96.831069</td>\n",
       "      <td>Rachel</td>\n",
       "      <td>Charmander</td>\n",
       "      <td>777</td>\n",
       "    </tr>\n",
       "  </tbody>\n",
       "</table>\n",
       "<p>325 rows × 6 columns</p>\n",
       "</div>"
      ],
      "text/plain": [
       "    customer_id        lat        lon firstname    lastname  homestoreID\n",
       "0          1551  33.208645 -96.704015    Nathan       Eevee         6032\n",
       "1          8031  33.211886 -96.705498      Tina     Pikachu         6032\n",
       "2          1074  33.206774 -96.703557   Charlie   Bulbasaur         6032\n",
       "3          1235  33.206243 -96.708854     Steve     Psyduck         6032\n",
       "4           104  33.208338 -96.700365      Jack      Mewtwo         6032\n",
       "..          ...        ...        ...       ...         ...          ...\n",
       "320        1707  33.211456 -96.831179       Eve    Squirtle          777\n",
       "321        2679  33.211386 -96.833646       Eve       Eevee          777\n",
       "322        4385  33.215273 -96.821671      Jack       Eevee          777\n",
       "323        2120  33.204620 -96.818327      Paul       Eevee          777\n",
       "324        1966  33.211707 -96.831069    Rachel  Charmander          777\n",
       "\n",
       "[325 rows x 6 columns]"
      ]
     },
     "execution_count": 207,
     "metadata": {},
     "output_type": "execute_result"
    }
   ],
   "source": [
    "Customer.display_all_customers()"
   ]
  },
  {
   "cell_type": "markdown",
   "metadata": {},
   "source": [
    "#### Transactional data\n",
    "Generate random transactional data for each store"
   ]
  },
  {
   "cell_type": "code",
   "execution_count": 211,
   "metadata": {},
   "outputs": [],
   "source": [
    "def generate_gaussian_value(mean, std, floor):\n",
    "    \"\"\"\n",
    "    Generate a random value based on a Gaussian distribution.\n",
    "\n",
    "    :param mean: Mean of the Gaussian distribution.\n",
    "    :param std: Standard deviation of the Gaussian distribution.\n",
    "    :param floor: Minimum value (floor) for the generated value.\n",
    "    :return: A random value from the Gaussian distribution, floored at the specified minimum value.\n",
    "    \"\"\"\n",
    "    value = np.random.normal(loc=mean, scale=std)\n",
    "    return round(max(value, floor), 2)  # Round to 2 decimal places and ensure it's not below the floor value"
   ]
  },
  {
   "cell_type": "code",
   "execution_count": 217,
   "metadata": {},
   "outputs": [],
   "source": [
    "num_orders_per_customer = (3, 25)\n",
    "\n",
    "Order.all_orders = []  # Reset the class-level list to avoid duplicates\n",
    "\n",
    "for customer in Customer.all_customers:\n",
    "    num_orders = random.randint(*num_orders_per_customer)  # Randomly choose the number of orders for each customer\n",
    "    for _ in range(num_orders):\n",
    "        order_id = f\"{random.randint(0, 99999)}\"\n",
    "        order_date = f\"{random.randint(2020, 2023)}-{random.randint(1, 12):02d}-{random.randint(1, 28):02d}\"\n",
    "        order_total = generate_gaussian_value(mean=30, std=10, floor=5)  # Generate a random order total\n",
    "        Order.all_orders.append(Order(order_id, customer.customer_id, customer.homestoreID, order_date, order_total))"
   ]
  },
  {
   "cell_type": "code",
   "execution_count": 218,
   "metadata": {},
   "outputs": [
    {
     "data": {
      "application/vnd.microsoft.datawrangler.viewer.v0+json": {
       "columns": [
        {
         "name": "index",
         "rawType": "int64",
         "type": "integer"
        },
        {
         "name": "order_id",
         "rawType": "object",
         "type": "string"
        },
        {
         "name": "customer_id",
         "rawType": "object",
         "type": "string"
        },
        {
         "name": "store_id",
         "rawType": "int64",
         "type": "integer"
        },
        {
         "name": "order_date",
         "rawType": "object",
         "type": "string"
        },
        {
         "name": "order_total",
         "rawType": "float64",
         "type": "float"
        }
       ],
       "conversionMethod": "pd.DataFrame",
       "ref": "efd55f35-9829-4532-a802-908dd91fc3a2",
       "rows": [
        [
         "0",
         "11682",
         "1551",
         "6032",
         "2022-12-16",
         "42.71"
        ],
        [
         "1",
         "8493",
         "1551",
         "6032",
         "2022-07-28",
         "25.84"
        ],
        [
         "2",
         "67739",
         "1551",
         "6032",
         "2020-05-27",
         "11.05"
        ],
        [
         "3",
         "97015",
         "1551",
         "6032",
         "2022-01-15",
         "35.93"
        ],
        [
         "4",
         "13986",
         "1551",
         "6032",
         "2021-02-09",
         "36.13"
        ],
        [
         "5",
         "59736",
         "1551",
         "6032",
         "2022-05-08",
         "21.64"
        ],
        [
         "6",
         "8606",
         "1551",
         "6032",
         "2023-10-19",
         "25.92"
        ],
        [
         "7",
         "47027",
         "1551",
         "6032",
         "2021-09-23",
         "23.82"
        ],
        [
         "8",
         "61936",
         "1551",
         "6032",
         "2021-03-26",
         "17.4"
        ],
        [
         "9",
         "93219",
         "1551",
         "6032",
         "2023-10-02",
         "16.17"
        ],
        [
         "10",
         "58227",
         "1551",
         "6032",
         "2022-08-15",
         "30.26"
        ],
        [
         "11",
         "46105",
         "1551",
         "6032",
         "2021-04-08",
         "11.45"
        ],
        [
         "12",
         "14882",
         "1551",
         "6032",
         "2020-03-19",
         "27.66"
        ],
        [
         "13",
         "12556",
         "1551",
         "6032",
         "2021-02-27",
         "35.99"
        ],
        [
         "14",
         "73640",
         "1551",
         "6032",
         "2022-03-26",
         "27.59"
        ],
        [
         "15",
         "92940",
         "1551",
         "6032",
         "2021-05-20",
         "27.73"
        ],
        [
         "16",
         "7120",
         "1551",
         "6032",
         "2023-04-26",
         "27.02"
        ],
        [
         "17",
         "24070",
         "1551",
         "6032",
         "2022-05-07",
         "13.87"
        ],
        [
         "18",
         "13420",
         "8031",
         "6032",
         "2022-05-27",
         "32.73"
        ],
        [
         "19",
         "12767",
         "8031",
         "6032",
         "2021-10-23",
         "32.57"
        ],
        [
         "20",
         "38178",
         "8031",
         "6032",
         "2020-07-25",
         "20.68"
        ],
        [
         "21",
         "90670",
         "8031",
         "6032",
         "2022-02-03",
         "38.97"
        ],
        [
         "22",
         "818",
         "8031",
         "6032",
         "2021-07-17",
         "28.33"
        ],
        [
         "23",
         "77784",
         "8031",
         "6032",
         "2021-12-01",
         "33.33"
        ],
        [
         "24",
         "83109",
         "8031",
         "6032",
         "2022-04-02",
         "21.86"
        ],
        [
         "25",
         "33633",
         "8031",
         "6032",
         "2023-08-13",
         "45.88"
        ],
        [
         "26",
         "71502",
         "8031",
         "6032",
         "2020-11-16",
         "35.81"
        ],
        [
         "27",
         "71167",
         "8031",
         "6032",
         "2021-08-24",
         "32.3"
        ],
        [
         "28",
         "81798",
         "8031",
         "6032",
         "2022-12-15",
         "22.87"
        ],
        [
         "29",
         "7820",
         "8031",
         "6032",
         "2021-01-05",
         "28.88"
        ],
        [
         "30",
         "99581",
         "8031",
         "6032",
         "2023-05-21",
         "32.41"
        ],
        [
         "31",
         "15831",
         "8031",
         "6032",
         "2021-06-19",
         "46.91"
        ],
        [
         "32",
         "75891",
         "8031",
         "6032",
         "2023-04-20",
         "34.64"
        ],
        [
         "33",
         "43889",
         "8031",
         "6032",
         "2020-03-08",
         "32.14"
        ],
        [
         "34",
         "27505",
         "8031",
         "6032",
         "2023-09-07",
         "49.53"
        ],
        [
         "35",
         "89979",
         "8031",
         "6032",
         "2022-04-23",
         "44.13"
        ],
        [
         "36",
         "12357",
         "8031",
         "6032",
         "2021-07-03",
         "31.13"
        ],
        [
         "37",
         "30284",
         "8031",
         "6032",
         "2020-05-27",
         "22.92"
        ],
        [
         "38",
         "56485",
         "8031",
         "6032",
         "2023-07-08",
         "33.16"
        ],
        [
         "39",
         "71179",
         "8031",
         "6032",
         "2022-07-24",
         "30.6"
        ],
        [
         "40",
         "26798",
         "8031",
         "6032",
         "2020-09-14",
         "45.32"
        ],
        [
         "41",
         "71190",
         "1074",
         "6032",
         "2022-06-08",
         "28.4"
        ],
        [
         "42",
         "41648",
         "1074",
         "6032",
         "2021-11-19",
         "42.05"
        ],
        [
         "43",
         "2569",
         "1074",
         "6032",
         "2023-11-26",
         "26.05"
        ],
        [
         "44",
         "52816",
         "1074",
         "6032",
         "2021-03-26",
         "19.77"
        ],
        [
         "45",
         "45194",
         "1074",
         "6032",
         "2022-01-05",
         "34.34"
        ],
        [
         "46",
         "83531",
         "1074",
         "6032",
         "2021-07-09",
         "23.87"
        ],
        [
         "47",
         "87343",
         "1074",
         "6032",
         "2020-03-27",
         "28.47"
        ],
        [
         "48",
         "32678",
         "1074",
         "6032",
         "2023-01-05",
         "20.56"
        ],
        [
         "49",
         "35229",
         "1074",
         "6032",
         "2022-08-14",
         "35.93"
        ]
       ],
       "shape": {
        "columns": 5,
        "rows": 4662
       }
      },
      "text/html": [
       "<div>\n",
       "<style scoped>\n",
       "    .dataframe tbody tr th:only-of-type {\n",
       "        vertical-align: middle;\n",
       "    }\n",
       "\n",
       "    .dataframe tbody tr th {\n",
       "        vertical-align: top;\n",
       "    }\n",
       "\n",
       "    .dataframe thead th {\n",
       "        text-align: right;\n",
       "    }\n",
       "</style>\n",
       "<table border=\"1\" class=\"dataframe\">\n",
       "  <thead>\n",
       "    <tr style=\"text-align: right;\">\n",
       "      <th></th>\n",
       "      <th>order_id</th>\n",
       "      <th>customer_id</th>\n",
       "      <th>store_id</th>\n",
       "      <th>order_date</th>\n",
       "      <th>order_total</th>\n",
       "    </tr>\n",
       "  </thead>\n",
       "  <tbody>\n",
       "    <tr>\n",
       "      <th>0</th>\n",
       "      <td>11682</td>\n",
       "      <td>1551</td>\n",
       "      <td>6032</td>\n",
       "      <td>2022-12-16</td>\n",
       "      <td>42.71</td>\n",
       "    </tr>\n",
       "    <tr>\n",
       "      <th>1</th>\n",
       "      <td>8493</td>\n",
       "      <td>1551</td>\n",
       "      <td>6032</td>\n",
       "      <td>2022-07-28</td>\n",
       "      <td>25.84</td>\n",
       "    </tr>\n",
       "    <tr>\n",
       "      <th>2</th>\n",
       "      <td>67739</td>\n",
       "      <td>1551</td>\n",
       "      <td>6032</td>\n",
       "      <td>2020-05-27</td>\n",
       "      <td>11.05</td>\n",
       "    </tr>\n",
       "    <tr>\n",
       "      <th>3</th>\n",
       "      <td>97015</td>\n",
       "      <td>1551</td>\n",
       "      <td>6032</td>\n",
       "      <td>2022-01-15</td>\n",
       "      <td>35.93</td>\n",
       "    </tr>\n",
       "    <tr>\n",
       "      <th>4</th>\n",
       "      <td>13986</td>\n",
       "      <td>1551</td>\n",
       "      <td>6032</td>\n",
       "      <td>2021-02-09</td>\n",
       "      <td>36.13</td>\n",
       "    </tr>\n",
       "    <tr>\n",
       "      <th>...</th>\n",
       "      <td>...</td>\n",
       "      <td>...</td>\n",
       "      <td>...</td>\n",
       "      <td>...</td>\n",
       "      <td>...</td>\n",
       "    </tr>\n",
       "    <tr>\n",
       "      <th>4657</th>\n",
       "      <td>99009</td>\n",
       "      <td>1966</td>\n",
       "      <td>777</td>\n",
       "      <td>2023-01-28</td>\n",
       "      <td>35.74</td>\n",
       "    </tr>\n",
       "    <tr>\n",
       "      <th>4658</th>\n",
       "      <td>87536</td>\n",
       "      <td>1966</td>\n",
       "      <td>777</td>\n",
       "      <td>2021-09-20</td>\n",
       "      <td>26.06</td>\n",
       "    </tr>\n",
       "    <tr>\n",
       "      <th>4659</th>\n",
       "      <td>27853</td>\n",
       "      <td>1966</td>\n",
       "      <td>777</td>\n",
       "      <td>2020-08-22</td>\n",
       "      <td>33.66</td>\n",
       "    </tr>\n",
       "    <tr>\n",
       "      <th>4660</th>\n",
       "      <td>44782</td>\n",
       "      <td>1966</td>\n",
       "      <td>777</td>\n",
       "      <td>2022-10-20</td>\n",
       "      <td>37.62</td>\n",
       "    </tr>\n",
       "    <tr>\n",
       "      <th>4661</th>\n",
       "      <td>60541</td>\n",
       "      <td>1966</td>\n",
       "      <td>777</td>\n",
       "      <td>2020-10-20</td>\n",
       "      <td>32.82</td>\n",
       "    </tr>\n",
       "  </tbody>\n",
       "</table>\n",
       "<p>4662 rows × 5 columns</p>\n",
       "</div>"
      ],
      "text/plain": [
       "     order_id customer_id  store_id  order_date  order_total\n",
       "0       11682        1551      6032  2022-12-16        42.71\n",
       "1        8493        1551      6032  2022-07-28        25.84\n",
       "2       67739        1551      6032  2020-05-27        11.05\n",
       "3       97015        1551      6032  2022-01-15        35.93\n",
       "4       13986        1551      6032  2021-02-09        36.13\n",
       "...       ...         ...       ...         ...          ...\n",
       "4657    99009        1966       777  2023-01-28        35.74\n",
       "4658    87536        1966       777  2021-09-20        26.06\n",
       "4659    27853        1966       777  2020-08-22        33.66\n",
       "4660    44782        1966       777  2022-10-20        37.62\n",
       "4661    60541        1966       777  2020-10-20        32.82\n",
       "\n",
       "[4662 rows x 5 columns]"
      ]
     },
     "execution_count": 218,
     "metadata": {},
     "output_type": "execute_result"
    }
   ],
   "source": [
    "Order.display_all_orders()"
   ]
  }
 ],
 "metadata": {
  "kernelspec": {
   "display_name": ".venv",
   "language": "python",
   "name": "python3"
  },
  "language_info": {
   "codemirror_mode": {
    "name": "ipython",
    "version": 3
   },
   "file_extension": ".py",
   "mimetype": "text/x-python",
   "name": "python",
   "nbconvert_exporter": "python",
   "pygments_lexer": "ipython3",
   "version": "3.12.9"
  }
 },
 "nbformat": 4,
 "nbformat_minor": 2
}
