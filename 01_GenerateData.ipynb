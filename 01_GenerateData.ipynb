{
 "cells": [
  {
   "cell_type": "markdown",
   "metadata": {},
   "source": [
    "# Generate Data\n",
    "\n",
    "This notebook demonstrates the process of generating synthetic data for a fictional pizza chain, \"Panucci's Pizza.\" It includes the creation of random store locations, customer profiles, and transactional data. The synthetic data is generated using statistical distributions and randomization techniques to mimic real-world scenarios. Because the locations are randomized, you might see odd things such as stores within a neighborhood.\n",
    "\n",
    "For the purposes of this exercise, I'll generate `10` stores around the area of `Frisco` and `McKinney`, `Texas`\n",
    "\n",
    "The data is then structured and stored in Snowflake for further analysis and visualization. \n",
    "\n"
   ]
  },
  {
   "cell_type": "markdown",
   "metadata": {},
   "source": [
    "#### Base Classes and Imports"
   ]
  },
  {
   "cell_type": "code",
   "execution_count": 44,
   "metadata": {},
   "outputs": [],
   "source": [
    "import numpy as np\n",
    "import pandas as pd"
   ]
  },
  {
   "cell_type": "code",
   "execution_count": 45,
   "metadata": {},
   "outputs": [],
   "source": [
    "class BaseEntity:\n",
    "    def __init__(self, **kwargs):\n",
    "        for key, value in kwargs.items():\n",
    "            setattr(self, key, value)\n",
    "\n",
    "    def __repr__(self):\n",
    "        attrs = ', '.join(f\"{key}={value}\" for key, value in self.__dict__.items())\n",
    "        return f\"{self.__class__.__name__}({attrs})\"\n",
    "    \n",
    "    def showDataFrame(self):\n",
    "        return pd.DataFrame([self.__dict__])\n",
    "\n",
    "\n",
    "class Store(BaseEntity):\n",
    "    all_stores = []  # Class-level list to store all instances of Store\n",
    "\n",
    "    def __init__(self, store_id, latitude, longitude, store_name, opendt):\n",
    "        super().__init__(STORE_ID=store_id, \n",
    "                         LATITUDE=latitude, \n",
    "                         LONGITUDE=longitude, \n",
    "                         STORE_NAME=store_name, \n",
    "                         OPENDT=opendt)\n",
    "        Store.all_stores.append(self)  # Add each instance to the class-level list\n",
    "\n",
    "    def __repr__(self):\n",
    "        return f\"Store(store_id={self.STORE_ID}, lat={self.LATITUDE}, lon={self.LONGITUDE}, name={self.STORE_NAME}, opendt={self.OPENDT})\"\n",
    "\n",
    "    @classmethod\n",
    "    def display_all_stores(cls):\n",
    "        \"\"\"\n",
    "        Display a DataFrame of all store instances.\n",
    "        \"\"\"\n",
    "        return pd.DataFrame([store.__dict__ for store in cls.all_stores])\n",
    "    \n",
    "\n",
    "class Customer(BaseEntity):\n",
    "    all_customers = []  # Class-level list to store all instances of Customers\n",
    "    def __init__(self, customer_id, latitude, longitude, firstname, lastname, homestore_ID):\n",
    "        super().__init__(CUSTOMER_ID=customer_id, \n",
    "                         LATITUDE=latitude, \n",
    "                         LONGITUDE=longitude, \n",
    "                         FIRSTNAME=firstname, \n",
    "                         LASTNAME=lastname, \n",
    "                         HOMESTORE_ID=homestore_ID)\n",
    "        Customer.all_customers.append(self)  # Add each instance to the class-level list\n",
    "\n",
    "    def __repr__(self):\n",
    "        return f\"Customer(customer_id={self.CUSTOMER_ID}, lat={self.LATITUDE}, lon={self.LONGITUDE}, name={self.FIRSTNAME} {self.LASTNAME}, homestoreID={self.HOMESTORE_ID})\"\n",
    "    \n",
    "    @classmethod\n",
    "    def display_all_customers(cls):\n",
    "        \"\"\"\n",
    "        Display a DataFrame of all customer instances.\n",
    "        \"\"\"\n",
    "        return pd.DataFrame([cust.__dict__ for cust in cls.all_customers])\n",
    "    \n",
    "class Order(BaseEntity):\n",
    "    all_orders = []  # Class-level list to store all instances of Orders\n",
    "    def __init__(self, order_id, customer_id, store_id, order_date, subtotal,tax, total):        \n",
    "        super().__init__(ORDER_ID=order_id, \n",
    "                         CUSTOMER_ID=customer_id, \n",
    "                         STORE_ID=store_id, \n",
    "                         ORDER_DATE=order_date, \n",
    "                         SUBTOTAL=subtotal,\n",
    "                         TAX=tax,\n",
    "                         TOTAL=total)\n",
    "\n",
    "    @classmethod\n",
    "    def display_all_orders(cls):\n",
    "        \"\"\"\n",
    "        Display a DataFrame of all order instances.\n",
    "        \"\"\"\n",
    "        return pd.DataFrame([order.__dict__ for order in cls.all_orders])"
   ]
  },
  {
   "cell_type": "markdown",
   "metadata": {},
   "source": [
    "#### Generate random store locations"
   ]
  },
  {
   "cell_type": "code",
   "execution_count": 46,
   "metadata": {},
   "outputs": [],
   "source": [
    "# Bounding box coordinates for the area of interest\n",
    "min_lat, max_lat = 33.0633, 33.2182\n",
    "min_lon, max_lon = -96.9162, -96.6718\n",
    "\n",
    "num_stores = 10\n",
    "\n",
    "import random\n",
    "random.seed(1033)  # For reproducibility"
   ]
  },
  {
   "cell_type": "code",
   "execution_count": 47,
   "metadata": {},
   "outputs": [
    {
     "data": {
      "application/vnd.microsoft.datawrangler.viewer.v0+json": {
       "columns": [
        {
         "name": "index",
         "rawType": "int64",
         "type": "integer"
        },
        {
         "name": "STORE_ID",
         "rawType": "int64",
         "type": "integer"
        },
        {
         "name": "LATITUDE",
         "rawType": "float64",
         "type": "float"
        },
        {
         "name": "LONGITUDE",
         "rawType": "float64",
         "type": "float"
        },
        {
         "name": "STORE_NAME",
         "rawType": "object",
         "type": "string"
        },
        {
         "name": "OPENDT",
         "rawType": "object",
         "type": "string"
        }
       ],
       "conversionMethod": "pd.DataFrame",
       "ref": "cbb5c0d7-9ed5-44a4-a6c5-aa857ee11797",
       "rows": [
        [
         "0",
         "3431",
         "33.18667",
         "-96.8761",
         "Panucci's Pizza - 3431",
         "2012-11-13"
        ],
        [
         "1",
         "4464",
         "33.07242",
         "-96.79917",
         "Panucci's Pizza - 4464",
         "2011-11-16"
        ],
        [
         "2",
         "7496",
         "33.15334",
         "-96.73341",
         "Panucci's Pizza - 7496",
         "2016-11-12"
        ],
        [
         "3",
         "1119",
         "33.11117",
         "-96.83614",
         "Panucci's Pizza - 1119",
         "2014-09-06"
        ],
        [
         "4",
         "1249",
         "33.13475",
         "-96.84477",
         "Panucci's Pizza - 1249",
         "2010-02-02"
        ],
        [
         "5",
         "3789",
         "33.106",
         "-96.74276",
         "Panucci's Pizza - 3789",
         "2018-06-23"
        ],
        [
         "6",
         "151",
         "33.11653",
         "-96.82622",
         "Panucci's Pizza - 151",
         "2013-01-28"
        ],
        [
         "7",
         "6202",
         "33.16028",
         "-96.90773",
         "Panucci's Pizza - 6202",
         "2020-02-12"
        ],
        [
         "8",
         "6144",
         "33.20155",
         "-96.75194",
         "Panucci's Pizza - 6144",
         "2014-12-10"
        ],
        [
         "9",
         "2510",
         "33.14326",
         "-96.69223",
         "Panucci's Pizza - 2510",
         "2012-06-19"
        ]
       ],
       "shape": {
        "columns": 5,
        "rows": 10
       }
      },
      "text/html": [
       "<div>\n",
       "<style scoped>\n",
       "    .dataframe tbody tr th:only-of-type {\n",
       "        vertical-align: middle;\n",
       "    }\n",
       "\n",
       "    .dataframe tbody tr th {\n",
       "        vertical-align: top;\n",
       "    }\n",
       "\n",
       "    .dataframe thead th {\n",
       "        text-align: right;\n",
       "    }\n",
       "</style>\n",
       "<table border=\"1\" class=\"dataframe\">\n",
       "  <thead>\n",
       "    <tr style=\"text-align: right;\">\n",
       "      <th></th>\n",
       "      <th>STORE_ID</th>\n",
       "      <th>LATITUDE</th>\n",
       "      <th>LONGITUDE</th>\n",
       "      <th>STORE_NAME</th>\n",
       "      <th>OPENDT</th>\n",
       "    </tr>\n",
       "  </thead>\n",
       "  <tbody>\n",
       "    <tr>\n",
       "      <th>0</th>\n",
       "      <td>3431</td>\n",
       "      <td>33.18667</td>\n",
       "      <td>-96.87610</td>\n",
       "      <td>Panucci's Pizza - 3431</td>\n",
       "      <td>2012-11-13</td>\n",
       "    </tr>\n",
       "    <tr>\n",
       "      <th>1</th>\n",
       "      <td>4464</td>\n",
       "      <td>33.07242</td>\n",
       "      <td>-96.79917</td>\n",
       "      <td>Panucci's Pizza - 4464</td>\n",
       "      <td>2011-11-16</td>\n",
       "    </tr>\n",
       "    <tr>\n",
       "      <th>2</th>\n",
       "      <td>7496</td>\n",
       "      <td>33.15334</td>\n",
       "      <td>-96.73341</td>\n",
       "      <td>Panucci's Pizza - 7496</td>\n",
       "      <td>2016-11-12</td>\n",
       "    </tr>\n",
       "    <tr>\n",
       "      <th>3</th>\n",
       "      <td>1119</td>\n",
       "      <td>33.11117</td>\n",
       "      <td>-96.83614</td>\n",
       "      <td>Panucci's Pizza - 1119</td>\n",
       "      <td>2014-09-06</td>\n",
       "    </tr>\n",
       "    <tr>\n",
       "      <th>4</th>\n",
       "      <td>1249</td>\n",
       "      <td>33.13475</td>\n",
       "      <td>-96.84477</td>\n",
       "      <td>Panucci's Pizza - 1249</td>\n",
       "      <td>2010-02-02</td>\n",
       "    </tr>\n",
       "    <tr>\n",
       "      <th>5</th>\n",
       "      <td>3789</td>\n",
       "      <td>33.10600</td>\n",
       "      <td>-96.74276</td>\n",
       "      <td>Panucci's Pizza - 3789</td>\n",
       "      <td>2018-06-23</td>\n",
       "    </tr>\n",
       "    <tr>\n",
       "      <th>6</th>\n",
       "      <td>151</td>\n",
       "      <td>33.11653</td>\n",
       "      <td>-96.82622</td>\n",
       "      <td>Panucci's Pizza - 151</td>\n",
       "      <td>2013-01-28</td>\n",
       "    </tr>\n",
       "    <tr>\n",
       "      <th>7</th>\n",
       "      <td>6202</td>\n",
       "      <td>33.16028</td>\n",
       "      <td>-96.90773</td>\n",
       "      <td>Panucci's Pizza - 6202</td>\n",
       "      <td>2020-02-12</td>\n",
       "    </tr>\n",
       "    <tr>\n",
       "      <th>8</th>\n",
       "      <td>6144</td>\n",
       "      <td>33.20155</td>\n",
       "      <td>-96.75194</td>\n",
       "      <td>Panucci's Pizza - 6144</td>\n",
       "      <td>2014-12-10</td>\n",
       "    </tr>\n",
       "    <tr>\n",
       "      <th>9</th>\n",
       "      <td>2510</td>\n",
       "      <td>33.14326</td>\n",
       "      <td>-96.69223</td>\n",
       "      <td>Panucci's Pizza - 2510</td>\n",
       "      <td>2012-06-19</td>\n",
       "    </tr>\n",
       "  </tbody>\n",
       "</table>\n",
       "</div>"
      ],
      "text/plain": [
       "   STORE_ID  LATITUDE  LONGITUDE              STORE_NAME      OPENDT\n",
       "0      3431  33.18667  -96.87610  Panucci's Pizza - 3431  2012-11-13\n",
       "1      4464  33.07242  -96.79917  Panucci's Pizza - 4464  2011-11-16\n",
       "2      7496  33.15334  -96.73341  Panucci's Pizza - 7496  2016-11-12\n",
       "3      1119  33.11117  -96.83614  Panucci's Pizza - 1119  2014-09-06\n",
       "4      1249  33.13475  -96.84477  Panucci's Pizza - 1249  2010-02-02\n",
       "5      3789  33.10600  -96.74276  Panucci's Pizza - 3789  2018-06-23\n",
       "6       151  33.11653  -96.82622   Panucci's Pizza - 151  2013-01-28\n",
       "7      6202  33.16028  -96.90773  Panucci's Pizza - 6202  2020-02-12\n",
       "8      6144  33.20155  -96.75194  Panucci's Pizza - 6144  2014-12-10\n",
       "9      2510  33.14326  -96.69223  Panucci's Pizza - 2510  2012-06-19"
      ]
     },
     "execution_count": 47,
     "metadata": {},
     "output_type": "execute_result"
    }
   ],
   "source": [
    "# Generate random store locations within the bounding box\n",
    "\n",
    "Store.all_stores = []  # Reset the class-level list to avoid duplicates\n",
    "name_prefix = \"Panucci's Pizza - \"\n",
    "store_ids = [random.randint(0, 9999) for _ in range(num_stores)]\n",
    "store_locations = [\n",
    "    Store(\n",
    "        store_id=store_id,\n",
    "        latitude=np.round(random.uniform(min_lat, max_lat),5),\n",
    "        longitude=np.round(random.uniform(min_lon, max_lon),5),\n",
    "        store_name=f\"{name_prefix}{store_id}\",\n",
    "        opendt=f\"{random.randint(2010, 2020)}-{random.randint(1, 12):02d}-{random.randint(1, 28):02d}\"\n",
    "    ).__dict__ for store_id in store_ids\n",
    "]\n",
    "\n",
    "Store.display_all_stores()"
   ]
  },
  {
   "cell_type": "markdown",
   "metadata": {},
   "source": [
    "#### Generate customer locations for each store"
   ]
  },
  {
   "cell_type": "code",
   "execution_count": 48,
   "metadata": {},
   "outputs": [],
   "source": [
    "num_customers_per_store = (20,50)\n",
    "\n",
    "radius_range = (0.5, 2.0)  # in km"
   ]
  },
  {
   "cell_type": "code",
   "execution_count": 49,
   "metadata": {},
   "outputs": [],
   "source": [
    "from scipy.stats import gamma\n",
    "import numpy as np\n",
    "\n",
    "# Predefined list of first names\n",
    "first_names = [\"Alice\", \"Bob\", \"Charlie\", \"David\", \"Eve\", \"Frank\", \"Grace\", \"Hannah\", \"Ivy\", \"Jack\", \"Kathy\", \"Liam\", \"Mona\", \"Nathan\", \"Olivia\", \"Paul\", \"Quincy\", \"Rachel\", \"Steve\", \"Tina\"]\n",
    "# Predefined list of Pokémon names\n",
    "pokemon_last_names = [\"Pikachu\", \"Charmander\", \"Bulbasaur\", \"Squirtle\", \"Jigglypuff\", \"Meowth\", \"Psyduck\", \"Snorlax\", \"Eevee\", \"Mewtwo\"]\n",
    "\n",
    "\n",
    "def generate_customers(store_location, search_radius, num_customers, store_id=None):\n",
    "    \"\"\"\n",
    "    Generate customers around a store location using a exponential distribution.\n",
    "\n",
    "    :param store_location: Tuple of (latitude, longitude) for the store location.\n",
    "    :param search_radius: Maximum search radius in kilometers.\n",
    "    :param num_customers: Number of customers to generate.\n",
    "    :param store_id: ID of the store to associate customers with.\n",
    "    :return: List of Customer objects.\n",
    "    \"\"\"\n",
    "    customers = []\n",
    "    for i in range(num_customers):\n",
    "        # Generate a random distance using the exponential distribution\n",
    "        distance = np.random.exponential(scale=search_radius / 2)\n",
    "        # Generate a random bearing (angle in radians)\n",
    "        bearing = np.random.uniform(0, 2 * np.pi)\n",
    "        # Calculate the new latitude and longitude\n",
    "        delta_lat = distance * np.cos(bearing) / 111  # Approx. conversion of km to degrees latitude\n",
    "        delta_lon = distance * np.sin(bearing) / (111 * np.cos(np.radians(store_location[0])))  # Adjust for longitude\n",
    "        customer_lat = store_location[0] + delta_lat\n",
    "        customer_lon = store_location[1] + delta_lon\n",
    "        # Create a Customer object\n",
    "        customer_id = f\"{random.randint(0, 9999)}\"\n",
    "        first_name = random.choice(first_names)\n",
    "        last_name = random.choice(pokemon_last_names)\n",
    "        customers.append(Customer(customer_id, np.round(customer_lat,5), np.round(customer_lon,5), first_name, last_name, store_id))\n",
    "    return customers"
   ]
  },
  {
   "cell_type": "code",
   "execution_count": 50,
   "metadata": {},
   "outputs": [],
   "source": [
    "# Generate customers for each store\n",
    "Customer.all_customers = []  # Reset the class-level list to avoid duplicates\n",
    "\n",
    "for store in Store.all_stores:\n",
    "    store_location = (store.LATITUDE, store.LONGITUDE)\n",
    "    num_customers = random.randint(*num_customers_per_store)  # Randomly choose the number of customers within the range\n",
    "    search_radius_km = random.uniform(*radius_range)  # Randomly choose the search radius within the range\n",
    "\n",
    "    generate_customers(store_location, search_radius_km, num_customers, store_id=store.STORE_ID)\n"
   ]
  },
  {
   "cell_type": "code",
   "execution_count": 51,
   "metadata": {},
   "outputs": [
    {
     "data": {
      "application/vnd.microsoft.datawrangler.viewer.v0+json": {
       "columns": [
        {
         "name": "index",
         "rawType": "int64",
         "type": "integer"
        },
        {
         "name": "CUSTOMER_ID",
         "rawType": "object",
         "type": "string"
        },
        {
         "name": "LATITUDE",
         "rawType": "float64",
         "type": "float"
        },
        {
         "name": "LONGITUDE",
         "rawType": "float64",
         "type": "float"
        },
        {
         "name": "FIRSTNAME",
         "rawType": "object",
         "type": "string"
        },
        {
         "name": "LASTNAME",
         "rawType": "object",
         "type": "string"
        },
        {
         "name": "HOMESTORE_ID",
         "rawType": "int64",
         "type": "integer"
        }
       ],
       "conversionMethod": "pd.DataFrame",
       "ref": "e67e1809-bb58-4951-a36d-3c50341542c4",
       "rows": [
        [
         "0",
         "915",
         "33.18502",
         "-96.87365",
         "Tina",
         "Pikachu",
         "3431"
        ],
        [
         "1",
         "4218",
         "33.18697",
         "-96.88154",
         "Ivy",
         "Bulbasaur",
         "3431"
        ],
        [
         "2",
         "8825",
         "33.2089",
         "-96.87432",
         "Liam",
         "Jigglypuff",
         "3431"
        ],
        [
         "3",
         "3041",
         "33.18817",
         "-96.88249",
         "Liam",
         "Mewtwo",
         "3431"
        ],
        [
         "4",
         "6745",
         "33.18971",
         "-96.87358",
         "Quincy",
         "Squirtle",
         "3431"
        ],
        [
         "5",
         "1910",
         "33.18615",
         "-96.87498",
         "Ivy",
         "Bulbasaur",
         "3431"
        ],
        [
         "6",
         "194",
         "33.18415",
         "-96.87887",
         "Eve",
         "Jigglypuff",
         "3431"
        ],
        [
         "7",
         "4499",
         "33.1834",
         "-96.87388",
         "Eve",
         "Meowth",
         "3431"
        ],
        [
         "8",
         "673",
         "33.18404",
         "-96.87812",
         "Rachel",
         "Bulbasaur",
         "3431"
        ],
        [
         "9",
         "6543",
         "33.18357",
         "-96.87997",
         "Eve",
         "Charmander",
         "3431"
        ],
        [
         "10",
         "6736",
         "33.17821",
         "-96.88003",
         "Grace",
         "Pikachu",
         "3431"
        ],
        [
         "11",
         "3252",
         "33.18697",
         "-96.87638",
         "Hannah",
         "Psyduck",
         "3431"
        ],
        [
         "12",
         "9424",
         "33.18415",
         "-96.8763",
         "Paul",
         "Squirtle",
         "3431"
        ],
        [
         "13",
         "2726",
         "33.18505",
         "-96.87276",
         "Frank",
         "Psyduck",
         "3431"
        ],
        [
         "14",
         "3602",
         "33.19013",
         "-96.89173",
         "Paul",
         "Squirtle",
         "3431"
        ],
        [
         "15",
         "3902",
         "33.18617",
         "-96.8886",
         "Eve",
         "Charmander",
         "3431"
        ],
        [
         "16",
         "1555",
         "33.18717",
         "-96.87633",
         "Jack",
         "Mewtwo",
         "3431"
        ],
        [
         "17",
         "662",
         "33.19732",
         "-96.87344",
         "Bob",
         "Mewtwo",
         "3431"
        ],
        [
         "18",
         "3547",
         "33.19304",
         "-96.87816",
         "David",
         "Charmander",
         "3431"
        ],
        [
         "19",
         "2342",
         "33.17449",
         "-96.86849",
         "Paul",
         "Pikachu",
         "3431"
        ],
        [
         "20",
         "2676",
         "33.18748",
         "-96.8769",
         "Tina",
         "Pikachu",
         "3431"
        ],
        [
         "21",
         "2554",
         "33.18788",
         "-96.86981",
         "Rachel",
         "Charmander",
         "3431"
        ],
        [
         "22",
         "8010",
         "33.18426",
         "-96.87345",
         "Ivy",
         "Snorlax",
         "3431"
        ],
        [
         "23",
         "9578",
         "33.18687",
         "-96.8762",
         "Quincy",
         "Charmander",
         "3431"
        ],
        [
         "24",
         "6450",
         "33.18993",
         "-96.87248",
         "Frank",
         "Psyduck",
         "3431"
        ],
        [
         "25",
         "3657",
         "33.21134",
         "-96.9078",
         "Rachel",
         "Mewtwo",
         "3431"
        ],
        [
         "26",
         "840",
         "33.18858",
         "-96.86657",
         "Tina",
         "Jigglypuff",
         "3431"
        ],
        [
         "27",
         "6451",
         "33.19418",
         "-96.86978",
         "Liam",
         "Squirtle",
         "3431"
        ],
        [
         "28",
         "5723",
         "33.19034",
         "-96.87676",
         "Steve",
         "Psyduck",
         "3431"
        ],
        [
         "29",
         "4305",
         "33.18646",
         "-96.87302",
         "Tina",
         "Squirtle",
         "3431"
        ],
        [
         "30",
         "9735",
         "33.18715",
         "-96.87683",
         "Quincy",
         "Eevee",
         "3431"
        ],
        [
         "31",
         "6799",
         "33.18671",
         "-96.87613",
         "Grace",
         "Eevee",
         "3431"
        ],
        [
         "32",
         "4546",
         "33.18609",
         "-96.87648",
         "Tina",
         "Bulbasaur",
         "3431"
        ],
        [
         "33",
         "9939",
         "33.07938",
         "-96.80822",
         "Rachel",
         "Meowth",
         "4464"
        ],
        [
         "34",
         "6638",
         "33.074",
         "-96.80188",
         "Frank",
         "Psyduck",
         "4464"
        ],
        [
         "35",
         "7901",
         "33.07501",
         "-96.79941",
         "Alice",
         "Psyduck",
         "4464"
        ],
        [
         "36",
         "9766",
         "33.07925",
         "-96.79408",
         "Quincy",
         "Jigglypuff",
         "4464"
        ],
        [
         "37",
         "676",
         "33.06689",
         "-96.79381",
         "Quincy",
         "Bulbasaur",
         "4464"
        ],
        [
         "38",
         "1277",
         "33.07255",
         "-96.80061",
         "Mona",
         "Mewtwo",
         "4464"
        ],
        [
         "39",
         "6326",
         "33.07015",
         "-96.79606",
         "Bob",
         "Eevee",
         "4464"
        ],
        [
         "40",
         "4648",
         "33.06999",
         "-96.80191",
         "Ivy",
         "Jigglypuff",
         "4464"
        ],
        [
         "41",
         "4246",
         "33.07326",
         "-96.79563",
         "Nathan",
         "Psyduck",
         "4464"
        ],
        [
         "42",
         "219",
         "33.07068",
         "-96.79276",
         "Nathan",
         "Bulbasaur",
         "4464"
        ],
        [
         "43",
         "2926",
         "33.07108",
         "-96.79549",
         "Tina",
         "Bulbasaur",
         "4464"
        ],
        [
         "44",
         "421",
         "33.06576",
         "-96.79675",
         "Alice",
         "Pikachu",
         "4464"
        ],
        [
         "45",
         "8556",
         "33.07473",
         "-96.80311",
         "Steve",
         "Squirtle",
         "4464"
        ],
        [
         "46",
         "4458",
         "33.07219",
         "-96.79735",
         "Quincy",
         "Mewtwo",
         "4464"
        ],
        [
         "47",
         "812",
         "33.06993",
         "-96.80569",
         "David",
         "Eevee",
         "4464"
        ],
        [
         "48",
         "5693",
         "33.07185",
         "-96.8027",
         "Charlie",
         "Charmander",
         "4464"
        ],
        [
         "49",
         "1760",
         "33.07327",
         "-96.78593",
         "Rachel",
         "Mewtwo",
         "4464"
        ]
       ],
       "shape": {
        "columns": 6,
        "rows": 356
       }
      },
      "text/html": [
       "<div>\n",
       "<style scoped>\n",
       "    .dataframe tbody tr th:only-of-type {\n",
       "        vertical-align: middle;\n",
       "    }\n",
       "\n",
       "    .dataframe tbody tr th {\n",
       "        vertical-align: top;\n",
       "    }\n",
       "\n",
       "    .dataframe thead th {\n",
       "        text-align: right;\n",
       "    }\n",
       "</style>\n",
       "<table border=\"1\" class=\"dataframe\">\n",
       "  <thead>\n",
       "    <tr style=\"text-align: right;\">\n",
       "      <th></th>\n",
       "      <th>CUSTOMER_ID</th>\n",
       "      <th>LATITUDE</th>\n",
       "      <th>LONGITUDE</th>\n",
       "      <th>FIRSTNAME</th>\n",
       "      <th>LASTNAME</th>\n",
       "      <th>HOMESTORE_ID</th>\n",
       "    </tr>\n",
       "  </thead>\n",
       "  <tbody>\n",
       "    <tr>\n",
       "      <th>0</th>\n",
       "      <td>915</td>\n",
       "      <td>33.18502</td>\n",
       "      <td>-96.87365</td>\n",
       "      <td>Tina</td>\n",
       "      <td>Pikachu</td>\n",
       "      <td>3431</td>\n",
       "    </tr>\n",
       "    <tr>\n",
       "      <th>1</th>\n",
       "      <td>4218</td>\n",
       "      <td>33.18697</td>\n",
       "      <td>-96.88154</td>\n",
       "      <td>Ivy</td>\n",
       "      <td>Bulbasaur</td>\n",
       "      <td>3431</td>\n",
       "    </tr>\n",
       "    <tr>\n",
       "      <th>2</th>\n",
       "      <td>8825</td>\n",
       "      <td>33.20890</td>\n",
       "      <td>-96.87432</td>\n",
       "      <td>Liam</td>\n",
       "      <td>Jigglypuff</td>\n",
       "      <td>3431</td>\n",
       "    </tr>\n",
       "    <tr>\n",
       "      <th>3</th>\n",
       "      <td>3041</td>\n",
       "      <td>33.18817</td>\n",
       "      <td>-96.88249</td>\n",
       "      <td>Liam</td>\n",
       "      <td>Mewtwo</td>\n",
       "      <td>3431</td>\n",
       "    </tr>\n",
       "    <tr>\n",
       "      <th>4</th>\n",
       "      <td>6745</td>\n",
       "      <td>33.18971</td>\n",
       "      <td>-96.87358</td>\n",
       "      <td>Quincy</td>\n",
       "      <td>Squirtle</td>\n",
       "      <td>3431</td>\n",
       "    </tr>\n",
       "    <tr>\n",
       "      <th>...</th>\n",
       "      <td>...</td>\n",
       "      <td>...</td>\n",
       "      <td>...</td>\n",
       "      <td>...</td>\n",
       "      <td>...</td>\n",
       "      <td>...</td>\n",
       "    </tr>\n",
       "    <tr>\n",
       "      <th>351</th>\n",
       "      <td>1294</td>\n",
       "      <td>33.13427</td>\n",
       "      <td>-96.69123</td>\n",
       "      <td>Ivy</td>\n",
       "      <td>Eevee</td>\n",
       "      <td>2510</td>\n",
       "    </tr>\n",
       "    <tr>\n",
       "      <th>352</th>\n",
       "      <td>8297</td>\n",
       "      <td>33.14403</td>\n",
       "      <td>-96.69201</td>\n",
       "      <td>Kathy</td>\n",
       "      <td>Psyduck</td>\n",
       "      <td>2510</td>\n",
       "    </tr>\n",
       "    <tr>\n",
       "      <th>353</th>\n",
       "      <td>8165</td>\n",
       "      <td>33.16027</td>\n",
       "      <td>-96.72421</td>\n",
       "      <td>Kathy</td>\n",
       "      <td>Eevee</td>\n",
       "      <td>2510</td>\n",
       "    </tr>\n",
       "    <tr>\n",
       "      <th>354</th>\n",
       "      <td>3830</td>\n",
       "      <td>33.13651</td>\n",
       "      <td>-96.68974</td>\n",
       "      <td>Olivia</td>\n",
       "      <td>Snorlax</td>\n",
       "      <td>2510</td>\n",
       "    </tr>\n",
       "    <tr>\n",
       "      <th>355</th>\n",
       "      <td>9931</td>\n",
       "      <td>33.15218</td>\n",
       "      <td>-96.67402</td>\n",
       "      <td>Liam</td>\n",
       "      <td>Jigglypuff</td>\n",
       "      <td>2510</td>\n",
       "    </tr>\n",
       "  </tbody>\n",
       "</table>\n",
       "<p>356 rows × 6 columns</p>\n",
       "</div>"
      ],
      "text/plain": [
       "    CUSTOMER_ID  LATITUDE  LONGITUDE FIRSTNAME    LASTNAME  HOMESTORE_ID\n",
       "0           915  33.18502  -96.87365      Tina     Pikachu          3431\n",
       "1          4218  33.18697  -96.88154       Ivy   Bulbasaur          3431\n",
       "2          8825  33.20890  -96.87432      Liam  Jigglypuff          3431\n",
       "3          3041  33.18817  -96.88249      Liam      Mewtwo          3431\n",
       "4          6745  33.18971  -96.87358    Quincy    Squirtle          3431\n",
       "..          ...       ...        ...       ...         ...           ...\n",
       "351        1294  33.13427  -96.69123       Ivy       Eevee          2510\n",
       "352        8297  33.14403  -96.69201     Kathy     Psyduck          2510\n",
       "353        8165  33.16027  -96.72421     Kathy       Eevee          2510\n",
       "354        3830  33.13651  -96.68974    Olivia     Snorlax          2510\n",
       "355        9931  33.15218  -96.67402      Liam  Jigglypuff          2510\n",
       "\n",
       "[356 rows x 6 columns]"
      ]
     },
     "execution_count": 51,
     "metadata": {},
     "output_type": "execute_result"
    }
   ],
   "source": [
    "Customer.display_all_customers()"
   ]
  },
  {
   "cell_type": "markdown",
   "metadata": {},
   "source": [
    "#### Transactional data\n",
    "Generate random transactional data for each store"
   ]
  },
  {
   "cell_type": "code",
   "execution_count": 52,
   "metadata": {},
   "outputs": [],
   "source": [
    "def generate_gaussian_value(mean, std, floor):\n",
    "    \"\"\"\n",
    "    Generate a random value based on a Gaussian distribution.\n",
    "\n",
    "    :param mean: Mean of the Gaussian distribution.\n",
    "    :param std: Standard deviation of the Gaussian distribution.\n",
    "    :param floor: Minimum value (floor) for the generated value.\n",
    "    :return: A random value from the Gaussian distribution, floored at the specified minimum value.\n",
    "    \"\"\"\n",
    "    value = np.random.normal(loc=mean, scale=std)\n",
    "    return round(max(value, floor), 2)  # Round to 2 decimal places and ensure it's not below the floor value"
   ]
  },
  {
   "cell_type": "code",
   "execution_count": 53,
   "metadata": {},
   "outputs": [],
   "source": [
    "num_orders_per_customer = (3, 25)\n",
    "\n",
    "Order.all_orders = []  # Reset the class-level list to avoid duplicates\n",
    "\n",
    "for customer in Customer.all_customers:\n",
    "    num_orders = random.randint(*num_orders_per_customer)  # Randomly choose the number of orders for each customer\n",
    "    for _ in range(num_orders):\n",
    "        order_id = f\"{random.randint(0, 99999)}\"\n",
    "        order_date = f\"{random.randint(2021, 2024)}-{random.randint(1, 12):02d}-{random.randint(1, 28):02d}\"\n",
    "        order_subtotal = generate_gaussian_value(mean=30, std=10, floor=5)  # Generate a random order total\n",
    "        order_tax = np.round(order_subtotal * 0.0825,2)  # Assuming a tax rate of 8.25%\n",
    "        order_total = np.round(order_subtotal + order_tax,2)\n",
    "        Order.all_orders.append(Order(order_id, customer.CUSTOMER_ID, customer.HOMESTORE_ID, order_date, order_subtotal, order_tax, order_total))"
   ]
  },
  {
   "cell_type": "code",
   "execution_count": 54,
   "metadata": {},
   "outputs": [
    {
     "data": {
      "application/vnd.microsoft.datawrangler.viewer.v0+json": {
       "columns": [
        {
         "name": "index",
         "rawType": "int64",
         "type": "integer"
        },
        {
         "name": "ORDER_ID",
         "rawType": "object",
         "type": "string"
        },
        {
         "name": "CUSTOMER_ID",
         "rawType": "object",
         "type": "string"
        },
        {
         "name": "STORE_ID",
         "rawType": "int64",
         "type": "integer"
        },
        {
         "name": "ORDER_DATE",
         "rawType": "object",
         "type": "string"
        },
        {
         "name": "SUBTOTAL",
         "rawType": "float64",
         "type": "float"
        },
        {
         "name": "TAX",
         "rawType": "float64",
         "type": "float"
        },
        {
         "name": "TOTAL",
         "rawType": "float64",
         "type": "float"
        }
       ],
       "conversionMethod": "pd.DataFrame",
       "ref": "a0198ba2-2458-4983-80f1-738e6d65bb01",
       "rows": [
        [
         "0",
         "29570",
         "915",
         "3431",
         "2021-08-19",
         "20.46",
         "1.69",
         "22.15"
        ],
        [
         "1",
         "58260",
         "915",
         "3431",
         "2023-02-15",
         "23.33",
         "1.92",
         "25.25"
        ],
        [
         "2",
         "41196",
         "915",
         "3431",
         "2024-06-26",
         "11.24",
         "0.93",
         "12.17"
        ],
        [
         "3",
         "59530",
         "915",
         "3431",
         "2024-02-16",
         "33.19",
         "2.74",
         "35.93"
        ],
        [
         "4",
         "35746",
         "915",
         "3431",
         "2022-06-21",
         "16.67",
         "1.38",
         "18.05"
        ],
        [
         "5",
         "91222",
         "915",
         "3431",
         "2022-12-09",
         "29.3",
         "2.42",
         "31.72"
        ],
        [
         "6",
         "11388",
         "915",
         "3431",
         "2022-12-13",
         "33.16",
         "2.74",
         "35.9"
        ],
        [
         "7",
         "35441",
         "915",
         "3431",
         "2022-04-25",
         "33.49",
         "2.76",
         "36.25"
        ],
        [
         "8",
         "24423",
         "915",
         "3431",
         "2021-12-25",
         "20.81",
         "1.72",
         "22.53"
        ],
        [
         "9",
         "17466",
         "915",
         "3431",
         "2023-08-03",
         "31.53",
         "2.6",
         "34.13"
        ],
        [
         "10",
         "91553",
         "915",
         "3431",
         "2023-01-16",
         "44.99",
         "3.71",
         "48.7"
        ],
        [
         "11",
         "64754",
         "915",
         "3431",
         "2022-05-04",
         "25.01",
         "2.06",
         "27.07"
        ],
        [
         "12",
         "54932",
         "915",
         "3431",
         "2023-02-28",
         "26.01",
         "2.15",
         "28.16"
        ],
        [
         "13",
         "66589",
         "915",
         "3431",
         "2024-10-19",
         "39.14",
         "3.23",
         "42.37"
        ],
        [
         "14",
         "74899",
         "915",
         "3431",
         "2023-01-14",
         "35.31",
         "2.91",
         "38.22"
        ],
        [
         "15",
         "77174",
         "915",
         "3431",
         "2021-02-24",
         "22.37",
         "1.85",
         "24.22"
        ],
        [
         "16",
         "34775",
         "915",
         "3431",
         "2022-05-02",
         "35.62",
         "2.94",
         "38.56"
        ],
        [
         "17",
         "67981",
         "915",
         "3431",
         "2021-01-17",
         "22.44",
         "1.85",
         "24.29"
        ],
        [
         "18",
         "64069",
         "4218",
         "3431",
         "2024-12-24",
         "49.13",
         "4.05",
         "53.18"
        ],
        [
         "19",
         "86725",
         "4218",
         "3431",
         "2021-01-27",
         "31.8",
         "2.62",
         "34.42"
        ],
        [
         "20",
         "23228",
         "4218",
         "3431",
         "2022-10-17",
         "19.94",
         "1.65",
         "21.59"
        ],
        [
         "21",
         "4771",
         "4218",
         "3431",
         "2023-05-02",
         "24.66",
         "2.03",
         "26.69"
        ],
        [
         "22",
         "56758",
         "4218",
         "3431",
         "2024-08-24",
         "28.23",
         "2.33",
         "30.56"
        ],
        [
         "23",
         "30039",
         "4218",
         "3431",
         "2024-03-27",
         "29.35",
         "2.42",
         "31.77"
        ],
        [
         "24",
         "84158",
         "4218",
         "3431",
         "2022-08-26",
         "51.25",
         "4.23",
         "55.48"
        ],
        [
         "25",
         "9337",
         "4218",
         "3431",
         "2022-01-25",
         "35.99",
         "2.97",
         "38.96"
        ],
        [
         "26",
         "94432",
         "4218",
         "3431",
         "2021-03-21",
         "32.27",
         "2.66",
         "34.93"
        ],
        [
         "27",
         "75110",
         "4218",
         "3431",
         "2022-04-10",
         "9.42",
         "0.78",
         "10.2"
        ],
        [
         "28",
         "25794",
         "4218",
         "3431",
         "2022-06-05",
         "36.71",
         "3.03",
         "39.74"
        ],
        [
         "29",
         "59882",
         "4218",
         "3431",
         "2022-12-01",
         "21.41",
         "1.77",
         "23.18"
        ],
        [
         "30",
         "75792",
         "4218",
         "3431",
         "2024-01-21",
         "28.79",
         "2.38",
         "31.17"
        ],
        [
         "31",
         "6657",
         "4218",
         "3431",
         "2023-09-14",
         "22.65",
         "1.87",
         "24.52"
        ],
        [
         "32",
         "15841",
         "4218",
         "3431",
         "2021-10-23",
         "36.8",
         "3.04",
         "39.84"
        ],
        [
         "33",
         "16259",
         "4218",
         "3431",
         "2022-02-13",
         "44.57",
         "3.68",
         "48.25"
        ],
        [
         "34",
         "31300",
         "8825",
         "3431",
         "2022-10-16",
         "29.74",
         "2.45",
         "32.19"
        ],
        [
         "35",
         "69128",
         "8825",
         "3431",
         "2022-05-03",
         "20.04",
         "1.65",
         "21.69"
        ],
        [
         "36",
         "4805",
         "8825",
         "3431",
         "2022-06-11",
         "22.6",
         "1.86",
         "24.46"
        ],
        [
         "37",
         "51356",
         "8825",
         "3431",
         "2023-07-11",
         "50.15",
         "4.14",
         "54.29"
        ],
        [
         "38",
         "13455",
         "8825",
         "3431",
         "2023-02-19",
         "26.88",
         "2.22",
         "29.1"
        ],
        [
         "39",
         "9065",
         "8825",
         "3431",
         "2024-07-28",
         "17.01",
         "1.4",
         "18.41"
        ],
        [
         "40",
         "78057",
         "8825",
         "3431",
         "2023-08-14",
         "29.25",
         "2.41",
         "31.66"
        ],
        [
         "41",
         "44253",
         "8825",
         "3431",
         "2023-03-10",
         "39.58",
         "3.27",
         "42.85"
        ],
        [
         "42",
         "1434",
         "3041",
         "3431",
         "2024-08-03",
         "19.4",
         "1.6",
         "21.0"
        ],
        [
         "43",
         "29848",
         "3041",
         "3431",
         "2021-10-20",
         "7.76",
         "0.64",
         "8.4"
        ],
        [
         "44",
         "87465",
         "3041",
         "3431",
         "2023-03-13",
         "23.47",
         "1.94",
         "25.41"
        ],
        [
         "45",
         "94807",
         "3041",
         "3431",
         "2022-01-09",
         "33.61",
         "2.77",
         "36.38"
        ],
        [
         "46",
         "32105",
         "3041",
         "3431",
         "2021-01-08",
         "12.78",
         "1.05",
         "13.83"
        ],
        [
         "47",
         "75241",
         "3041",
         "3431",
         "2022-03-09",
         "36.78",
         "3.03",
         "39.81"
        ],
        [
         "48",
         "28231",
         "3041",
         "3431",
         "2023-12-07",
         "38.98",
         "3.22",
         "42.2"
        ],
        [
         "49",
         "77690",
         "6745",
         "3431",
         "2021-10-16",
         "38.09",
         "3.14",
         "41.23"
        ]
       ],
       "shape": {
        "columns": 7,
        "rows": 5048
       }
      },
      "text/html": [
       "<div>\n",
       "<style scoped>\n",
       "    .dataframe tbody tr th:only-of-type {\n",
       "        vertical-align: middle;\n",
       "    }\n",
       "\n",
       "    .dataframe tbody tr th {\n",
       "        vertical-align: top;\n",
       "    }\n",
       "\n",
       "    .dataframe thead th {\n",
       "        text-align: right;\n",
       "    }\n",
       "</style>\n",
       "<table border=\"1\" class=\"dataframe\">\n",
       "  <thead>\n",
       "    <tr style=\"text-align: right;\">\n",
       "      <th></th>\n",
       "      <th>ORDER_ID</th>\n",
       "      <th>CUSTOMER_ID</th>\n",
       "      <th>STORE_ID</th>\n",
       "      <th>ORDER_DATE</th>\n",
       "      <th>SUBTOTAL</th>\n",
       "      <th>TAX</th>\n",
       "      <th>TOTAL</th>\n",
       "    </tr>\n",
       "  </thead>\n",
       "  <tbody>\n",
       "    <tr>\n",
       "      <th>0</th>\n",
       "      <td>29570</td>\n",
       "      <td>915</td>\n",
       "      <td>3431</td>\n",
       "      <td>2021-08-19</td>\n",
       "      <td>20.46</td>\n",
       "      <td>1.69</td>\n",
       "      <td>22.15</td>\n",
       "    </tr>\n",
       "    <tr>\n",
       "      <th>1</th>\n",
       "      <td>58260</td>\n",
       "      <td>915</td>\n",
       "      <td>3431</td>\n",
       "      <td>2023-02-15</td>\n",
       "      <td>23.33</td>\n",
       "      <td>1.92</td>\n",
       "      <td>25.25</td>\n",
       "    </tr>\n",
       "    <tr>\n",
       "      <th>2</th>\n",
       "      <td>41196</td>\n",
       "      <td>915</td>\n",
       "      <td>3431</td>\n",
       "      <td>2024-06-26</td>\n",
       "      <td>11.24</td>\n",
       "      <td>0.93</td>\n",
       "      <td>12.17</td>\n",
       "    </tr>\n",
       "    <tr>\n",
       "      <th>3</th>\n",
       "      <td>59530</td>\n",
       "      <td>915</td>\n",
       "      <td>3431</td>\n",
       "      <td>2024-02-16</td>\n",
       "      <td>33.19</td>\n",
       "      <td>2.74</td>\n",
       "      <td>35.93</td>\n",
       "    </tr>\n",
       "    <tr>\n",
       "      <th>4</th>\n",
       "      <td>35746</td>\n",
       "      <td>915</td>\n",
       "      <td>3431</td>\n",
       "      <td>2022-06-21</td>\n",
       "      <td>16.67</td>\n",
       "      <td>1.38</td>\n",
       "      <td>18.05</td>\n",
       "    </tr>\n",
       "    <tr>\n",
       "      <th>...</th>\n",
       "      <td>...</td>\n",
       "      <td>...</td>\n",
       "      <td>...</td>\n",
       "      <td>...</td>\n",
       "      <td>...</td>\n",
       "      <td>...</td>\n",
       "      <td>...</td>\n",
       "    </tr>\n",
       "    <tr>\n",
       "      <th>5043</th>\n",
       "      <td>85661</td>\n",
       "      <td>9931</td>\n",
       "      <td>2510</td>\n",
       "      <td>2022-12-04</td>\n",
       "      <td>51.47</td>\n",
       "      <td>4.25</td>\n",
       "      <td>55.72</td>\n",
       "    </tr>\n",
       "    <tr>\n",
       "      <th>5044</th>\n",
       "      <td>7550</td>\n",
       "      <td>9931</td>\n",
       "      <td>2510</td>\n",
       "      <td>2023-03-27</td>\n",
       "      <td>29.09</td>\n",
       "      <td>2.40</td>\n",
       "      <td>31.49</td>\n",
       "    </tr>\n",
       "    <tr>\n",
       "      <th>5045</th>\n",
       "      <td>31965</td>\n",
       "      <td>9931</td>\n",
       "      <td>2510</td>\n",
       "      <td>2022-08-05</td>\n",
       "      <td>33.50</td>\n",
       "      <td>2.76</td>\n",
       "      <td>36.26</td>\n",
       "    </tr>\n",
       "    <tr>\n",
       "      <th>5046</th>\n",
       "      <td>6121</td>\n",
       "      <td>9931</td>\n",
       "      <td>2510</td>\n",
       "      <td>2022-01-12</td>\n",
       "      <td>28.57</td>\n",
       "      <td>2.36</td>\n",
       "      <td>30.93</td>\n",
       "    </tr>\n",
       "    <tr>\n",
       "      <th>5047</th>\n",
       "      <td>83450</td>\n",
       "      <td>9931</td>\n",
       "      <td>2510</td>\n",
       "      <td>2024-12-06</td>\n",
       "      <td>19.02</td>\n",
       "      <td>1.57</td>\n",
       "      <td>20.59</td>\n",
       "    </tr>\n",
       "  </tbody>\n",
       "</table>\n",
       "<p>5048 rows × 7 columns</p>\n",
       "</div>"
      ],
      "text/plain": [
       "     ORDER_ID CUSTOMER_ID  STORE_ID  ORDER_DATE  SUBTOTAL   TAX  TOTAL\n",
       "0       29570         915      3431  2021-08-19     20.46  1.69  22.15\n",
       "1       58260         915      3431  2023-02-15     23.33  1.92  25.25\n",
       "2       41196         915      3431  2024-06-26     11.24  0.93  12.17\n",
       "3       59530         915      3431  2024-02-16     33.19  2.74  35.93\n",
       "4       35746         915      3431  2022-06-21     16.67  1.38  18.05\n",
       "...       ...         ...       ...         ...       ...   ...    ...\n",
       "5043    85661        9931      2510  2022-12-04     51.47  4.25  55.72\n",
       "5044     7550        9931      2510  2023-03-27     29.09  2.40  31.49\n",
       "5045    31965        9931      2510  2022-08-05     33.50  2.76  36.26\n",
       "5046     6121        9931      2510  2022-01-12     28.57  2.36  30.93\n",
       "5047    83450        9931      2510  2024-12-06     19.02  1.57  20.59\n",
       "\n",
       "[5048 rows x 7 columns]"
      ]
     },
     "execution_count": 54,
     "metadata": {},
     "output_type": "execute_result"
    }
   ],
   "source": [
    "Order.display_all_orders()"
   ]
  },
  {
   "cell_type": "markdown",
   "metadata": {},
   "source": [
    "### Push Data to SnowFlake"
   ]
  },
  {
   "cell_type": "code",
   "execution_count": 55,
   "metadata": {},
   "outputs": [],
   "source": [
    "from dotenv import load_dotenv\n",
    "import os\n",
    "\n",
    "load_dotenv()\n",
    "SF_USER = os.getenv(\"SF_USER\")\n",
    "SF_PASSWORD = os.getenv(\"SF_PASSWORD\")\n",
    "SF_ACCOUNT = os.getenv(\"SF_ACCOUNT\")"
   ]
  },
  {
   "cell_type": "code",
   "execution_count": 56,
   "metadata": {},
   "outputs": [],
   "source": [
    "from snowflake.snowpark import Session\n",
    "from snowflake.snowpark import functions as SF\n",
    "\n",
    "connection_parameters = {\n",
    "  \"account\": SF_ACCOUNT,\n",
    "  \"user\": SF_USER,\n",
    "  \"password\": SF_PASSWORD,\n",
    "}\n",
    "new_session = Session.builder.configs(connection_parameters).create()"
   ]
  },
  {
   "cell_type": "code",
   "execution_count": 57,
   "metadata": {},
   "outputs": [],
   "source": [
    "new_db = \"PANUCCIS_PIZZA\"\n",
    "new_schema = \"POS_MAIN\"\n",
    "new_WH = \"PANUCCIS_PIZZA_WH\"\n",
    "table_stores = \"STORES\"\n",
    "table_customers = \"CUSTOMERS\"\n",
    "table_orders = \"ORDERS_HEADER\""
   ]
  },
  {
   "cell_type": "code",
   "execution_count": 58,
   "metadata": {},
   "outputs": [
    {
     "data": {
      "text/plain": [
       "[Row(status='Schema POS_MAIN successfully created.')]"
      ]
     },
     "execution_count": 58,
     "metadata": {},
     "output_type": "execute_result"
    }
   ],
   "source": [
    "# create warehouse\n",
    "new_session.sql(f\"\"\"\n",
    "                CREATE WAREHOUSE if not exists {new_WH}\n",
    "                WITH\n",
    "                WAREHOUSE_SIZE = XSMALL\n",
    "                AUTO_SUSPEND = 30\n",
    "                INITIALLY_SUSPENDED = TRUE\n",
    "                COMMENT = 'WH TO DO TEST RUNS ON PANUCCIS PIZZA DB'\n",
    "                \"\"\").collect()\n",
    "\n",
    "new_session.use_warehouse(f\"{new_WH}\")\n",
    "\n",
    "# create the Panuccis Database\n",
    "new_session.sql(f'CREATE OR REPLACE DATABASE {new_db};').collect()\n",
    "\n",
    "# create the Panuccis PoS Main Schema\n",
    "new_session.sql(f'CREATE OR REPLACE SCHEMA {new_db}.{new_schema};').collect()"
   ]
  },
  {
   "cell_type": "code",
   "execution_count": 59,
   "metadata": {},
   "outputs": [],
   "source": [
    "# Convert customer data to a pandas DataFrame\n",
    "customer_df = Customer.display_all_customers()\n",
    "orders_df = Order.display_all_orders().sort_values(by='ORDER_DATE', ascending=False)\n",
    "store_df = Store.display_all_stores()\n",
    "\n",
    "# Add the first order date for each customer\n",
    "first_order_dates = orders_df.groupby(['CUSTOMER_ID'])[['ORDER_DATE']].min().rename(columns={'ORDER_DATE':'FIRST_ORDER_DATE'})\n",
    "customer_df = customer_df.join(first_order_dates, on='CUSTOMER_ID', how='left')\n",
    "\n",
    "\n",
    "customer_df = customer_df.sort_values(by='FIRST_ORDER_DATE', ascending=False)"
   ]
  },
  {
   "cell_type": "code",
   "execution_count": 60,
   "metadata": {},
   "outputs": [],
   "source": [
    "from snowflake.snowpark.types import StructType, StructField, StringType, FloatType, IntegerType, DateType\n",
    "\n",
    "# Create a Snowpark DataFrame from the pandas DataFrame\n",
    "schema = StructType([\n",
    "    StructField(\"CUSTOMER_ID\", StringType()),\n",
    "    StructField(\"LATITUDE\", FloatType()),\n",
    "    StructField(\"LONGITUDE\", FloatType()),\n",
    "    StructField(\"FIRSTNAME\", StringType()),\n",
    "    StructField(\"LASTNAME\", StringType()),\n",
    "    StructField(\"HOMESTORE_ID\", IntegerType()),\n",
    "    StructField(\"FIRST_ORDER_DATE\", DateType())\n",
    "])\n",
    "# Write the data to the Snowflake table\n",
    "snowpark_customer_df = new_session.create_dataframe(customer_df.to_records(index=False).tolist(), \n",
    "                                                    schema=schema)\n",
    "snowpark_customer_df.write.mode(\"overwrite\").save_as_table(f\"{new_db}.{new_schema}.{table_customers}\")\n",
    "\n",
    "\n",
    "\n",
    "\n",
    "# Define the schema for the store data\n",
    "schema = StructType([\n",
    "    StructField(\"STORE_ID\", IntegerType()),\n",
    "    StructField(\"LATITUDE\", FloatType()),\n",
    "    StructField(\"LONGITUDE\", FloatType()),\n",
    "    StructField(\"STORE_NAME\", StringType()),\n",
    "    StructField(\"OPENDT\", DateType())\n",
    "])\n",
    "# Write the data to the Snowflake table\n",
    "snowpark_store_df = new_session.create_dataframe(store_df.to_records(index=False).tolist(), \n",
    "                                                 schema=schema)\n",
    "snowpark_store_df.write.mode(\"overwrite\").save_as_table(f\"{new_db}.{new_schema}.{table_stores}\")\n",
    "\n",
    "\n",
    "\n",
    "\n",
    "# Define the schema for the orders data\n",
    "schema = StructType([\n",
    "    StructField(\"ORDER_ID\", StringType()),\n",
    "    StructField(\"CUSTOMER_ID\", StringType()),\n",
    "    StructField(\"STORE_ID\", IntegerType()),\n",
    "    StructField(\"ORDER_DATE\", DateType()),\n",
    "    StructField(\"SUBTOTAL\", FloatType()),\n",
    "    StructField(\"TAX\", FloatType()),\n",
    "    StructField(\"TOTAL\", FloatType()),\n",
    "])\n",
    "\n",
    "# Write the data to the Snowflake table\n",
    "snowpark_orders_df = new_session.create_dataframe(orders_df.to_records(index=False).tolist(), \n",
    "                                                  schema=schema)\n",
    "snowpark_orders_df.write.mode(\"overwrite\").save_as_table(f\"{new_db}.{new_schema}.{table_orders}\")"
   ]
  },
  {
   "cell_type": "markdown",
   "metadata": {},
   "source": [
    "#### Snowflake CleanUp\n",
    "When done with the exercise use the following code to clean up your snowflake enviornment"
   ]
  },
  {
   "cell_type": "code",
   "execution_count": 61,
   "metadata": {},
   "outputs": [],
   "source": [
    "# new_session.sql(f\"DROP TABLE IF EXISTS {new_db}.{new_schema}.{table_stores};\").collect()\n",
    "# new_session.sql(f\"DROP TABLE IF EXISTS {new_db}.{new_schema}.{table_customers};\").collect()\n",
    "# new_session.sql(f\"DROP TABLE IF EXISTS {new_db}.{new_schema}.{table_orders};\").collect()\n",
    "# new_session.sql(f\"DROP SCHEMA IF EXISTS {new_db}.{new_schema};\").collect()\n",
    "# new_session.sql(f\"DROP DATABASE IF EXISTS {new_db};\").collect()\n",
    "# new_session.sql(f\"DROP WAREHOUSE IF EXISTS {new_WH};\").collect()"
   ]
  },
  {
   "cell_type": "code",
   "execution_count": 62,
   "metadata": {},
   "outputs": [],
   "source": [
    "new_session.close()"
   ]
  }
 ],
 "metadata": {
  "kernelspec": {
   "display_name": ".venv",
   "language": "python",
   "name": "python3"
  },
  "language_info": {
   "codemirror_mode": {
    "name": "ipython",
    "version": 3
   },
   "file_extension": ".py",
   "mimetype": "text/x-python",
   "name": "python",
   "nbconvert_exporter": "python",
   "pygments_lexer": "ipython3",
   "version": "3.12.9"
  }
 },
 "nbformat": 4,
 "nbformat_minor": 2
}
